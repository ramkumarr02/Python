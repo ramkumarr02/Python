{
 "cells": [
  {
   "cell_type": "code",
   "execution_count": 1,
   "metadata": {},
   "outputs": [],
   "source": [
    "import re\n",
    "import pandas as pd \n",
    "import numpy as np \n",
    "import string\n",
    "import nltk\n",
    "import os\n",
    "import warnings \n",
    "warnings.filterwarnings(\"ignore\", category=DeprecationWarning)\n",
    "from sklearn import tree\n",
    "from sklearn import model_selection, preprocessing, linear_model, naive_bayes, metrics, svm\n",
    "from sklearn.feature_extraction.text import TfidfVectorizer, CountVectorizer\n",
    "from sklearn import decomposition, ensemble\n",
    "from matplotlib import * \n",
    "import pickle\n"
   ]
  },
  {
   "cell_type": "code",
   "execution_count": 7,
   "metadata": {},
   "outputs": [],
   "source": [
    "loaded_model = pickle.load(open('finalized_train_model.sav', 'rb'))\n",
    "loaded_model_tfidf_ngram = pickle.load(open('tfidf_train_model.sav', 'rb'))"
   ]
  },
  {
   "cell_type": "code",
   "execution_count": 8,
   "metadata": {
    "scrolled": true
   },
   "outputs": [
    {
     "name": "stdout",
     "output_type": "stream",
     "text": [
      "loaded Model is: \n",
      " MultinomialNB(alpha=1.0, class_prior=None, fit_prior=True)\n",
      "\n",
      "loaded tfidif model is: \n",
      " TfidfVectorizer(analyzer='word', binary=False, decode_error='strict',\n",
      "        dtype=<class 'numpy.int64'>, encoding='utf-8', input='content',\n",
      "        lowercase=True, max_df=1.0, max_features=5000, min_df=1,\n",
      "        ngram_range=(2, 3), norm='l2', preprocessor=None, smooth_idf=True,\n",
      "        stop_words=None, strip_accents=None, sublinear_tf=False,\n",
      "        token_pattern='\\\\w{1,}', tokenizer=None, use_idf=True,\n",
      "        vocabulary=None)\n"
     ]
    }
   ],
   "source": [
    "print(\"loaded Model is: \\n\",loaded_model )\n",
    "\n",
    "print(\"\\nloaded tfidif model is: \\n\" , loaded_model_tfidf_ngram)"
   ]
  },
  {
   "cell_type": "code",
   "execution_count": 9,
   "metadata": {},
   "outputs": [],
   "source": [
    "lines=[]\n",
    "filename = []\n",
    "\n",
    "inputdir = \"C:\\\\Users\\\\vk00595236\\\\Documents\\\\DataScience\\\\Log Analytics\\\\log files\\\\log files\\\\test\\\\\"\n",
    "filelist = os.listdir(inputdir)\n",
    "for i in filelist:\n",
    "    infile=inputdir+i\n",
    "    openFile = open(infile, 'r')\n",
    "    lines.append(openFile.read())\n",
    "    filename.append(i)\n",
    "    #print(filelist)\n",
    "   "
   ]
  },
  {
   "cell_type": "code",
   "execution_count": 10,
   "metadata": {},
   "outputs": [],
   "source": [
    "df_test=pd.DataFrame({'lines':lines,'filename':filename})\n",
    "df_test['clean_line'] = df_test['lines'].str.replace(\"[^a-zA-Z0-9]\", \" \")\n",
    "df_test['clean_line'] = df_test['clean_line'].apply(lambda x: ' '.join([w for w in x.split() if len(w)>3]))"
   ]
  },
  {
   "cell_type": "code",
   "execution_count": 11,
   "metadata": {},
   "outputs": [],
   "source": [
    "xtest_tfidf_ngram =  loaded_model_tfidf_ngram.transform(df_test['clean_line'])\n",
    "predictions_NB_Ngram_Test = loaded_model.predict(xtest_tfidf_ngram)"
   ]
  },
  {
   "cell_type": "code",
   "execution_count": 12,
   "metadata": {},
   "outputs": [],
   "source": [
    "df_test_predictions = pd.DataFrame({'Predictions':predictions_NB_Ngram_Test}) "
   ]
  },
  {
   "cell_type": "code",
   "execution_count": 13,
   "metadata": {},
   "outputs": [],
   "source": [
    "df_test_predictions['predicted_label'] = df_test_predictions['Predictions'].apply(lambda x: 'Localhost_access' if x== 0 else 'Localhost' if x == 1 \n",
    "                                                                   else 'catalina' if x==2 \n",
    "                                                                   else  'Informatica' if x==3 \n",
    "                                                                   else  'NaN'\n",
    "                                                                                                                                                                                    \n",
    "                                                             )"
   ]
  },
  {
   "cell_type": "code",
   "execution_count": 14,
   "metadata": {},
   "outputs": [],
   "source": [
    "df_test_predictions['actual_file_name'] = df_test['filename']"
   ]
  },
  {
   "cell_type": "code",
   "execution_count": 15,
   "metadata": {},
   "outputs": [
    {
     "data": {
      "text/html": [
       "<div>\n",
       "<style scoped>\n",
       "    .dataframe tbody tr th:only-of-type {\n",
       "        vertical-align: middle;\n",
       "    }\n",
       "\n",
       "    .dataframe tbody tr th {\n",
       "        vertical-align: top;\n",
       "    }\n",
       "\n",
       "    .dataframe thead th {\n",
       "        text-align: right;\n",
       "    }\n",
       "</style>\n",
       "<table border=\"1\" class=\"dataframe\">\n",
       "  <thead>\n",
       "    <tr style=\"text-align: right;\">\n",
       "      <th></th>\n",
       "      <th>Predictions</th>\n",
       "      <th>predicted_label</th>\n",
       "      <th>actual_file_name</th>\n",
       "    </tr>\n",
       "  </thead>\n",
       "  <tbody>\n",
       "    <tr>\n",
       "      <th>0</th>\n",
       "      <td>2</td>\n",
       "      <td>catalina</td>\n",
       "      <td>catalina.2018-11-12.log</td>\n",
       "    </tr>\n",
       "    <tr>\n",
       "      <th>1</th>\n",
       "      <td>2</td>\n",
       "      <td>catalina</td>\n",
       "      <td>catalina.2018-11-13.log</td>\n",
       "    </tr>\n",
       "    <tr>\n",
       "      <th>2</th>\n",
       "      <td>2</td>\n",
       "      <td>catalina</td>\n",
       "      <td>catalina.2018-11-21.log</td>\n",
       "    </tr>\n",
       "    <tr>\n",
       "      <th>3</th>\n",
       "      <td>2</td>\n",
       "      <td>catalina</td>\n",
       "      <td>catalina.2018-11-23.log</td>\n",
       "    </tr>\n",
       "    <tr>\n",
       "      <th>4</th>\n",
       "      <td>2</td>\n",
       "      <td>catalina</td>\n",
       "      <td>catalina.20180925_1.log</td>\n",
       "    </tr>\n",
       "    <tr>\n",
       "      <th>5</th>\n",
       "      <td>2</td>\n",
       "      <td>catalina</td>\n",
       "      <td>catalina_20181031_1.log</td>\n",
       "    </tr>\n",
       "    <tr>\n",
       "      <th>6</th>\n",
       "      <td>1</td>\n",
       "      <td>Localhost</td>\n",
       "      <td>localhost.2018-11-20.log</td>\n",
       "    </tr>\n",
       "    <tr>\n",
       "      <th>7</th>\n",
       "      <td>1</td>\n",
       "      <td>Localhost</td>\n",
       "      <td>localhost.2018-11-21.log</td>\n",
       "    </tr>\n",
       "    <tr>\n",
       "      <th>8</th>\n",
       "      <td>1</td>\n",
       "      <td>Localhost</td>\n",
       "      <td>localhost.2018-11-22.log</td>\n",
       "    </tr>\n",
       "    <tr>\n",
       "      <th>9</th>\n",
       "      <td>0</td>\n",
       "      <td>Localhost_access</td>\n",
       "      <td>localhost_access_log.2018-11-21.log</td>\n",
       "    </tr>\n",
       "    <tr>\n",
       "      <th>10</th>\n",
       "      <td>0</td>\n",
       "      <td>Localhost_access</td>\n",
       "      <td>localhost_access_log.2018-11-22.log</td>\n",
       "    </tr>\n",
       "    <tr>\n",
       "      <th>11</th>\n",
       "      <td>0</td>\n",
       "      <td>Localhost_access</td>\n",
       "      <td>localhost_access_log.2018-11-23.log</td>\n",
       "    </tr>\n",
       "    <tr>\n",
       "      <th>12</th>\n",
       "      <td>0</td>\n",
       "      <td>Localhost_access</td>\n",
       "      <td>localhost_access_log.2018-11-23.txt</td>\n",
       "    </tr>\n",
       "    <tr>\n",
       "      <th>13</th>\n",
       "      <td>3</td>\n",
       "      <td>Informatica</td>\n",
       "      <td>s_TEDW_BCC_MRD_CUST.log</td>\n",
       "    </tr>\n",
       "    <tr>\n",
       "      <th>14</th>\n",
       "      <td>3</td>\n",
       "      <td>Informatica</td>\n",
       "      <td>s_TEDW_WK_FR_LIST_XLS.log</td>\n",
       "    </tr>\n",
       "    <tr>\n",
       "      <th>15</th>\n",
       "      <td>3</td>\n",
       "      <td>Informatica</td>\n",
       "      <td>s_w_TEDW_COMPETITOR_PRICE.log</td>\n",
       "    </tr>\n",
       "    <tr>\n",
       "      <th>16</th>\n",
       "      <td>3</td>\n",
       "      <td>Informatica</td>\n",
       "      <td>s_w_TEDW_RPT_IPTV_ALL_OFFER_CNT_FILE.log</td>\n",
       "    </tr>\n",
       "    <tr>\n",
       "      <th>17</th>\n",
       "      <td>3</td>\n",
       "      <td>Informatica</td>\n",
       "      <td>s_w_TEDW_RPT_PR_DASHBOARD_WK.log</td>\n",
       "    </tr>\n",
       "  </tbody>\n",
       "</table>\n",
       "</div>"
      ],
      "text/plain": [
       "    Predictions   predicted_label                          actual_file_name\n",
       "0             2          catalina                   catalina.2018-11-12.log\n",
       "1             2          catalina                   catalina.2018-11-13.log\n",
       "2             2          catalina                   catalina.2018-11-21.log\n",
       "3             2          catalina                   catalina.2018-11-23.log\n",
       "4             2          catalina                   catalina.20180925_1.log\n",
       "5             2          catalina                   catalina_20181031_1.log\n",
       "6             1         Localhost                  localhost.2018-11-20.log\n",
       "7             1         Localhost                  localhost.2018-11-21.log\n",
       "8             1         Localhost                  localhost.2018-11-22.log\n",
       "9             0  Localhost_access       localhost_access_log.2018-11-21.log\n",
       "10            0  Localhost_access       localhost_access_log.2018-11-22.log\n",
       "11            0  Localhost_access       localhost_access_log.2018-11-23.log\n",
       "12            0  Localhost_access       localhost_access_log.2018-11-23.txt\n",
       "13            3       Informatica                   s_TEDW_BCC_MRD_CUST.log\n",
       "14            3       Informatica                 s_TEDW_WK_FR_LIST_XLS.log\n",
       "15            3       Informatica             s_w_TEDW_COMPETITOR_PRICE.log\n",
       "16            3       Informatica  s_w_TEDW_RPT_IPTV_ALL_OFFER_CNT_FILE.log\n",
       "17            3       Informatica          s_w_TEDW_RPT_PR_DASHBOARD_WK.log"
      ]
     },
     "execution_count": 15,
     "metadata": {},
     "output_type": "execute_result"
    }
   ],
   "source": [
    "df_test_predictions"
   ]
  },
  {
   "cell_type": "code",
   "execution_count": null,
   "metadata": {},
   "outputs": [],
   "source": []
  }
 ],
 "metadata": {
  "kernelspec": {
   "display_name": "Python 3",
   "language": "python",
   "name": "python3"
  },
  "language_info": {
   "codemirror_mode": {
    "name": "ipython",
    "version": 3
   },
   "file_extension": ".py",
   "mimetype": "text/x-python",
   "name": "python",
   "nbconvert_exporter": "python",
   "pygments_lexer": "ipython3",
   "version": "3.6.5"
  }
 },
 "nbformat": 4,
 "nbformat_minor": 2
}
