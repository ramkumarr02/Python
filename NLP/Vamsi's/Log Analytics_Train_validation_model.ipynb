{
 "cells": [
  {
   "cell_type": "code",
   "execution_count": 1,
   "metadata": {},
   "outputs": [],
   "source": [
    "import re\n",
    "import pandas as pd \n",
    "import numpy as np \n",
    "import string\n",
    "import nltk\n",
    "import os\n",
    "import warnings \n",
    "warnings.filterwarnings(\"ignore\", category=DeprecationWarning)\n",
    "from sklearn import tree\n",
    "from sklearn import model_selection, preprocessing, linear_model, naive_bayes, metrics, svm\n",
    "from sklearn.feature_extraction.text import TfidfVectorizer, CountVectorizer\n",
    "from sklearn import decomposition, ensemble\n",
    "from matplotlib import * \n",
    "import pickle\n",
    "\n",
    "#import pandas, xgboost, numpy, textblob, string\n",
    "#from keras.preprocessing import text, sequence\n",
    "#from keras import layers, models, optimizers"
   ]
  },
  {
   "cell_type": "markdown",
   "metadata": {},
   "source": [
    "### localhost_access"
   ]
  },
  {
   "cell_type": "code",
   "execution_count": 2,
   "metadata": {},
   "outputs": [],
   "source": [
    "lines=[]\n",
    "filename = []"
   ]
  },
  {
   "cell_type": "code",
   "execution_count": 3,
   "metadata": {
    "scrolled": false
   },
   "outputs": [],
   "source": [
    "inputdir = \"C:\\\\Users\\\\vk00595236\\\\Documents\\\\DataScience\\\\Log Analytics\\\\log files\\\\log files\\\\Tomcat\\\\localhost_access\\\\\"\n",
    "filelist = os.listdir(inputdir)\n",
    "for i in filelist:\n",
    "    infile=inputdir+i\n",
    "    openFile = open(infile, 'r')\n",
    "    lines.append(openFile.read())\n",
    "    filename.append(i)\n",
    "    #print(filelist)\n",
    "   \n",
    "    "
   ]
  },
  {
   "cell_type": "code",
   "execution_count": 4,
   "metadata": {},
   "outputs": [],
   "source": [
    "df_localhost_access=pd.DataFrame({'lines':lines,'filename':filename})"
   ]
  },
  {
   "cell_type": "code",
   "execution_count": 5,
   "metadata": {},
   "outputs": [
    {
     "data": {
      "text/html": [
       "<div>\n",
       "<style scoped>\n",
       "    .dataframe tbody tr th:only-of-type {\n",
       "        vertical-align: middle;\n",
       "    }\n",
       "\n",
       "    .dataframe tbody tr th {\n",
       "        vertical-align: top;\n",
       "    }\n",
       "\n",
       "    .dataframe thead th {\n",
       "        text-align: right;\n",
       "    }\n",
       "</style>\n",
       "<table border=\"1\" class=\"dataframe\">\n",
       "  <thead>\n",
       "    <tr style=\"text-align: right;\">\n",
       "      <th></th>\n",
       "      <th>lines</th>\n",
       "      <th>filename</th>\n",
       "    </tr>\n",
       "  </thead>\n",
       "  <tbody>\n",
       "    <tr>\n",
       "      <th>0</th>\n",
       "      <td>0:0:0:0:0:0:0:1 - - [18/Mar/2015:09:51:32 +053...</td>\n",
       "      <td>localhost_access_log.2015-03-18.txt</td>\n",
       "    </tr>\n",
       "    <tr>\n",
       "      <th>1</th>\n",
       "      <td>10.23.225.247 - - [24/Mar/2015:12:40:00 +0530]...</td>\n",
       "      <td>localhost_access_log.2015-03-24.txt</td>\n",
       "    </tr>\n",
       "    <tr>\n",
       "      <th>2</th>\n",
       "      <td>10.23.225.247 - - [25/Mar/2015:12:15:07 +0530]...</td>\n",
       "      <td>localhost_access_log.2015-03-25.txt</td>\n",
       "    </tr>\n",
       "    <tr>\n",
       "      <th>3</th>\n",
       "      <td>172.16.192.94 - - [26/Mar/2015:00:08:32 +0530]...</td>\n",
       "      <td>localhost_access_log.2015-03-26.txt</td>\n",
       "    </tr>\n",
       "    <tr>\n",
       "      <th>4</th>\n",
       "      <td>10.23.225.168 - - [28/Mar/2015:10:29:08 +0530]...</td>\n",
       "      <td>localhost_access_log.2015-03-28.txt</td>\n",
       "    </tr>\n",
       "    <tr>\n",
       "      <th>5</th>\n",
       "      <td>10.23.227.11 - - [31/Mar/2015:01:06:43 +0530] ...</td>\n",
       "      <td>localhost_access_log.2015-03-31.txt</td>\n",
       "    </tr>\n",
       "    <tr>\n",
       "      <th>6</th>\n",
       "      <td>172.19.132.26 - - [01/Apr/2015:09:26:25 +0530]...</td>\n",
       "      <td>localhost_access_log.2015-04-01.txt</td>\n",
       "    </tr>\n",
       "    <tr>\n",
       "      <th>7</th>\n",
       "      <td>10.53.99.12 - - [07/Apr/2015:12:19:23 +0530] \"...</td>\n",
       "      <td>localhost_access_log.2015-04-07.txt</td>\n",
       "    </tr>\n",
       "    <tr>\n",
       "      <th>8</th>\n",
       "      <td>10.53.50.32 - - [09/Apr/2015:09:46:50 +0530] \"...</td>\n",
       "      <td>localhost_access_log.2015-04-09.txt</td>\n",
       "    </tr>\n",
       "    <tr>\n",
       "      <th>9</th>\n",
       "      <td>10.53.50.151 - - [16/Apr/2015:10:16:22 +0530] ...</td>\n",
       "      <td>localhost_access_log.2015-04-16.txt</td>\n",
       "    </tr>\n",
       "    <tr>\n",
       "      <th>10</th>\n",
       "      <td>10.53.50.151 - - [17/Apr/2015:10:16:28 +0530] ...</td>\n",
       "      <td>localhost_access_log.2015-04-17.txt</td>\n",
       "    </tr>\n",
       "    <tr>\n",
       "      <th>11</th>\n",
       "      <td>10.53.50.151 - - [20/Apr/2015:10:16:21 +0530] ...</td>\n",
       "      <td>localhost_access_log.2015-04-20.txt</td>\n",
       "    </tr>\n",
       "    <tr>\n",
       "      <th>12</th>\n",
       "      <td>10.56.161.93 - - [22/Apr/2015:08:41:51 +0530] ...</td>\n",
       "      <td>localhost_access_log.2015-04-22.txt</td>\n",
       "    </tr>\n",
       "    <tr>\n",
       "      <th>13</th>\n",
       "      <td>172.16.192.94 - - [28/Apr/2015:03:07:50 +0530]...</td>\n",
       "      <td>localhost_access_log.2015-04-28.txt</td>\n",
       "    </tr>\n",
       "    <tr>\n",
       "      <th>14</th>\n",
       "      <td>10.53.254.13 - - [29/Apr/2015:11:56:53 +0530] ...</td>\n",
       "      <td>localhost_access_log.2015-04-29.txt</td>\n",
       "    </tr>\n",
       "    <tr>\n",
       "      <th>15</th>\n",
       "      <td>172.17.2.111 - - [30/Apr/2015:11:27:04 +0530] ...</td>\n",
       "      <td>localhost_access_log.2015-04-30.txt</td>\n",
       "    </tr>\n",
       "    <tr>\n",
       "      <th>16</th>\n",
       "      <td>172.17.1.150 - - [04/May/2015:10:02:58 +0530] ...</td>\n",
       "      <td>localhost_access_log.2015-05-04.txt</td>\n",
       "    </tr>\n",
       "    <tr>\n",
       "      <th>17</th>\n",
       "      <td>10.53.50.50 - - [06/May/2015:09:41:14 +0530] \"...</td>\n",
       "      <td>localhost_access_log.2015-05-06.txt</td>\n",
       "    </tr>\n",
       "    <tr>\n",
       "      <th>18</th>\n",
       "      <td>10.53.254.7 - - [07/May/2015:12:52:53 +0530] \"...</td>\n",
       "      <td>localhost_access_log.2015-05-07.txt</td>\n",
       "    </tr>\n",
       "    <tr>\n",
       "      <th>19</th>\n",
       "      <td>172.16.192.94 - - [12/May/2015:05:29:22 +0530]...</td>\n",
       "      <td>localhost_access_log.2015-05-12.txt</td>\n",
       "    </tr>\n",
       "    <tr>\n",
       "      <th>20</th>\n",
       "      <td>172.16.192.94 - - [13/May/2015:05:36:57 +0530]...</td>\n",
       "      <td>localhost_access_log.2015-05-13.txt</td>\n",
       "    </tr>\n",
       "    <tr>\n",
       "      <th>21</th>\n",
       "      <td>172.16.192.94 - - [15/May/2015:05:14:10 +0530]...</td>\n",
       "      <td>localhost_access_log.2015-05-15.txt</td>\n",
       "    </tr>\n",
       "    <tr>\n",
       "      <th>22</th>\n",
       "      <td>10.56.160.44 - - [19/May/2015:09:36:36 +0530] ...</td>\n",
       "      <td>localhost_access_log.2015-05-19.txt</td>\n",
       "    </tr>\n",
       "    <tr>\n",
       "      <th>23</th>\n",
       "      <td>10.53.254.5 - - [20/May/2015:09:09:03 +0530] \"...</td>\n",
       "      <td>localhost_access_log.2015-05-20.txt</td>\n",
       "    </tr>\n",
       "    <tr>\n",
       "      <th>24</th>\n",
       "      <td>10.53.50.50 - - [21/May/2015:09:39:58 +0530] \"...</td>\n",
       "      <td>localhost_access_log.2015-05-21.txt</td>\n",
       "    </tr>\n",
       "    <tr>\n",
       "      <th>25</th>\n",
       "      <td>172.16.192.94 - - [25/May/2015:02:09:43 +0530]...</td>\n",
       "      <td>localhost_access_log.2015-05-25.txt</td>\n",
       "    </tr>\n",
       "    <tr>\n",
       "      <th>26</th>\n",
       "      <td>172.16.192.94 - - [26/May/2015:02:12:50 +0530]...</td>\n",
       "      <td>localhost_access_log.2015-05-26.txt</td>\n",
       "    </tr>\n",
       "    <tr>\n",
       "      <th>27</th>\n",
       "      <td>172.16.192.94 - - [28/May/2015:02:40:59 +0530]...</td>\n",
       "      <td>localhost_access_log.2015-05-28.txt</td>\n",
       "    </tr>\n",
       "    <tr>\n",
       "      <th>28</th>\n",
       "      <td>172.16.192.94 - - [29/May/2015:02:48:47 +0530]...</td>\n",
       "      <td>localhost_access_log.2015-05-29.txt</td>\n",
       "    </tr>\n",
       "    <tr>\n",
       "      <th>29</th>\n",
       "      <td>10.53.50.77 - - [03/Jun/2015:11:56:39 +0530] \"...</td>\n",
       "      <td>localhost_access_log.2015-06-03.txt</td>\n",
       "    </tr>\n",
       "    <tr>\n",
       "      <th>...</th>\n",
       "      <td>...</td>\n",
       "      <td>...</td>\n",
       "    </tr>\n",
       "    <tr>\n",
       "      <th>45</th>\n",
       "      <td>172.16.192.94 - - [26/Aug/2015:02:48:51 +0530]...</td>\n",
       "      <td>localhost_access_log.2015-08-26.txt</td>\n",
       "    </tr>\n",
       "    <tr>\n",
       "      <th>46</th>\n",
       "      <td>172.16.192.94 - - [31/Aug/2015:05:09:17 +0530]...</td>\n",
       "      <td>localhost_access_log.2015-08-31.txt</td>\n",
       "    </tr>\n",
       "    <tr>\n",
       "      <th>47</th>\n",
       "      <td>172.16.192.94 - - [01/Sep/2015:05:25:18 +0530]...</td>\n",
       "      <td>localhost_access_log.2015-09-01.txt</td>\n",
       "    </tr>\n",
       "    <tr>\n",
       "      <th>48</th>\n",
       "      <td>172.16.192.94 - - [28/Sep/2015:00:04:33 +0530]...</td>\n",
       "      <td>localhost_access_log.2015-09-28.txt</td>\n",
       "    </tr>\n",
       "    <tr>\n",
       "      <th>49</th>\n",
       "      <td>172.19.82.9 - - [03/Dec/2015:10:36:46 +0530] \"...</td>\n",
       "      <td>localhost_access_log.2015-12-03.txt</td>\n",
       "    </tr>\n",
       "    <tr>\n",
       "      <th>50</th>\n",
       "      <td>172.16.192.94 - - [04/Jan/2016:01:25:19 +0530]...</td>\n",
       "      <td>localhost_access_log.2016-01-04.txt</td>\n",
       "    </tr>\n",
       "    <tr>\n",
       "      <th>51</th>\n",
       "      <td>172.19.82.133 - - [03/May/2016:10:23:42 +0530]...</td>\n",
       "      <td>localhost_access_log.2016-05-03.txt</td>\n",
       "    </tr>\n",
       "    <tr>\n",
       "      <th>52</th>\n",
       "      <td>10.59.247.254 - - [25/May/2016:13:18:19 +0530]...</td>\n",
       "      <td>localhost_access_log.2016-05-25.txt</td>\n",
       "    </tr>\n",
       "    <tr>\n",
       "      <th>53</th>\n",
       "      <td>10.53.223.50 - - [02/Jun/2016:12:15:56 +0530] ...</td>\n",
       "      <td>localhost_access_log.2016-06-02.txt</td>\n",
       "    </tr>\n",
       "    <tr>\n",
       "      <th>54</th>\n",
       "      <td>172.16.192.94 - - [09/Jun/2016:10:17:59 +0530]...</td>\n",
       "      <td>localhost_access_log.2016-06-09.txt</td>\n",
       "    </tr>\n",
       "    <tr>\n",
       "      <th>55</th>\n",
       "      <td>172.19.84.52 - - [04/Jul/2016:09:54:18 +0530] ...</td>\n",
       "      <td>localhost_access_log.2016-07-04.txt</td>\n",
       "    </tr>\n",
       "    <tr>\n",
       "      <th>56</th>\n",
       "      <td>172.19.84.52 - - [05/Jul/2016:09:39:27 +0530] ...</td>\n",
       "      <td>localhost_access_log.2016-07-05.txt</td>\n",
       "    </tr>\n",
       "    <tr>\n",
       "      <th>57</th>\n",
       "      <td>172.16.192.94 - - [08/Jul/2016:14:09:18 +0530]...</td>\n",
       "      <td>localhost_access_log.2016-07-08.txt</td>\n",
       "    </tr>\n",
       "    <tr>\n",
       "      <th>58</th>\n",
       "      <td>10.59.254.3 - - [13/Sep/2016:19:44:58 +0530] \"...</td>\n",
       "      <td>localhost_access_log.2016-09-13.txt</td>\n",
       "    </tr>\n",
       "    <tr>\n",
       "      <th>59</th>\n",
       "      <td>172.16.192.94 - - [02/Nov/2016:01:11:25 +0530]...</td>\n",
       "      <td>localhost_access_log.2016-11-02.txt</td>\n",
       "    </tr>\n",
       "    <tr>\n",
       "      <th>60</th>\n",
       "      <td>172.16.192.94 - - [03/Nov/2016:01:14:45 +0530]...</td>\n",
       "      <td>localhost_access_log.2016-11-03.txt</td>\n",
       "    </tr>\n",
       "    <tr>\n",
       "      <th>61</th>\n",
       "      <td>172.16.192.94 - - [04/Nov/2016:01:18:28 +0530]...</td>\n",
       "      <td>localhost_access_log.2016-11-04.txt</td>\n",
       "    </tr>\n",
       "    <tr>\n",
       "      <th>62</th>\n",
       "      <td>10.53.223.50 - - [22/Dec/2016:11:27:38 +0530] ...</td>\n",
       "      <td>localhost_access_log.2016-12-22.txt</td>\n",
       "    </tr>\n",
       "    <tr>\n",
       "      <th>63</th>\n",
       "      <td>10.53.223.11 - - [19/Apr/2017:14:55:55 +0530] ...</td>\n",
       "      <td>localhost_access_log.2017-04-19.txt</td>\n",
       "    </tr>\n",
       "    <tr>\n",
       "      <th>64</th>\n",
       "      <td>10.53.50.58 - tomcat [25/Sep/2018:19:23:56 +05...</td>\n",
       "      <td>localhost_access_log.2018-09-25.log</td>\n",
       "    </tr>\n",
       "    <tr>\n",
       "      <th>65</th>\n",
       "      <td>10.53.50.58 - - [28/Sep/2018:11:21:21 +0530] \"...</td>\n",
       "      <td>localhost_access_log.2018-09-28.log</td>\n",
       "    </tr>\n",
       "    <tr>\n",
       "      <th>66</th>\n",
       "      <td>10.53.50.44 - - [01/Oct/2018:09:43:36 +0530] \"...</td>\n",
       "      <td>localhost_access_log.2018-10-01.log</td>\n",
       "    </tr>\n",
       "    <tr>\n",
       "      <th>67</th>\n",
       "      <td>10.53.50.58 - - [03/Oct/2018:10:08:54 +0530] \"...</td>\n",
       "      <td>localhost_access_log.2018-10-03.log</td>\n",
       "    </tr>\n",
       "    <tr>\n",
       "      <th>68</th>\n",
       "      <td>10.53.50.58 - - [04/Oct/2018:11:40:02 +0530] \"...</td>\n",
       "      <td>localhost_access_log.2018-10-04.log</td>\n",
       "    </tr>\n",
       "    <tr>\n",
       "      <th>69</th>\n",
       "      <td>10.53.50.58 - - [10/Oct/2018:17:33:47 +0530] \"...</td>\n",
       "      <td>localhost_access_log.2018-10-10.log</td>\n",
       "    </tr>\n",
       "    <tr>\n",
       "      <th>70</th>\n",
       "      <td>10.53.50.58 - - [31/Oct/2018:13:11:50 +0530] \"...</td>\n",
       "      <td>localhost_access_log.2018-10-31.txt</td>\n",
       "    </tr>\n",
       "    <tr>\n",
       "      <th>71</th>\n",
       "      <td>10.53.50.44 - - [08/Nov/2018:11:37:11 +0530] \"...</td>\n",
       "      <td>localhost_access_log.2018-11-08.txt</td>\n",
       "    </tr>\n",
       "    <tr>\n",
       "      <th>72</th>\n",
       "      <td>10.53.50.58 - - [12/Nov/2018:10:57:20 +0530] \"...</td>\n",
       "      <td>localhost_access_log.2018-11-12.log</td>\n",
       "    </tr>\n",
       "    <tr>\n",
       "      <th>73</th>\n",
       "      <td>10.53.50.58 - - [13/Nov/2018:09:25:00 +0530] \"...</td>\n",
       "      <td>localhost_access_log.2018-11-13.log</td>\n",
       "    </tr>\n",
       "    <tr>\n",
       "      <th>74</th>\n",
       "      <td>10.53.50.58 - - [20/Nov/2018:10:31:52 +0530] \"...</td>\n",
       "      <td>localhost_access_log.2018-11-20.log</td>\n",
       "    </tr>\n",
       "  </tbody>\n",
       "</table>\n",
       "<p>75 rows × 2 columns</p>\n",
       "</div>"
      ],
      "text/plain": [
       "                                                lines  \\\n",
       "0   0:0:0:0:0:0:0:1 - - [18/Mar/2015:09:51:32 +053...   \n",
       "1   10.23.225.247 - - [24/Mar/2015:12:40:00 +0530]...   \n",
       "2   10.23.225.247 - - [25/Mar/2015:12:15:07 +0530]...   \n",
       "3   172.16.192.94 - - [26/Mar/2015:00:08:32 +0530]...   \n",
       "4   10.23.225.168 - - [28/Mar/2015:10:29:08 +0530]...   \n",
       "5   10.23.227.11 - - [31/Mar/2015:01:06:43 +0530] ...   \n",
       "6   172.19.132.26 - - [01/Apr/2015:09:26:25 +0530]...   \n",
       "7   10.53.99.12 - - [07/Apr/2015:12:19:23 +0530] \"...   \n",
       "8   10.53.50.32 - - [09/Apr/2015:09:46:50 +0530] \"...   \n",
       "9   10.53.50.151 - - [16/Apr/2015:10:16:22 +0530] ...   \n",
       "10  10.53.50.151 - - [17/Apr/2015:10:16:28 +0530] ...   \n",
       "11  10.53.50.151 - - [20/Apr/2015:10:16:21 +0530] ...   \n",
       "12  10.56.161.93 - - [22/Apr/2015:08:41:51 +0530] ...   \n",
       "13  172.16.192.94 - - [28/Apr/2015:03:07:50 +0530]...   \n",
       "14  10.53.254.13 - - [29/Apr/2015:11:56:53 +0530] ...   \n",
       "15  172.17.2.111 - - [30/Apr/2015:11:27:04 +0530] ...   \n",
       "16  172.17.1.150 - - [04/May/2015:10:02:58 +0530] ...   \n",
       "17  10.53.50.50 - - [06/May/2015:09:41:14 +0530] \"...   \n",
       "18  10.53.254.7 - - [07/May/2015:12:52:53 +0530] \"...   \n",
       "19  172.16.192.94 - - [12/May/2015:05:29:22 +0530]...   \n",
       "20  172.16.192.94 - - [13/May/2015:05:36:57 +0530]...   \n",
       "21  172.16.192.94 - - [15/May/2015:05:14:10 +0530]...   \n",
       "22  10.56.160.44 - - [19/May/2015:09:36:36 +0530] ...   \n",
       "23  10.53.254.5 - - [20/May/2015:09:09:03 +0530] \"...   \n",
       "24  10.53.50.50 - - [21/May/2015:09:39:58 +0530] \"...   \n",
       "25  172.16.192.94 - - [25/May/2015:02:09:43 +0530]...   \n",
       "26  172.16.192.94 - - [26/May/2015:02:12:50 +0530]...   \n",
       "27  172.16.192.94 - - [28/May/2015:02:40:59 +0530]...   \n",
       "28  172.16.192.94 - - [29/May/2015:02:48:47 +0530]...   \n",
       "29  10.53.50.77 - - [03/Jun/2015:11:56:39 +0530] \"...   \n",
       "..                                                ...   \n",
       "45  172.16.192.94 - - [26/Aug/2015:02:48:51 +0530]...   \n",
       "46  172.16.192.94 - - [31/Aug/2015:05:09:17 +0530]...   \n",
       "47  172.16.192.94 - - [01/Sep/2015:05:25:18 +0530]...   \n",
       "48  172.16.192.94 - - [28/Sep/2015:00:04:33 +0530]...   \n",
       "49  172.19.82.9 - - [03/Dec/2015:10:36:46 +0530] \"...   \n",
       "50  172.16.192.94 - - [04/Jan/2016:01:25:19 +0530]...   \n",
       "51  172.19.82.133 - - [03/May/2016:10:23:42 +0530]...   \n",
       "52  10.59.247.254 - - [25/May/2016:13:18:19 +0530]...   \n",
       "53  10.53.223.50 - - [02/Jun/2016:12:15:56 +0530] ...   \n",
       "54  172.16.192.94 - - [09/Jun/2016:10:17:59 +0530]...   \n",
       "55  172.19.84.52 - - [04/Jul/2016:09:54:18 +0530] ...   \n",
       "56  172.19.84.52 - - [05/Jul/2016:09:39:27 +0530] ...   \n",
       "57  172.16.192.94 - - [08/Jul/2016:14:09:18 +0530]...   \n",
       "58  10.59.254.3 - - [13/Sep/2016:19:44:58 +0530] \"...   \n",
       "59  172.16.192.94 - - [02/Nov/2016:01:11:25 +0530]...   \n",
       "60  172.16.192.94 - - [03/Nov/2016:01:14:45 +0530]...   \n",
       "61  172.16.192.94 - - [04/Nov/2016:01:18:28 +0530]...   \n",
       "62  10.53.223.50 - - [22/Dec/2016:11:27:38 +0530] ...   \n",
       "63  10.53.223.11 - - [19/Apr/2017:14:55:55 +0530] ...   \n",
       "64  10.53.50.58 - tomcat [25/Sep/2018:19:23:56 +05...   \n",
       "65  10.53.50.58 - - [28/Sep/2018:11:21:21 +0530] \"...   \n",
       "66  10.53.50.44 - - [01/Oct/2018:09:43:36 +0530] \"...   \n",
       "67  10.53.50.58 - - [03/Oct/2018:10:08:54 +0530] \"...   \n",
       "68  10.53.50.58 - - [04/Oct/2018:11:40:02 +0530] \"...   \n",
       "69  10.53.50.58 - - [10/Oct/2018:17:33:47 +0530] \"...   \n",
       "70  10.53.50.58 - - [31/Oct/2018:13:11:50 +0530] \"...   \n",
       "71  10.53.50.44 - - [08/Nov/2018:11:37:11 +0530] \"...   \n",
       "72  10.53.50.58 - - [12/Nov/2018:10:57:20 +0530] \"...   \n",
       "73  10.53.50.58 - - [13/Nov/2018:09:25:00 +0530] \"...   \n",
       "74  10.53.50.58 - - [20/Nov/2018:10:31:52 +0530] \"...   \n",
       "\n",
       "                               filename  \n",
       "0   localhost_access_log.2015-03-18.txt  \n",
       "1   localhost_access_log.2015-03-24.txt  \n",
       "2   localhost_access_log.2015-03-25.txt  \n",
       "3   localhost_access_log.2015-03-26.txt  \n",
       "4   localhost_access_log.2015-03-28.txt  \n",
       "5   localhost_access_log.2015-03-31.txt  \n",
       "6   localhost_access_log.2015-04-01.txt  \n",
       "7   localhost_access_log.2015-04-07.txt  \n",
       "8   localhost_access_log.2015-04-09.txt  \n",
       "9   localhost_access_log.2015-04-16.txt  \n",
       "10  localhost_access_log.2015-04-17.txt  \n",
       "11  localhost_access_log.2015-04-20.txt  \n",
       "12  localhost_access_log.2015-04-22.txt  \n",
       "13  localhost_access_log.2015-04-28.txt  \n",
       "14  localhost_access_log.2015-04-29.txt  \n",
       "15  localhost_access_log.2015-04-30.txt  \n",
       "16  localhost_access_log.2015-05-04.txt  \n",
       "17  localhost_access_log.2015-05-06.txt  \n",
       "18  localhost_access_log.2015-05-07.txt  \n",
       "19  localhost_access_log.2015-05-12.txt  \n",
       "20  localhost_access_log.2015-05-13.txt  \n",
       "21  localhost_access_log.2015-05-15.txt  \n",
       "22  localhost_access_log.2015-05-19.txt  \n",
       "23  localhost_access_log.2015-05-20.txt  \n",
       "24  localhost_access_log.2015-05-21.txt  \n",
       "25  localhost_access_log.2015-05-25.txt  \n",
       "26  localhost_access_log.2015-05-26.txt  \n",
       "27  localhost_access_log.2015-05-28.txt  \n",
       "28  localhost_access_log.2015-05-29.txt  \n",
       "29  localhost_access_log.2015-06-03.txt  \n",
       "..                                  ...  \n",
       "45  localhost_access_log.2015-08-26.txt  \n",
       "46  localhost_access_log.2015-08-31.txt  \n",
       "47  localhost_access_log.2015-09-01.txt  \n",
       "48  localhost_access_log.2015-09-28.txt  \n",
       "49  localhost_access_log.2015-12-03.txt  \n",
       "50  localhost_access_log.2016-01-04.txt  \n",
       "51  localhost_access_log.2016-05-03.txt  \n",
       "52  localhost_access_log.2016-05-25.txt  \n",
       "53  localhost_access_log.2016-06-02.txt  \n",
       "54  localhost_access_log.2016-06-09.txt  \n",
       "55  localhost_access_log.2016-07-04.txt  \n",
       "56  localhost_access_log.2016-07-05.txt  \n",
       "57  localhost_access_log.2016-07-08.txt  \n",
       "58  localhost_access_log.2016-09-13.txt  \n",
       "59  localhost_access_log.2016-11-02.txt  \n",
       "60  localhost_access_log.2016-11-03.txt  \n",
       "61  localhost_access_log.2016-11-04.txt  \n",
       "62  localhost_access_log.2016-12-22.txt  \n",
       "63  localhost_access_log.2017-04-19.txt  \n",
       "64  localhost_access_log.2018-09-25.log  \n",
       "65  localhost_access_log.2018-09-28.log  \n",
       "66  localhost_access_log.2018-10-01.log  \n",
       "67  localhost_access_log.2018-10-03.log  \n",
       "68  localhost_access_log.2018-10-04.log  \n",
       "69  localhost_access_log.2018-10-10.log  \n",
       "70  localhost_access_log.2018-10-31.txt  \n",
       "71  localhost_access_log.2018-11-08.txt  \n",
       "72  localhost_access_log.2018-11-12.log  \n",
       "73  localhost_access_log.2018-11-13.log  \n",
       "74  localhost_access_log.2018-11-20.log  \n",
       "\n",
       "[75 rows x 2 columns]"
      ]
     },
     "execution_count": 5,
     "metadata": {},
     "output_type": "execute_result"
    }
   ],
   "source": [
    "df_localhost_access"
   ]
  },
  {
   "cell_type": "code",
   "execution_count": 6,
   "metadata": {},
   "outputs": [],
   "source": [
    "df_localhost_access['clean_line'] = df_localhost_access['lines'].str.replace(\"[^a-zA-Z0-9]\", \" \")"
   ]
  },
  {
   "cell_type": "code",
   "execution_count": 7,
   "metadata": {},
   "outputs": [],
   "source": [
    "df_localhost_access['clean_line'] = df_localhost_access['clean_line'].apply(lambda x: ' '.join([w for w in x.split() if len(w)>3]))"
   ]
  },
  {
   "cell_type": "code",
   "execution_count": 8,
   "metadata": {},
   "outputs": [],
   "source": [
    "df_localhost_access['label'] = '1'"
   ]
  },
  {
   "cell_type": "code",
   "execution_count": 9,
   "metadata": {},
   "outputs": [
    {
     "data": {
      "text/plain": [
       "75"
      ]
     },
     "execution_count": 9,
     "metadata": {},
     "output_type": "execute_result"
    }
   ],
   "source": [
    "len(df_localhost_access['clean_line'])"
   ]
  },
  {
   "cell_type": "markdown",
   "metadata": {},
   "source": [
    "### Localhost"
   ]
  },
  {
   "cell_type": "code",
   "execution_count": 10,
   "metadata": {},
   "outputs": [],
   "source": [
    "lines=[]\n",
    "filename = []"
   ]
  },
  {
   "cell_type": "code",
   "execution_count": 11,
   "metadata": {
    "scrolled": false
   },
   "outputs": [],
   "source": [
    "inputdir = \"C:\\\\Users\\\\vk00595236\\\\Documents\\\\DataScience\\\\Log Analytics\\\\log files\\\\log files\\\\Tomcat\\\\localhost\\\\\"\n",
    "filelist = os.listdir(inputdir)\n",
    "for i in filelist:\n",
    "    infile=inputdir+i\n",
    "    openFile = open(infile, 'r')\n",
    "    lines.append(openFile.read())\n",
    "    filename.append(i)\n",
    "    #print(filelist)\n",
    "   \n",
    "    "
   ]
  },
  {
   "cell_type": "code",
   "execution_count": 12,
   "metadata": {},
   "outputs": [],
   "source": [
    "df_localhost=pd.DataFrame({'lines':lines,'filename':filename})"
   ]
  },
  {
   "cell_type": "code",
   "execution_count": 13,
   "metadata": {},
   "outputs": [
    {
     "data": {
      "text/html": [
       "<div>\n",
       "<style scoped>\n",
       "    .dataframe tbody tr th:only-of-type {\n",
       "        vertical-align: middle;\n",
       "    }\n",
       "\n",
       "    .dataframe tbody tr th {\n",
       "        vertical-align: top;\n",
       "    }\n",
       "\n",
       "    .dataframe thead th {\n",
       "        text-align: right;\n",
       "    }\n",
       "</style>\n",
       "<table border=\"1\" class=\"dataframe\">\n",
       "  <thead>\n",
       "    <tr style=\"text-align: right;\">\n",
       "      <th></th>\n",
       "      <th>lines</th>\n",
       "      <th>filename</th>\n",
       "    </tr>\n",
       "  </thead>\n",
       "  <tbody>\n",
       "    <tr>\n",
       "      <th>0</th>\n",
       "      <td>Mar 24, 2015 12:38:00 PM org.apache.catalina.c...</td>\n",
       "      <td>localhost.2015-03-24.log</td>\n",
       "    </tr>\n",
       "    <tr>\n",
       "      <th>1</th>\n",
       "      <td>Mar 31, 2015 1:06:43 AM org.apache.catalina.co...</td>\n",
       "      <td>localhost.2015-03-31.log</td>\n",
       "    </tr>\n",
       "    <tr>\n",
       "      <th>2</th>\n",
       "      <td>Apr 01, 2015 9:37:25 AM org.apache.catalina.co...</td>\n",
       "      <td>localhost.2015-04-01.log</td>\n",
       "    </tr>\n",
       "    <tr>\n",
       "      <th>3</th>\n",
       "      <td>Apr 07, 2015 12:19:09 PM org.apache.catalina.c...</td>\n",
       "      <td>localhost.2015-04-07.log</td>\n",
       "    </tr>\n",
       "    <tr>\n",
       "      <th>4</th>\n",
       "      <td>Apr 09, 2015 3:55:36 PM org.apache.catalina.co...</td>\n",
       "      <td>localhost.2015-04-09.log</td>\n",
       "    </tr>\n",
       "    <tr>\n",
       "      <th>5</th>\n",
       "      <td>Apr 10, 2015 1:51:59 PM org.apache.catalina.co...</td>\n",
       "      <td>localhost.2015-04-10.log</td>\n",
       "    </tr>\n",
       "    <tr>\n",
       "      <th>6</th>\n",
       "      <td>Apr 17, 2015 11:01:26 AM org.apache.catalina.c...</td>\n",
       "      <td>localhost.2015-04-17.log</td>\n",
       "    </tr>\n",
       "    <tr>\n",
       "      <th>7</th>\n",
       "      <td>Apr 22, 2015 10:46:51 AM org.apache.catalina.c...</td>\n",
       "      <td>localhost.2015-04-22.log</td>\n",
       "    </tr>\n",
       "    <tr>\n",
       "      <th>8</th>\n",
       "      <td>May 25, 2015 10:07:05 AM org.apache.catalina.c...</td>\n",
       "      <td>localhost.2015-05-25.log</td>\n",
       "    </tr>\n",
       "    <tr>\n",
       "      <th>9</th>\n",
       "      <td>May 26, 2015 10:51:23 AM org.apache.catalina.c...</td>\n",
       "      <td>localhost.2015-05-26.log</td>\n",
       "    </tr>\n",
       "    <tr>\n",
       "      <th>10</th>\n",
       "      <td>Aug 04, 2015 4:06:21 PM org.apache.catalina.co...</td>\n",
       "      <td>localhost.2015-08-04.log</td>\n",
       "    </tr>\n",
       "    <tr>\n",
       "      <th>11</th>\n",
       "      <td>Jun 02, 2016 2:01:34 PM org.apache.catalina.co...</td>\n",
       "      <td>localhost.2016-06-02.log</td>\n",
       "    </tr>\n",
       "    <tr>\n",
       "      <th>12</th>\n",
       "      <td>Sep 13, 2016 7:44:11 PM org.apache.catalina.co...</td>\n",
       "      <td>localhost.2016-09-13.log</td>\n",
       "    </tr>\n",
       "    <tr>\n",
       "      <th>13</th>\n",
       "      <td>Nov 02, 2016 3:55:37 PM org.apache.catalina.co...</td>\n",
       "      <td>localhost.2016-11-02.log</td>\n",
       "    </tr>\n",
       "    <tr>\n",
       "      <th>14</th>\n",
       "      <td>Nov 03, 2016 1:13:21 PM org.apache.catalina.co...</td>\n",
       "      <td>localhost.2016-11-03.log</td>\n",
       "    </tr>\n",
       "    <tr>\n",
       "      <th>15</th>\n",
       "      <td>Nov 04, 2016 1:31:50 PM org.apache.catalina.co...</td>\n",
       "      <td>localhost.2016-11-04.log</td>\n",
       "    </tr>\n",
       "    <tr>\n",
       "      <th>16</th>\n",
       "      <td>Sep 25, 2018 7:19:29 PM org.apache.catalina.co...</td>\n",
       "      <td>localhost.2018-09-25.log</td>\n",
       "    </tr>\n",
       "    <tr>\n",
       "      <th>17</th>\n",
       "      <td>Sep 28, 2018 5:41:21 PM org.apache.catalina.co...</td>\n",
       "      <td>localhost.2018-09-28.log</td>\n",
       "    </tr>\n",
       "    <tr>\n",
       "      <th>18</th>\n",
       "      <td>Oct 01, 2018 9:43:49 AM org.apache.catalina.co...</td>\n",
       "      <td>localhost.2018-10-01.log</td>\n",
       "    </tr>\n",
       "    <tr>\n",
       "      <th>19</th>\n",
       "      <td>Oct 03, 2018 10:01:52 AM org.apache.catalina.c...</td>\n",
       "      <td>localhost.2018-10-03.log</td>\n",
       "    </tr>\n",
       "    <tr>\n",
       "      <th>20</th>\n",
       "      <td>Oct 04, 2018 11:40:08 AM org.apache.catalina.c...</td>\n",
       "      <td>localhost.2018-10-04.log</td>\n",
       "    </tr>\n",
       "    <tr>\n",
       "      <th>21</th>\n",
       "      <td>Oct 05, 2018 12:51:49 PM org.apache.catalina.c...</td>\n",
       "      <td>localhost.2018-10-05.log</td>\n",
       "    </tr>\n",
       "    <tr>\n",
       "      <th>22</th>\n",
       "      <td>Oct 09, 2018 10:08:21 AM org.apache.catalina.c...</td>\n",
       "      <td>localhost.2018-10-09.log</td>\n",
       "    </tr>\n",
       "    <tr>\n",
       "      <th>23</th>\n",
       "      <td>Oct 10, 2018 5:28:14 PM org.apache.catalina.co...</td>\n",
       "      <td>localhost.2018-10-10.log</td>\n",
       "    </tr>\n",
       "    <tr>\n",
       "      <th>24</th>\n",
       "      <td>Oct 15, 2018 10:02:19 AM org.apache.catalina.c...</td>\n",
       "      <td>localhost.2018-10-15.log</td>\n",
       "    </tr>\n",
       "    <tr>\n",
       "      <th>25</th>\n",
       "      <td>Oct 25, 2018 11:12:51 AM org.apache.catalina.c...</td>\n",
       "      <td>localhost.2018-10-25.log</td>\n",
       "    </tr>\n",
       "    <tr>\n",
       "      <th>26</th>\n",
       "      <td>Oct 30, 2018 9:13:48 AM org.apache.catalina.co...</td>\n",
       "      <td>localhost.2018-10-30.log</td>\n",
       "    </tr>\n",
       "    <tr>\n",
       "      <th>27</th>\n",
       "      <td>Oct 31, 2018 1:10:07 PM org.apache.catalina.co...</td>\n",
       "      <td>localhost.2018-10-31.log</td>\n",
       "    </tr>\n",
       "    <tr>\n",
       "      <th>28</th>\n",
       "      <td>Nov 02, 2018 4:49:59 PM org.apache.catalina.co...</td>\n",
       "      <td>localhost.2018-11-02.log</td>\n",
       "    </tr>\n",
       "    <tr>\n",
       "      <th>29</th>\n",
       "      <td>Nov 08, 2018 12:41:43 PM org.apache.catalina.c...</td>\n",
       "      <td>localhost.2018-11-08.log</td>\n",
       "    </tr>\n",
       "    <tr>\n",
       "      <th>30</th>\n",
       "      <td>Nov 09, 2018 9:17:10 AM org.apache.catalina.co...</td>\n",
       "      <td>localhost.2018-11-09.log</td>\n",
       "    </tr>\n",
       "  </tbody>\n",
       "</table>\n",
       "</div>"
      ],
      "text/plain": [
       "                                                lines  \\\n",
       "0   Mar 24, 2015 12:38:00 PM org.apache.catalina.c...   \n",
       "1   Mar 31, 2015 1:06:43 AM org.apache.catalina.co...   \n",
       "2   Apr 01, 2015 9:37:25 AM org.apache.catalina.co...   \n",
       "3   Apr 07, 2015 12:19:09 PM org.apache.catalina.c...   \n",
       "4   Apr 09, 2015 3:55:36 PM org.apache.catalina.co...   \n",
       "5   Apr 10, 2015 1:51:59 PM org.apache.catalina.co...   \n",
       "6   Apr 17, 2015 11:01:26 AM org.apache.catalina.c...   \n",
       "7   Apr 22, 2015 10:46:51 AM org.apache.catalina.c...   \n",
       "8   May 25, 2015 10:07:05 AM org.apache.catalina.c...   \n",
       "9   May 26, 2015 10:51:23 AM org.apache.catalina.c...   \n",
       "10  Aug 04, 2015 4:06:21 PM org.apache.catalina.co...   \n",
       "11  Jun 02, 2016 2:01:34 PM org.apache.catalina.co...   \n",
       "12  Sep 13, 2016 7:44:11 PM org.apache.catalina.co...   \n",
       "13  Nov 02, 2016 3:55:37 PM org.apache.catalina.co...   \n",
       "14  Nov 03, 2016 1:13:21 PM org.apache.catalina.co...   \n",
       "15  Nov 04, 2016 1:31:50 PM org.apache.catalina.co...   \n",
       "16  Sep 25, 2018 7:19:29 PM org.apache.catalina.co...   \n",
       "17  Sep 28, 2018 5:41:21 PM org.apache.catalina.co...   \n",
       "18  Oct 01, 2018 9:43:49 AM org.apache.catalina.co...   \n",
       "19  Oct 03, 2018 10:01:52 AM org.apache.catalina.c...   \n",
       "20  Oct 04, 2018 11:40:08 AM org.apache.catalina.c...   \n",
       "21  Oct 05, 2018 12:51:49 PM org.apache.catalina.c...   \n",
       "22  Oct 09, 2018 10:08:21 AM org.apache.catalina.c...   \n",
       "23  Oct 10, 2018 5:28:14 PM org.apache.catalina.co...   \n",
       "24  Oct 15, 2018 10:02:19 AM org.apache.catalina.c...   \n",
       "25  Oct 25, 2018 11:12:51 AM org.apache.catalina.c...   \n",
       "26  Oct 30, 2018 9:13:48 AM org.apache.catalina.co...   \n",
       "27  Oct 31, 2018 1:10:07 PM org.apache.catalina.co...   \n",
       "28  Nov 02, 2018 4:49:59 PM org.apache.catalina.co...   \n",
       "29  Nov 08, 2018 12:41:43 PM org.apache.catalina.c...   \n",
       "30  Nov 09, 2018 9:17:10 AM org.apache.catalina.co...   \n",
       "\n",
       "                    filename  \n",
       "0   localhost.2015-03-24.log  \n",
       "1   localhost.2015-03-31.log  \n",
       "2   localhost.2015-04-01.log  \n",
       "3   localhost.2015-04-07.log  \n",
       "4   localhost.2015-04-09.log  \n",
       "5   localhost.2015-04-10.log  \n",
       "6   localhost.2015-04-17.log  \n",
       "7   localhost.2015-04-22.log  \n",
       "8   localhost.2015-05-25.log  \n",
       "9   localhost.2015-05-26.log  \n",
       "10  localhost.2015-08-04.log  \n",
       "11  localhost.2016-06-02.log  \n",
       "12  localhost.2016-09-13.log  \n",
       "13  localhost.2016-11-02.log  \n",
       "14  localhost.2016-11-03.log  \n",
       "15  localhost.2016-11-04.log  \n",
       "16  localhost.2018-09-25.log  \n",
       "17  localhost.2018-09-28.log  \n",
       "18  localhost.2018-10-01.log  \n",
       "19  localhost.2018-10-03.log  \n",
       "20  localhost.2018-10-04.log  \n",
       "21  localhost.2018-10-05.log  \n",
       "22  localhost.2018-10-09.log  \n",
       "23  localhost.2018-10-10.log  \n",
       "24  localhost.2018-10-15.log  \n",
       "25  localhost.2018-10-25.log  \n",
       "26  localhost.2018-10-30.log  \n",
       "27  localhost.2018-10-31.log  \n",
       "28  localhost.2018-11-02.log  \n",
       "29  localhost.2018-11-08.log  \n",
       "30  localhost.2018-11-09.log  "
      ]
     },
     "execution_count": 13,
     "metadata": {},
     "output_type": "execute_result"
    }
   ],
   "source": [
    "df_localhost"
   ]
  },
  {
   "cell_type": "code",
   "execution_count": 14,
   "metadata": {},
   "outputs": [],
   "source": [
    "df_localhost['clean_line'] = df_localhost['lines'].str.replace(\"[^a-zA-Z0-9]\", \" \")"
   ]
  },
  {
   "cell_type": "code",
   "execution_count": 15,
   "metadata": {},
   "outputs": [],
   "source": [
    "df_localhost['clean_line'] = df_localhost['clean_line'].apply(lambda x: ' '.join([w for w in x.split() if len(w)>3]))"
   ]
  },
  {
   "cell_type": "code",
   "execution_count": 16,
   "metadata": {},
   "outputs": [],
   "source": [
    "df_localhost['label'] = '2'"
   ]
  },
  {
   "cell_type": "code",
   "execution_count": 17,
   "metadata": {
    "scrolled": true
   },
   "outputs": [
    {
     "data": {
      "text/plain": [
       "31"
      ]
     },
     "execution_count": 17,
     "metadata": {},
     "output_type": "execute_result"
    }
   ],
   "source": [
    "len(df_localhost['clean_line'])"
   ]
  },
  {
   "cell_type": "markdown",
   "metadata": {},
   "source": [
    "### catalina"
   ]
  },
  {
   "cell_type": "code",
   "execution_count": 18,
   "metadata": {},
   "outputs": [],
   "source": [
    "lines=[]\n",
    "filename = [] "
   ]
  },
  {
   "cell_type": "code",
   "execution_count": 19,
   "metadata": {
    "scrolled": false
   },
   "outputs": [],
   "source": [
    "inputdir = \"C:\\\\Users\\\\vk00595236\\\\Documents\\\\DataScience\\\\Log Analytics\\\\log files\\\\log files\\\\Tomcat\\\\catalina\\\\\"\n",
    "filelist = os.listdir(inputdir)\n",
    "for i in filelist:\n",
    "    infile=inputdir+i\n",
    "    openFile = open(infile, 'r')\n",
    "    lines.append(openFile.read())\n",
    "    filename.append(i)\n",
    "    #print(filelist)\n",
    "   \n",
    "    "
   ]
  },
  {
   "cell_type": "code",
   "execution_count": 20,
   "metadata": {
    "scrolled": true
   },
   "outputs": [
    {
     "data": {
      "text/plain": [
       "list"
      ]
     },
     "execution_count": 20,
     "metadata": {},
     "output_type": "execute_result"
    }
   ],
   "source": [
    "type(filename)"
   ]
  },
  {
   "cell_type": "code",
   "execution_count": 21,
   "metadata": {},
   "outputs": [],
   "source": [
    "df_catalina=pd.DataFrame({'lines':lines,'filename':filename})"
   ]
  },
  {
   "cell_type": "code",
   "execution_count": 22,
   "metadata": {},
   "outputs": [
    {
     "data": {
      "text/html": [
       "<div>\n",
       "<style scoped>\n",
       "    .dataframe tbody tr th:only-of-type {\n",
       "        vertical-align: middle;\n",
       "    }\n",
       "\n",
       "    .dataframe tbody tr th {\n",
       "        vertical-align: top;\n",
       "    }\n",
       "\n",
       "    .dataframe thead th {\n",
       "        text-align: right;\n",
       "    }\n",
       "</style>\n",
       "<table border=\"1\" class=\"dataframe\">\n",
       "  <thead>\n",
       "    <tr style=\"text-align: right;\">\n",
       "      <th></th>\n",
       "      <th>lines</th>\n",
       "      <th>filename</th>\n",
       "    </tr>\n",
       "  </thead>\n",
       "  <tbody>\n",
       "    <tr>\n",
       "      <th>0</th>\n",
       "      <td>Mar 16, 2015 11:30:42 AM org.apache.catalina.c...</td>\n",
       "      <td>catalina.2015-03-16.log</td>\n",
       "    </tr>\n",
       "    <tr>\n",
       "      <th>1</th>\n",
       "      <td>Mar 17, 2015 11:27:28 AM org.apache.catalina.c...</td>\n",
       "      <td>catalina.2015-03-17.log</td>\n",
       "    </tr>\n",
       "    <tr>\n",
       "      <th>2</th>\n",
       "      <td>Mar 18, 2015 9:50:25 AM org.apache.catalina.co...</td>\n",
       "      <td>catalina.2015-03-18.log</td>\n",
       "    </tr>\n",
       "    <tr>\n",
       "      <th>3</th>\n",
       "      <td>Mar 19, 2015 4:22:52 PM org.apache.catalina.co...</td>\n",
       "      <td>catalina.2015-03-19.log</td>\n",
       "    </tr>\n",
       "    <tr>\n",
       "      <th>4</th>\n",
       "      <td>Mar 24, 2015 12:37:50 PM org.apache.catalina.s...</td>\n",
       "      <td>catalina.2015-03-24.log</td>\n",
       "    </tr>\n",
       "    <tr>\n",
       "      <th>5</th>\n",
       "      <td>Mar 25, 2015 11:59:37 AM org.apache.catalina.c...</td>\n",
       "      <td>catalina.2015-03-25.log</td>\n",
       "    </tr>\n",
       "    <tr>\n",
       "      <th>6</th>\n",
       "      <td>Mar 26, 2015 8:35:40 AM org.springframework.we...</td>\n",
       "      <td>catalina.2015-03-26.log</td>\n",
       "    </tr>\n",
       "    <tr>\n",
       "      <th>7</th>\n",
       "      <td>Mar 28, 2015 10:29:09 AM org.springframework.w...</td>\n",
       "      <td>catalina.2015-03-28.log</td>\n",
       "    </tr>\n",
       "    <tr>\n",
       "      <th>8</th>\n",
       "      <td>Mar 30, 2015 5:41:39 PM org.apache.catalina.st...</td>\n",
       "      <td>catalina.2015-03-30.log</td>\n",
       "    </tr>\n",
       "    <tr>\n",
       "      <th>9</th>\n",
       "      <td>Mar 31, 2015 1:06:43 AM org.hibernate.cfg.Conf...</td>\n",
       "      <td>catalina.2015-03-31.log</td>\n",
       "    </tr>\n",
       "    <tr>\n",
       "      <th>10</th>\n",
       "      <td>Apr 01, 2015 10:59:14 AM org.apache.coyote.Abs...</td>\n",
       "      <td>catalina.2015-04-01.log</td>\n",
       "    </tr>\n",
       "    <tr>\n",
       "      <th>11</th>\n",
       "      <td>Apr 07, 2015 12:19:00 PM org.apache.catalina.c...</td>\n",
       "      <td>catalina.2015-04-07.log</td>\n",
       "    </tr>\n",
       "    <tr>\n",
       "      <th>12</th>\n",
       "      <td>Apr 09, 2015 12:13:44 PM org.hibernate.cfg.ann...</td>\n",
       "      <td>catalina.2015-04-09.log</td>\n",
       "    </tr>\n",
       "    <tr>\n",
       "      <th>13</th>\n",
       "      <td>Apr 10, 2015 1:16:10 PM org.springframework.we...</td>\n",
       "      <td>catalina.2015-04-10.log</td>\n",
       "    </tr>\n",
       "    <tr>\n",
       "      <th>14</th>\n",
       "      <td>Apr 14, 2015 2:06:08 PM org.apache.coyote.Abst...</td>\n",
       "      <td>catalina.2015-04-14.log</td>\n",
       "    </tr>\n",
       "    <tr>\n",
       "      <th>15</th>\n",
       "      <td>Apr 16, 2015 11:15:03 AM org.apache.coyote.Abs...</td>\n",
       "      <td>catalina.2015-04-16.log</td>\n",
       "    </tr>\n",
       "    <tr>\n",
       "      <th>16</th>\n",
       "      <td>Apr 17, 2015 11:01:25 AM org.apache.coyote.Abs...</td>\n",
       "      <td>catalina.2015-04-17.log</td>\n",
       "    </tr>\n",
       "    <tr>\n",
       "      <th>17</th>\n",
       "      <td>Apr 20, 2015 10:57:34 AM org.springframework.w...</td>\n",
       "      <td>catalina.2015-04-20.log</td>\n",
       "    </tr>\n",
       "    <tr>\n",
       "      <th>18</th>\n",
       "      <td>Apr 21, 2015 1:27:42 PM org.springframework.we...</td>\n",
       "      <td>catalina.2015-04-21.log</td>\n",
       "    </tr>\n",
       "    <tr>\n",
       "      <th>19</th>\n",
       "      <td>Apr 22, 2015 10:46:49 AM org.hibernate.cfg.Con...</td>\n",
       "      <td>catalina.2015-04-22.log</td>\n",
       "    </tr>\n",
       "    <tr>\n",
       "      <th>20</th>\n",
       "      <td>Apr 23, 2015 9:12:51 AM org.apache.coyote.Abst...</td>\n",
       "      <td>catalina.2015-04-23.log</td>\n",
       "    </tr>\n",
       "    <tr>\n",
       "      <th>21</th>\n",
       "      <td>Apr 27, 2015 1:30:03 PM org.apache.coyote.Abst...</td>\n",
       "      <td>catalina.2015-04-27.log</td>\n",
       "    </tr>\n",
       "    <tr>\n",
       "      <th>22</th>\n",
       "      <td>Apr 28, 2015 3:49:37 PM org.apache.coyote.Abst...</td>\n",
       "      <td>catalina.2015-04-28.log</td>\n",
       "    </tr>\n",
       "    <tr>\n",
       "      <th>23</th>\n",
       "      <td>Apr 29, 2015 11:52:31 AM org.apache.coyote.Abs...</td>\n",
       "      <td>catalina.2015-04-29.log</td>\n",
       "    </tr>\n",
       "    <tr>\n",
       "      <th>24</th>\n",
       "      <td>Apr 30, 2015 3:22:05 PM org.springframework.we...</td>\n",
       "      <td>catalina.2015-04-30.log</td>\n",
       "    </tr>\n",
       "    <tr>\n",
       "      <th>25</th>\n",
       "      <td>May 04, 2015 5:22:41 PM org.apache.coyote.Abst...</td>\n",
       "      <td>catalina.2015-05-04.log</td>\n",
       "    </tr>\n",
       "    <tr>\n",
       "      <th>26</th>\n",
       "      <td>May 05, 2015 10:45:20 AM org.hibernate.cfg.ann...</td>\n",
       "      <td>catalina.2015-05-05.log</td>\n",
       "    </tr>\n",
       "    <tr>\n",
       "      <th>27</th>\n",
       "      <td>May 06, 2015 9:40:22 AM org.apache.catalina.co...</td>\n",
       "      <td>catalina.2015-05-06.log</td>\n",
       "    </tr>\n",
       "    <tr>\n",
       "      <th>28</th>\n",
       "      <td>May 07, 2015 12:46:07 PM org.apache.coyote.Abs...</td>\n",
       "      <td>catalina.2015-05-07.log</td>\n",
       "    </tr>\n",
       "    <tr>\n",
       "      <th>29</th>\n",
       "      <td>May 08, 2015 1:33:21 PM org.apache.catalina.st...</td>\n",
       "      <td>catalina.2015-05-08.log</td>\n",
       "    </tr>\n",
       "    <tr>\n",
       "      <th>...</th>\n",
       "      <td>...</td>\n",
       "      <td>...</td>\n",
       "    </tr>\n",
       "    <tr>\n",
       "      <th>50</th>\n",
       "      <td>Nov 03, 2016 1:13:21 PM org.apache.catalina.lo...</td>\n",
       "      <td>catalina.2016-11-03.log</td>\n",
       "    </tr>\n",
       "    <tr>\n",
       "      <th>51</th>\n",
       "      <td>Nov 04, 2016 1:31:50 PM org.apache.catalina.co...</td>\n",
       "      <td>catalina.2016-11-04.log</td>\n",
       "    </tr>\n",
       "    <tr>\n",
       "      <th>52</th>\n",
       "      <td>Nov 30, 2016 11:42:30 AM org.apache.catalina.s...</td>\n",
       "      <td>catalina.2016-11-30.log</td>\n",
       "    </tr>\n",
       "    <tr>\n",
       "      <th>53</th>\n",
       "      <td>Dec 06, 2016 2:58:54 PM org.apache.catalina.co...</td>\n",
       "      <td>catalina.2016-12-06.log</td>\n",
       "    </tr>\n",
       "    <tr>\n",
       "      <th>54</th>\n",
       "      <td>Dec 12, 2016 10:55:55 AM org.apache.catalina.c...</td>\n",
       "      <td>catalina.2016-12-12.log</td>\n",
       "    </tr>\n",
       "    <tr>\n",
       "      <th>55</th>\n",
       "      <td>Dec 22, 2016 11:26:10 AM org.apache.catalina.s...</td>\n",
       "      <td>catalina.2016-12-22.log</td>\n",
       "    </tr>\n",
       "    <tr>\n",
       "      <th>56</th>\n",
       "      <td>May 11, 2017 1:50:55 PM org.apache.catalina.st...</td>\n",
       "      <td>catalina.2017-05-11.log</td>\n",
       "    </tr>\n",
       "    <tr>\n",
       "      <th>57</th>\n",
       "      <td>Jul 07, 2017 4:16:14 PM org.apache.catalina.co...</td>\n",
       "      <td>catalina.2017-07-07.log</td>\n",
       "    </tr>\n",
       "    <tr>\n",
       "      <th>58</th>\n",
       "      <td>Jul 16, 2017 12:25:32 PM org.apache.catalina.c...</td>\n",
       "      <td>catalina.2017-07-16.log</td>\n",
       "    </tr>\n",
       "    <tr>\n",
       "      <th>59</th>\n",
       "      <td>Jul 17, 2017 9:26:53 AM org.apache.catalina.co...</td>\n",
       "      <td>catalina.2017-07-17.log</td>\n",
       "    </tr>\n",
       "    <tr>\n",
       "      <th>60</th>\n",
       "      <td>Jul 18, 2017 4:05:48 PM org.apache.catalina.co...</td>\n",
       "      <td>catalina.2017-07-18.log</td>\n",
       "    </tr>\n",
       "    <tr>\n",
       "      <th>61</th>\n",
       "      <td>Jul 20, 2017 11:04:50 AM org.apache.catalina.c...</td>\n",
       "      <td>catalina.2017-07-20.log</td>\n",
       "    </tr>\n",
       "    <tr>\n",
       "      <th>62</th>\n",
       "      <td>Jul 26, 2017 12:01:05 AM org.apache.coyote.htt...</td>\n",
       "      <td>catalina.2017-07-26.log</td>\n",
       "    </tr>\n",
       "    <tr>\n",
       "      <th>63</th>\n",
       "      <td>Jul 28, 2017 3:58:05 PM org.apache.catalina.co...</td>\n",
       "      <td>catalina.2017-07-28.log</td>\n",
       "    </tr>\n",
       "    <tr>\n",
       "      <th>64</th>\n",
       "      <td>Aug 02, 2017 12:15:32 PM org.apache.catalina.c...</td>\n",
       "      <td>catalina.2017-08-02.log</td>\n",
       "    </tr>\n",
       "    <tr>\n",
       "      <th>65</th>\n",
       "      <td>Sep 25, 2018 7:19:14 PM org.apache.catalina.co...</td>\n",
       "      <td>catalina.2018-09-25.log</td>\n",
       "    </tr>\n",
       "    <tr>\n",
       "      <th>66</th>\n",
       "      <td>Oct 03, 2018 10:01:46 AM org.apache.catalina.c...</td>\n",
       "      <td>catalina.2018-10-03.log</td>\n",
       "    </tr>\n",
       "    <tr>\n",
       "      <th>67</th>\n",
       "      <td>Oct 04, 2018 11:40:08 AM org.apache.catalina.c...</td>\n",
       "      <td>catalina.2018-10-04.log</td>\n",
       "    </tr>\n",
       "    <tr>\n",
       "      <th>68</th>\n",
       "      <td>Oct 09, 2018 12:27:45 PM org.apache.catalina.c...</td>\n",
       "      <td>catalina.2018-10-09.log</td>\n",
       "    </tr>\n",
       "    <tr>\n",
       "      <th>69</th>\n",
       "      <td>Oct 10, 2018 12:00:04 AM org.apache.catalina.l...</td>\n",
       "      <td>catalina.2018-10-10.log</td>\n",
       "    </tr>\n",
       "    <tr>\n",
       "      <th>70</th>\n",
       "      <td>Oct 15, 2018 10:02:13 AM org.apache.catalina.c...</td>\n",
       "      <td>catalina.2018-10-15.log</td>\n",
       "    </tr>\n",
       "    <tr>\n",
       "      <th>71</th>\n",
       "      <td>Oct 16, 2018 12:00:01 AM org.apache.catalina.l...</td>\n",
       "      <td>catalina.2018-10-16.log</td>\n",
       "    </tr>\n",
       "    <tr>\n",
       "      <th>72</th>\n",
       "      <td>Oct 17, 2018 12:00:03 AM org.apache.catalina.l...</td>\n",
       "      <td>catalina.2018-10-17.log</td>\n",
       "    </tr>\n",
       "    <tr>\n",
       "      <th>73</th>\n",
       "      <td>Oct 18, 2018 12:00:04 AM org.apache.catalina.l...</td>\n",
       "      <td>catalina.2018-10-18.log</td>\n",
       "    </tr>\n",
       "    <tr>\n",
       "      <th>74</th>\n",
       "      <td>Oct 19, 2018 12:00:03 AM org.apache.catalina.l...</td>\n",
       "      <td>catalina.2018-10-19.log</td>\n",
       "    </tr>\n",
       "    <tr>\n",
       "      <th>75</th>\n",
       "      <td>Oct 20, 2018 12:00:00 AM org.apache.catalina.l...</td>\n",
       "      <td>catalina.2018-10-20.log</td>\n",
       "    </tr>\n",
       "    <tr>\n",
       "      <th>76</th>\n",
       "      <td>Oct 21, 2018 12:00:02 AM org.apache.catalina.l...</td>\n",
       "      <td>catalina.2018-10-21.log</td>\n",
       "    </tr>\n",
       "    <tr>\n",
       "      <th>77</th>\n",
       "      <td>Oct 22, 2018 12:00:00 AM org.apache.catalina.l...</td>\n",
       "      <td>catalina.2018-10-22.log</td>\n",
       "    </tr>\n",
       "    <tr>\n",
       "      <th>78</th>\n",
       "      <td>Oct 23, 2018 12:00:00 AM org.apache.catalina.l...</td>\n",
       "      <td>catalina.2018-10-23.log</td>\n",
       "    </tr>\n",
       "    <tr>\n",
       "      <th>79</th>\n",
       "      <td>Oct 31, 2018 1:09:55 PM org.apache.catalina.st...</td>\n",
       "      <td>catalina.2018-10-31.log</td>\n",
       "    </tr>\n",
       "  </tbody>\n",
       "</table>\n",
       "<p>80 rows × 2 columns</p>\n",
       "</div>"
      ],
      "text/plain": [
       "                                                lines                 filename\n",
       "0   Mar 16, 2015 11:30:42 AM org.apache.catalina.c...  catalina.2015-03-16.log\n",
       "1   Mar 17, 2015 11:27:28 AM org.apache.catalina.c...  catalina.2015-03-17.log\n",
       "2   Mar 18, 2015 9:50:25 AM org.apache.catalina.co...  catalina.2015-03-18.log\n",
       "3   Mar 19, 2015 4:22:52 PM org.apache.catalina.co...  catalina.2015-03-19.log\n",
       "4   Mar 24, 2015 12:37:50 PM org.apache.catalina.s...  catalina.2015-03-24.log\n",
       "5   Mar 25, 2015 11:59:37 AM org.apache.catalina.c...  catalina.2015-03-25.log\n",
       "6   Mar 26, 2015 8:35:40 AM org.springframework.we...  catalina.2015-03-26.log\n",
       "7   Mar 28, 2015 10:29:09 AM org.springframework.w...  catalina.2015-03-28.log\n",
       "8   Mar 30, 2015 5:41:39 PM org.apache.catalina.st...  catalina.2015-03-30.log\n",
       "9   Mar 31, 2015 1:06:43 AM org.hibernate.cfg.Conf...  catalina.2015-03-31.log\n",
       "10  Apr 01, 2015 10:59:14 AM org.apache.coyote.Abs...  catalina.2015-04-01.log\n",
       "11  Apr 07, 2015 12:19:00 PM org.apache.catalina.c...  catalina.2015-04-07.log\n",
       "12  Apr 09, 2015 12:13:44 PM org.hibernate.cfg.ann...  catalina.2015-04-09.log\n",
       "13  Apr 10, 2015 1:16:10 PM org.springframework.we...  catalina.2015-04-10.log\n",
       "14  Apr 14, 2015 2:06:08 PM org.apache.coyote.Abst...  catalina.2015-04-14.log\n",
       "15  Apr 16, 2015 11:15:03 AM org.apache.coyote.Abs...  catalina.2015-04-16.log\n",
       "16  Apr 17, 2015 11:01:25 AM org.apache.coyote.Abs...  catalina.2015-04-17.log\n",
       "17  Apr 20, 2015 10:57:34 AM org.springframework.w...  catalina.2015-04-20.log\n",
       "18  Apr 21, 2015 1:27:42 PM org.springframework.we...  catalina.2015-04-21.log\n",
       "19  Apr 22, 2015 10:46:49 AM org.hibernate.cfg.Con...  catalina.2015-04-22.log\n",
       "20  Apr 23, 2015 9:12:51 AM org.apache.coyote.Abst...  catalina.2015-04-23.log\n",
       "21  Apr 27, 2015 1:30:03 PM org.apache.coyote.Abst...  catalina.2015-04-27.log\n",
       "22  Apr 28, 2015 3:49:37 PM org.apache.coyote.Abst...  catalina.2015-04-28.log\n",
       "23  Apr 29, 2015 11:52:31 AM org.apache.coyote.Abs...  catalina.2015-04-29.log\n",
       "24  Apr 30, 2015 3:22:05 PM org.springframework.we...  catalina.2015-04-30.log\n",
       "25  May 04, 2015 5:22:41 PM org.apache.coyote.Abst...  catalina.2015-05-04.log\n",
       "26  May 05, 2015 10:45:20 AM org.hibernate.cfg.ann...  catalina.2015-05-05.log\n",
       "27  May 06, 2015 9:40:22 AM org.apache.catalina.co...  catalina.2015-05-06.log\n",
       "28  May 07, 2015 12:46:07 PM org.apache.coyote.Abs...  catalina.2015-05-07.log\n",
       "29  May 08, 2015 1:33:21 PM org.apache.catalina.st...  catalina.2015-05-08.log\n",
       "..                                                ...                      ...\n",
       "50  Nov 03, 2016 1:13:21 PM org.apache.catalina.lo...  catalina.2016-11-03.log\n",
       "51  Nov 04, 2016 1:31:50 PM org.apache.catalina.co...  catalina.2016-11-04.log\n",
       "52  Nov 30, 2016 11:42:30 AM org.apache.catalina.s...  catalina.2016-11-30.log\n",
       "53  Dec 06, 2016 2:58:54 PM org.apache.catalina.co...  catalina.2016-12-06.log\n",
       "54  Dec 12, 2016 10:55:55 AM org.apache.catalina.c...  catalina.2016-12-12.log\n",
       "55  Dec 22, 2016 11:26:10 AM org.apache.catalina.s...  catalina.2016-12-22.log\n",
       "56  May 11, 2017 1:50:55 PM org.apache.catalina.st...  catalina.2017-05-11.log\n",
       "57  Jul 07, 2017 4:16:14 PM org.apache.catalina.co...  catalina.2017-07-07.log\n",
       "58  Jul 16, 2017 12:25:32 PM org.apache.catalina.c...  catalina.2017-07-16.log\n",
       "59  Jul 17, 2017 9:26:53 AM org.apache.catalina.co...  catalina.2017-07-17.log\n",
       "60  Jul 18, 2017 4:05:48 PM org.apache.catalina.co...  catalina.2017-07-18.log\n",
       "61  Jul 20, 2017 11:04:50 AM org.apache.catalina.c...  catalina.2017-07-20.log\n",
       "62  Jul 26, 2017 12:01:05 AM org.apache.coyote.htt...  catalina.2017-07-26.log\n",
       "63  Jul 28, 2017 3:58:05 PM org.apache.catalina.co...  catalina.2017-07-28.log\n",
       "64  Aug 02, 2017 12:15:32 PM org.apache.catalina.c...  catalina.2017-08-02.log\n",
       "65  Sep 25, 2018 7:19:14 PM org.apache.catalina.co...  catalina.2018-09-25.log\n",
       "66  Oct 03, 2018 10:01:46 AM org.apache.catalina.c...  catalina.2018-10-03.log\n",
       "67  Oct 04, 2018 11:40:08 AM org.apache.catalina.c...  catalina.2018-10-04.log\n",
       "68  Oct 09, 2018 12:27:45 PM org.apache.catalina.c...  catalina.2018-10-09.log\n",
       "69  Oct 10, 2018 12:00:04 AM org.apache.catalina.l...  catalina.2018-10-10.log\n",
       "70  Oct 15, 2018 10:02:13 AM org.apache.catalina.c...  catalina.2018-10-15.log\n",
       "71  Oct 16, 2018 12:00:01 AM org.apache.catalina.l...  catalina.2018-10-16.log\n",
       "72  Oct 17, 2018 12:00:03 AM org.apache.catalina.l...  catalina.2018-10-17.log\n",
       "73  Oct 18, 2018 12:00:04 AM org.apache.catalina.l...  catalina.2018-10-18.log\n",
       "74  Oct 19, 2018 12:00:03 AM org.apache.catalina.l...  catalina.2018-10-19.log\n",
       "75  Oct 20, 2018 12:00:00 AM org.apache.catalina.l...  catalina.2018-10-20.log\n",
       "76  Oct 21, 2018 12:00:02 AM org.apache.catalina.l...  catalina.2018-10-21.log\n",
       "77  Oct 22, 2018 12:00:00 AM org.apache.catalina.l...  catalina.2018-10-22.log\n",
       "78  Oct 23, 2018 12:00:00 AM org.apache.catalina.l...  catalina.2018-10-23.log\n",
       "79  Oct 31, 2018 1:09:55 PM org.apache.catalina.st...  catalina.2018-10-31.log\n",
       "\n",
       "[80 rows x 2 columns]"
      ]
     },
     "execution_count": 22,
     "metadata": {},
     "output_type": "execute_result"
    }
   ],
   "source": [
    "df_catalina"
   ]
  },
  {
   "cell_type": "code",
   "execution_count": 23,
   "metadata": {},
   "outputs": [
    {
     "data": {
      "text/plain": [
       "(80, 2)"
      ]
     },
     "execution_count": 23,
     "metadata": {},
     "output_type": "execute_result"
    }
   ],
   "source": [
    "df_catalina.shape"
   ]
  },
  {
   "cell_type": "code",
   "execution_count": 24,
   "metadata": {},
   "outputs": [],
   "source": [
    "df_catalina['clean_line'] = df_catalina['lines'].str.replace(\"[^a-zA-Z0-9]\", \" \")"
   ]
  },
  {
   "cell_type": "code",
   "execution_count": 25,
   "metadata": {},
   "outputs": [],
   "source": [
    "df_catalina['clean_line'] = df_catalina['clean_line'].apply(lambda x: ' '.join([w for w in x.split() if len(w)>3]))"
   ]
  },
  {
   "cell_type": "code",
   "execution_count": 26,
   "metadata": {},
   "outputs": [],
   "source": [
    "df_catalina['label'] = '3'"
   ]
  },
  {
   "cell_type": "code",
   "execution_count": 27,
   "metadata": {
    "scrolled": false
   },
   "outputs": [
    {
     "data": {
      "text/plain": [
       "80"
      ]
     },
     "execution_count": 27,
     "metadata": {},
     "output_type": "execute_result"
    }
   ],
   "source": [
    "len(df_catalina['clean_line'])"
   ]
  },
  {
   "cell_type": "markdown",
   "metadata": {},
   "source": [
    "### Informatica ### "
   ]
  },
  {
   "cell_type": "code",
   "execution_count": 28,
   "metadata": {},
   "outputs": [],
   "source": [
    "lines=[]\n",
    "filename = [] "
   ]
  },
  {
   "cell_type": "code",
   "execution_count": 29,
   "metadata": {
    "scrolled": false
   },
   "outputs": [],
   "source": [
    "inputdir = \"C:\\\\Users\\\\vk00595236\\\\Documents\\\\DataScience\\\\Log Analytics\\\\log files\\\\log files\\\\Informatica\\\\\"\n",
    "filelist = os.listdir(inputdir)\n",
    "for i in filelist:\n",
    "    infile=inputdir+i\n",
    "    openFile = open(infile, 'r')\n",
    "    lines.append(openFile.read())\n",
    "    filename.append(i)\n",
    "    #print(filelist)\n",
    "   \n",
    "    "
   ]
  },
  {
   "cell_type": "code",
   "execution_count": 30,
   "metadata": {
    "scrolled": true
   },
   "outputs": [
    {
     "data": {
      "text/plain": [
       "list"
      ]
     },
     "execution_count": 30,
     "metadata": {},
     "output_type": "execute_result"
    }
   ],
   "source": [
    "type(filename)"
   ]
  },
  {
   "cell_type": "code",
   "execution_count": 31,
   "metadata": {},
   "outputs": [],
   "source": [
    "df_informatica=pd.DataFrame({'lines':lines,'filename':filename})"
   ]
  },
  {
   "cell_type": "code",
   "execution_count": 32,
   "metadata": {
    "scrolled": true
   },
   "outputs": [
    {
     "data": {
      "text/html": [
       "<div>\n",
       "<style scoped>\n",
       "    .dataframe tbody tr th:only-of-type {\n",
       "        vertical-align: middle;\n",
       "    }\n",
       "\n",
       "    .dataframe tbody tr th {\n",
       "        vertical-align: top;\n",
       "    }\n",
       "\n",
       "    .dataframe thead th {\n",
       "        text-align: right;\n",
       "    }\n",
       "</style>\n",
       "<table border=\"1\" class=\"dataframe\">\n",
       "  <thead>\n",
       "    <tr style=\"text-align: right;\">\n",
       "      <th></th>\n",
       "      <th>lines</th>\n",
       "      <th>filename</th>\n",
       "    </tr>\n",
       "  </thead>\n",
       "  <tbody>\n",
       "    <tr>\n",
       "      <th>0</th>\n",
       "      <td>DIRECTOR&gt; VAR_27028 Use override value [/edwet...</td>\n",
       "      <td>s_BCC_LEGACY_PARAM_EXT.log</td>\n",
       "    </tr>\n",
       "    <tr>\n",
       "      <th>1</th>\n",
       "      <td>DIRECTOR&gt; VAR_27028 Use override value [/edwet...</td>\n",
       "      <td>s_BCC_OPOM_ARBR_MAP.log</td>\n",
       "    </tr>\n",
       "    <tr>\n",
       "      <th>2</th>\n",
       "      <td>DIRECTOR&gt; VAR_27028 Use override value [/edwet...</td>\n",
       "      <td>s_cr302085.log</td>\n",
       "    </tr>\n",
       "    <tr>\n",
       "      <th>3</th>\n",
       "      <td>DIRECTOR&gt; VAR_27028 Use override value [/edwet...</td>\n",
       "      <td>s_d_FILE_EWBB00430D_SOMSINCTXN.log</td>\n",
       "    </tr>\n",
       "    <tr>\n",
       "      <th>4</th>\n",
       "      <td>DIRECTOR&gt; VAR_27028 Use override value [/edwet...</td>\n",
       "      <td>s_d_FILE_EWBB00510D_SOMSCUSTTXN.log</td>\n",
       "    </tr>\n",
       "    <tr>\n",
       "      <th>5</th>\n",
       "      <td>DIRECTOR&gt; VAR_27028 Use override value [/edwet...</td>\n",
       "      <td>s_d_FILE_EWBB00520D_SOMSCUSTTXN.log</td>\n",
       "    </tr>\n",
       "    <tr>\n",
       "      <th>6</th>\n",
       "      <td>DIRECTOR&gt; VAR_27028 Use override value [/edwet...</td>\n",
       "      <td>s_d_FILE_EWBB00530D_SOMSCUSTTXN_4.log</td>\n",
       "    </tr>\n",
       "    <tr>\n",
       "      <th>7</th>\n",
       "      <td>DIRECTOR&gt; VAR_27028 Use override value [/edwet...</td>\n",
       "      <td>s_d_TEDW_BCC_CUST.log</td>\n",
       "    </tr>\n",
       "    <tr>\n",
       "      <th>8</th>\n",
       "      <td>DIRECTOR&gt; VAR_27028 Use override value [/edwet...</td>\n",
       "      <td>s_d_TEDW_BCC_SUBS.log</td>\n",
       "    </tr>\n",
       "    <tr>\n",
       "      <th>9</th>\n",
       "      <td>DIRECTOR&gt; VAR_27028 Use override value [/edwet...</td>\n",
       "      <td>s_d_TEDW_BCC_SUBS_EXT.log</td>\n",
       "    </tr>\n",
       "    <tr>\n",
       "      <th>10</th>\n",
       "      <td>DIRECTOR&gt; VAR_27028 Use override value [/edwet...</td>\n",
       "      <td>s_d_TEDW_IPTV_DWNSTRM_ActivityGetByDates.log</td>\n",
       "    </tr>\n",
       "    <tr>\n",
       "      <th>11</th>\n",
       "      <td>DIRECTOR&gt; VAR_27028 Use override value [/edwet...</td>\n",
       "      <td>s_d_TEDW_IPTV_DWNSTRM_BundleGetAll.log</td>\n",
       "    </tr>\n",
       "    <tr>\n",
       "      <th>12</th>\n",
       "      <td>DIRECTOR&gt; VAR_27028 Use override value [/edwet...</td>\n",
       "      <td>s_d_TEDW_IPTV_DWNSTRM_ChannelGetAll.log</td>\n",
       "    </tr>\n",
       "    <tr>\n",
       "      <th>13</th>\n",
       "      <td>DIRECTOR&gt; VAR_27028 Use override value [/edwet...</td>\n",
       "      <td>s_d_TEDW_IPTV_DWNSTRM_OfferGetAll.log</td>\n",
       "    </tr>\n",
       "    <tr>\n",
       "      <th>14</th>\n",
       "      <td>DIRECTOR&gt; VAR_27028 Use override value [/edwet...</td>\n",
       "      <td>s_d_TEDW_IPTV_DWNSTRM_ServiceGetAll.log</td>\n",
       "    </tr>\n",
       "    <tr>\n",
       "      <th>15</th>\n",
       "      <td>DIRECTOR&gt; VAR_27028 Use override value [/edwet...</td>\n",
       "      <td>s_d_TEDW_IVR_TXN_1606.log</td>\n",
       "    </tr>\n",
       "    <tr>\n",
       "      <th>16</th>\n",
       "      <td>DIRECTOR&gt; VAR_27028 Use override value [/edwet...</td>\n",
       "      <td>s_d_TEDW_IVR_TXN_1608.log</td>\n",
       "    </tr>\n",
       "    <tr>\n",
       "      <th>17</th>\n",
       "      <td>DIRECTOR&gt; VAR_27028 Use override value [/edwet...</td>\n",
       "      <td>s_d_TEDW_RAISED_ORDR.log</td>\n",
       "    </tr>\n",
       "    <tr>\n",
       "      <th>18</th>\n",
       "      <td>DIRECTOR&gt; VAR_27028 Use override value [/edwet...</td>\n",
       "      <td>s_d_TEDW_RPT_BCC_EDW_WTM_REPORT_FINAL.log</td>\n",
       "    </tr>\n",
       "    <tr>\n",
       "      <th>19</th>\n",
       "      <td>DIRECTOR&gt; VAR_27028 Use override value [/edwet...</td>\n",
       "      <td>s_d_TEDW_RPT_BCC_WTM_SUMM.log</td>\n",
       "    </tr>\n",
       "    <tr>\n",
       "      <th>20</th>\n",
       "      <td>DIRECTOR&gt; VAR_27028 Use override value [/edwet...</td>\n",
       "      <td>s_d_TEDW_RPT_DEL_NUMPORT.log</td>\n",
       "    </tr>\n",
       "    <tr>\n",
       "      <th>21</th>\n",
       "      <td>DIRECTOR&gt; VAR_27028 Use override value [/edwet...</td>\n",
       "      <td>s_d_TEDW_RPT_PR_CRM_CH_VOICE.log</td>\n",
       "    </tr>\n",
       "    <tr>\n",
       "      <th>22</th>\n",
       "      <td>DIRECTOR&gt; VAR_27028 Use override value [/edwet...</td>\n",
       "      <td>s_d_TEDW_RPT_PR_SMS_CHRG_SUMM.log</td>\n",
       "    </tr>\n",
       "    <tr>\n",
       "      <th>23</th>\n",
       "      <td>DIRECTOR&gt; VAR_27028 Use override value [/edwet...</td>\n",
       "      <td>s_d_TLR_IMPACT_COST.log</td>\n",
       "    </tr>\n",
       "    <tr>\n",
       "      <th>24</th>\n",
       "      <td>DIRECTOR&gt; VAR_27028 Use override value [/edwet...</td>\n",
       "      <td>s_d_TLR_IVR_TXN_1606.log</td>\n",
       "    </tr>\n",
       "    <tr>\n",
       "      <th>25</th>\n",
       "      <td>DIRECTOR&gt; VAR_27028 Use override value [/edwet...</td>\n",
       "      <td>s_d_TLR_IVR_TXN_1608.log</td>\n",
       "    </tr>\n",
       "    <tr>\n",
       "      <th>26</th>\n",
       "      <td>DIRECTOR&gt; VAR_27028 Use override value [/edwet...</td>\n",
       "      <td>s_d_TLR_PYMT.log</td>\n",
       "    </tr>\n",
       "    <tr>\n",
       "      <th>27</th>\n",
       "      <td>DIRECTOR&gt; VAR_27028 Use override value [/edwet...</td>\n",
       "      <td>s_d_TLR_RATE_DISCNT_OVERID.log</td>\n",
       "    </tr>\n",
       "    <tr>\n",
       "      <th>28</th>\n",
       "      <td>DIRECTOR&gt; VAR_27028 Use override value [/edwet...</td>\n",
       "      <td>s_d_TSTG_IRS_DISCOUNT.log</td>\n",
       "    </tr>\n",
       "    <tr>\n",
       "      <th>29</th>\n",
       "      <td>DIRECTOR&gt; VAR_27028 Use override value [/edwet...</td>\n",
       "      <td>s_d_TSTG_IVRSASDATA_1606.log</td>\n",
       "    </tr>\n",
       "    <tr>\n",
       "      <th>...</th>\n",
       "      <td>...</td>\n",
       "      <td>...</td>\n",
       "    </tr>\n",
       "    <tr>\n",
       "      <th>51</th>\n",
       "      <td>DIRECTOR&gt; VAR_27028 Use override value [/edwet...</td>\n",
       "      <td>s_m_TEDW_HANDSET_MODEL.log</td>\n",
       "    </tr>\n",
       "    <tr>\n",
       "      <th>52</th>\n",
       "      <td>DIRECTOR&gt; VAR_27028 Use override value [/edwet...</td>\n",
       "      <td>s_m_TEDW_RPT_CORRIDOR_CALL_PLAN.log</td>\n",
       "    </tr>\n",
       "    <tr>\n",
       "      <th>53</th>\n",
       "      <td>DIRECTOR&gt; VAR_27028 Use override value [/edwet...</td>\n",
       "      <td>s_m_TEDW_RPT_IVS_TEMP_RPT_TO_BW.log</td>\n",
       "    </tr>\n",
       "    <tr>\n",
       "      <th>54</th>\n",
       "      <td>DIRECTOR&gt; VAR_27028 Use override value [/edwet...</td>\n",
       "      <td>s_m_TEDW_RPT_PR_BBOM_BASE_MTH.log</td>\n",
       "    </tr>\n",
       "    <tr>\n",
       "      <th>55</th>\n",
       "      <td>DIRECTOR&gt; VAR_27028 Use override value [/edwet...</td>\n",
       "      <td>s_m_TEDW_RPT_PR_CRM_BK_CUBE_MTH.log</td>\n",
       "    </tr>\n",
       "    <tr>\n",
       "      <th>56</th>\n",
       "      <td>DIRECTOR&gt; VAR_27028 Use override value [/edwet...</td>\n",
       "      <td>s_m_TEDW_RPT_PR_LCAL_MINS_MTH.log</td>\n",
       "    </tr>\n",
       "    <tr>\n",
       "      <th>57</th>\n",
       "      <td>DIRECTOR&gt; VAR_27028 Use override value [/edwet...</td>\n",
       "      <td>s_m_TEDW_RPT_PR_PERFMNCE_MTH_SUMM.log</td>\n",
       "    </tr>\n",
       "    <tr>\n",
       "      <th>58</th>\n",
       "      <td>DIRECTOR&gt; VAR_27028 Use override value [/edwet...</td>\n",
       "      <td>s_m_TEDW_RPT_PR_TGT.log</td>\n",
       "    </tr>\n",
       "    <tr>\n",
       "      <th>59</th>\n",
       "      <td>DIRECTOR&gt; VAR_27028 Use override value [/edwet...</td>\n",
       "      <td>s_m_TEDW_SSO_ACTVTN_LOG_CR.log</td>\n",
       "    </tr>\n",
       "    <tr>\n",
       "      <th>60</th>\n",
       "      <td>DIRECTOR&gt; VAR_27028 Use override value [/edwet...</td>\n",
       "      <td>s_m_TEDW_SSO_SUMM_SSO.log</td>\n",
       "    </tr>\n",
       "    <tr>\n",
       "      <th>61</th>\n",
       "      <td>DIRECTOR&gt; VAR_27028 Use override value [/edwet...</td>\n",
       "      <td>s_m_TEDW_TALLYMAN_DWNSTRM.log</td>\n",
       "    </tr>\n",
       "    <tr>\n",
       "      <th>62</th>\n",
       "      <td>DIRECTOR&gt; VAR_27028 Use override value [/edwet...</td>\n",
       "      <td>s_m_TLR_GHD_DIM.log</td>\n",
       "    </tr>\n",
       "    <tr>\n",
       "      <th>63</th>\n",
       "      <td>DIRECTOR&gt; VAR_27093 Info: Override variable [m...</td>\n",
       "      <td>s_m_TLR_HANDSET_MODEL_BKP.log</td>\n",
       "    </tr>\n",
       "    <tr>\n",
       "      <th>64</th>\n",
       "      <td>DIRECTOR&gt; VAR_27028 Use override value [/edwet...</td>\n",
       "      <td>s_m_TLR_OPEN_ORDR_MTH.log</td>\n",
       "    </tr>\n",
       "    <tr>\n",
       "      <th>65</th>\n",
       "      <td>DIRECTOR&gt; VAR_27028 Use override value [/edwet...</td>\n",
       "      <td>s_m_TLR_SSO_LOGIN_LOG_SSO.log</td>\n",
       "    </tr>\n",
       "    <tr>\n",
       "      <th>66</th>\n",
       "      <td>DIRECTOR&gt; VAR_27028 Use override value [/edwet...</td>\n",
       "      <td>s_m_TLR_VOIP_LOCL_OFFNET_CALL.log</td>\n",
       "    </tr>\n",
       "    <tr>\n",
       "      <th>67</th>\n",
       "      <td>DIRECTOR&gt; VAR_27028 Use override value [/edwet...</td>\n",
       "      <td>s_m_TSTG_FREQNT_ROAMERS_REJ.log</td>\n",
       "    </tr>\n",
       "    <tr>\n",
       "      <th>68</th>\n",
       "      <td>DIRECTOR&gt; VAR_27028 Use override value [/edwet...</td>\n",
       "      <td>s_m_TSTG_ISDN_LOCL_CALL_SUMM_REJ.log</td>\n",
       "    </tr>\n",
       "    <tr>\n",
       "      <th>69</th>\n",
       "      <td>DIRECTOR&gt; VAR_27028 Use override value [/edwet...</td>\n",
       "      <td>s_m_TSTG_PR_DA_AIR_ADJSTMNT_DETL.log</td>\n",
       "    </tr>\n",
       "    <tr>\n",
       "      <th>70</th>\n",
       "      <td>DIRECTOR&gt; VAR_27028 Use override value [/edwet...</td>\n",
       "      <td>s_m_TSTG_PR_DA_AIR_REFILL_DETL.log</td>\n",
       "    </tr>\n",
       "    <tr>\n",
       "      <th>71</th>\n",
       "      <td>DIRECTOR&gt; VAR_27028 Use override value [/edwet...</td>\n",
       "      <td>s_m_TSTG_PR_DA_SDP_DETL.log</td>\n",
       "    </tr>\n",
       "    <tr>\n",
       "      <th>72</th>\n",
       "      <td>DIRECTOR&gt; VAR_27028 Use override value [/edwet...</td>\n",
       "      <td>s_m_TSTG_RP_VIP_MBR_REJ.log</td>\n",
       "    </tr>\n",
       "    <tr>\n",
       "      <th>73</th>\n",
       "      <td>DIRECTOR&gt; VAR_27028 Use override value [/edwet...</td>\n",
       "      <td>s_m_TSTG_RR_CUST_SPEND_AWARD_REJ.log</td>\n",
       "    </tr>\n",
       "    <tr>\n",
       "      <th>74</th>\n",
       "      <td>DIRECTOR&gt; VAR_27028 Use override value [/edwet...</td>\n",
       "      <td>s_m_TSTG_SINGNET_TMBANK_REJ.log</td>\n",
       "    </tr>\n",
       "    <tr>\n",
       "      <th>75</th>\n",
       "      <td>DIRECTOR&gt; VAR_27028 Use override value [/edwet...</td>\n",
       "      <td>s_m_TSTG_SINGNET_TRFC_FREE_REJ.log</td>\n",
       "    </tr>\n",
       "    <tr>\n",
       "      <th>76</th>\n",
       "      <td>DIRECTOR&gt; VAR_27028 Use override value [/edwet...</td>\n",
       "      <td>s_m_TSTG_SSOEDWACTRPT_SSO.log</td>\n",
       "    </tr>\n",
       "    <tr>\n",
       "      <th>77</th>\n",
       "      <td>DIRECTOR&gt; VAR_27028 Use override value [/edwet...</td>\n",
       "      <td>s_m_TSTG_SSOEDWLGRPT_SSO.log</td>\n",
       "    </tr>\n",
       "    <tr>\n",
       "      <th>78</th>\n",
       "      <td>DIRECTOR&gt; VAR_27028 Use override value [/edwet...</td>\n",
       "      <td>s_m_TSTG_VOIP_LOCL_OFFNET_CALL_REJ.log</td>\n",
       "    </tr>\n",
       "    <tr>\n",
       "      <th>79</th>\n",
       "      <td>DIRECTOR&gt; VAR_27028 Use override value [/edwet...</td>\n",
       "      <td>s_m__BBOM_TRACKING_RPT.log</td>\n",
       "    </tr>\n",
       "    <tr>\n",
       "      <th>80</th>\n",
       "      <td>DIRECTOR&gt; VAR_27028 Use override value [/edwet...</td>\n",
       "      <td>s_w_TLR_OPEN_ORDR_WK.log</td>\n",
       "    </tr>\n",
       "  </tbody>\n",
       "</table>\n",
       "<p>81 rows × 2 columns</p>\n",
       "</div>"
      ],
      "text/plain": [
       "                                                lines  \\\n",
       "0   DIRECTOR> VAR_27028 Use override value [/edwet...   \n",
       "1   DIRECTOR> VAR_27028 Use override value [/edwet...   \n",
       "2   DIRECTOR> VAR_27028 Use override value [/edwet...   \n",
       "3   DIRECTOR> VAR_27028 Use override value [/edwet...   \n",
       "4   DIRECTOR> VAR_27028 Use override value [/edwet...   \n",
       "5   DIRECTOR> VAR_27028 Use override value [/edwet...   \n",
       "6   DIRECTOR> VAR_27028 Use override value [/edwet...   \n",
       "7   DIRECTOR> VAR_27028 Use override value [/edwet...   \n",
       "8   DIRECTOR> VAR_27028 Use override value [/edwet...   \n",
       "9   DIRECTOR> VAR_27028 Use override value [/edwet...   \n",
       "10  DIRECTOR> VAR_27028 Use override value [/edwet...   \n",
       "11  DIRECTOR> VAR_27028 Use override value [/edwet...   \n",
       "12  DIRECTOR> VAR_27028 Use override value [/edwet...   \n",
       "13  DIRECTOR> VAR_27028 Use override value [/edwet...   \n",
       "14  DIRECTOR> VAR_27028 Use override value [/edwet...   \n",
       "15  DIRECTOR> VAR_27028 Use override value [/edwet...   \n",
       "16  DIRECTOR> VAR_27028 Use override value [/edwet...   \n",
       "17  DIRECTOR> VAR_27028 Use override value [/edwet...   \n",
       "18  DIRECTOR> VAR_27028 Use override value [/edwet...   \n",
       "19  DIRECTOR> VAR_27028 Use override value [/edwet...   \n",
       "20  DIRECTOR> VAR_27028 Use override value [/edwet...   \n",
       "21  DIRECTOR> VAR_27028 Use override value [/edwet...   \n",
       "22  DIRECTOR> VAR_27028 Use override value [/edwet...   \n",
       "23  DIRECTOR> VAR_27028 Use override value [/edwet...   \n",
       "24  DIRECTOR> VAR_27028 Use override value [/edwet...   \n",
       "25  DIRECTOR> VAR_27028 Use override value [/edwet...   \n",
       "26  DIRECTOR> VAR_27028 Use override value [/edwet...   \n",
       "27  DIRECTOR> VAR_27028 Use override value [/edwet...   \n",
       "28  DIRECTOR> VAR_27028 Use override value [/edwet...   \n",
       "29  DIRECTOR> VAR_27028 Use override value [/edwet...   \n",
       "..                                                ...   \n",
       "51  DIRECTOR> VAR_27028 Use override value [/edwet...   \n",
       "52  DIRECTOR> VAR_27028 Use override value [/edwet...   \n",
       "53  DIRECTOR> VAR_27028 Use override value [/edwet...   \n",
       "54  DIRECTOR> VAR_27028 Use override value [/edwet...   \n",
       "55  DIRECTOR> VAR_27028 Use override value [/edwet...   \n",
       "56  DIRECTOR> VAR_27028 Use override value [/edwet...   \n",
       "57  DIRECTOR> VAR_27028 Use override value [/edwet...   \n",
       "58  DIRECTOR> VAR_27028 Use override value [/edwet...   \n",
       "59  DIRECTOR> VAR_27028 Use override value [/edwet...   \n",
       "60  DIRECTOR> VAR_27028 Use override value [/edwet...   \n",
       "61  DIRECTOR> VAR_27028 Use override value [/edwet...   \n",
       "62  DIRECTOR> VAR_27028 Use override value [/edwet...   \n",
       "63  DIRECTOR> VAR_27093 Info: Override variable [m...   \n",
       "64  DIRECTOR> VAR_27028 Use override value [/edwet...   \n",
       "65  DIRECTOR> VAR_27028 Use override value [/edwet...   \n",
       "66  DIRECTOR> VAR_27028 Use override value [/edwet...   \n",
       "67  DIRECTOR> VAR_27028 Use override value [/edwet...   \n",
       "68  DIRECTOR> VAR_27028 Use override value [/edwet...   \n",
       "69  DIRECTOR> VAR_27028 Use override value [/edwet...   \n",
       "70  DIRECTOR> VAR_27028 Use override value [/edwet...   \n",
       "71  DIRECTOR> VAR_27028 Use override value [/edwet...   \n",
       "72  DIRECTOR> VAR_27028 Use override value [/edwet...   \n",
       "73  DIRECTOR> VAR_27028 Use override value [/edwet...   \n",
       "74  DIRECTOR> VAR_27028 Use override value [/edwet...   \n",
       "75  DIRECTOR> VAR_27028 Use override value [/edwet...   \n",
       "76  DIRECTOR> VAR_27028 Use override value [/edwet...   \n",
       "77  DIRECTOR> VAR_27028 Use override value [/edwet...   \n",
       "78  DIRECTOR> VAR_27028 Use override value [/edwet...   \n",
       "79  DIRECTOR> VAR_27028 Use override value [/edwet...   \n",
       "80  DIRECTOR> VAR_27028 Use override value [/edwet...   \n",
       "\n",
       "                                        filename  \n",
       "0                     s_BCC_LEGACY_PARAM_EXT.log  \n",
       "1                        s_BCC_OPOM_ARBR_MAP.log  \n",
       "2                                 s_cr302085.log  \n",
       "3             s_d_FILE_EWBB00430D_SOMSINCTXN.log  \n",
       "4            s_d_FILE_EWBB00510D_SOMSCUSTTXN.log  \n",
       "5            s_d_FILE_EWBB00520D_SOMSCUSTTXN.log  \n",
       "6          s_d_FILE_EWBB00530D_SOMSCUSTTXN_4.log  \n",
       "7                          s_d_TEDW_BCC_CUST.log  \n",
       "8                          s_d_TEDW_BCC_SUBS.log  \n",
       "9                      s_d_TEDW_BCC_SUBS_EXT.log  \n",
       "10  s_d_TEDW_IPTV_DWNSTRM_ActivityGetByDates.log  \n",
       "11        s_d_TEDW_IPTV_DWNSTRM_BundleGetAll.log  \n",
       "12       s_d_TEDW_IPTV_DWNSTRM_ChannelGetAll.log  \n",
       "13         s_d_TEDW_IPTV_DWNSTRM_OfferGetAll.log  \n",
       "14       s_d_TEDW_IPTV_DWNSTRM_ServiceGetAll.log  \n",
       "15                     s_d_TEDW_IVR_TXN_1606.log  \n",
       "16                     s_d_TEDW_IVR_TXN_1608.log  \n",
       "17                      s_d_TEDW_RAISED_ORDR.log  \n",
       "18     s_d_TEDW_RPT_BCC_EDW_WTM_REPORT_FINAL.log  \n",
       "19                 s_d_TEDW_RPT_BCC_WTM_SUMM.log  \n",
       "20                  s_d_TEDW_RPT_DEL_NUMPORT.log  \n",
       "21              s_d_TEDW_RPT_PR_CRM_CH_VOICE.log  \n",
       "22             s_d_TEDW_RPT_PR_SMS_CHRG_SUMM.log  \n",
       "23                       s_d_TLR_IMPACT_COST.log  \n",
       "24                      s_d_TLR_IVR_TXN_1606.log  \n",
       "25                      s_d_TLR_IVR_TXN_1608.log  \n",
       "26                              s_d_TLR_PYMT.log  \n",
       "27                s_d_TLR_RATE_DISCNT_OVERID.log  \n",
       "28                     s_d_TSTG_IRS_DISCOUNT.log  \n",
       "29                  s_d_TSTG_IVRSASDATA_1606.log  \n",
       "..                                           ...  \n",
       "51                    s_m_TEDW_HANDSET_MODEL.log  \n",
       "52           s_m_TEDW_RPT_CORRIDOR_CALL_PLAN.log  \n",
       "53           s_m_TEDW_RPT_IVS_TEMP_RPT_TO_BW.log  \n",
       "54             s_m_TEDW_RPT_PR_BBOM_BASE_MTH.log  \n",
       "55           s_m_TEDW_RPT_PR_CRM_BK_CUBE_MTH.log  \n",
       "56             s_m_TEDW_RPT_PR_LCAL_MINS_MTH.log  \n",
       "57         s_m_TEDW_RPT_PR_PERFMNCE_MTH_SUMM.log  \n",
       "58                       s_m_TEDW_RPT_PR_TGT.log  \n",
       "59                s_m_TEDW_SSO_ACTVTN_LOG_CR.log  \n",
       "60                     s_m_TEDW_SSO_SUMM_SSO.log  \n",
       "61                 s_m_TEDW_TALLYMAN_DWNSTRM.log  \n",
       "62                           s_m_TLR_GHD_DIM.log  \n",
       "63                 s_m_TLR_HANDSET_MODEL_BKP.log  \n",
       "64                     s_m_TLR_OPEN_ORDR_MTH.log  \n",
       "65                 s_m_TLR_SSO_LOGIN_LOG_SSO.log  \n",
       "66             s_m_TLR_VOIP_LOCL_OFFNET_CALL.log  \n",
       "67               s_m_TSTG_FREQNT_ROAMERS_REJ.log  \n",
       "68          s_m_TSTG_ISDN_LOCL_CALL_SUMM_REJ.log  \n",
       "69          s_m_TSTG_PR_DA_AIR_ADJSTMNT_DETL.log  \n",
       "70            s_m_TSTG_PR_DA_AIR_REFILL_DETL.log  \n",
       "71                   s_m_TSTG_PR_DA_SDP_DETL.log  \n",
       "72                   s_m_TSTG_RP_VIP_MBR_REJ.log  \n",
       "73          s_m_TSTG_RR_CUST_SPEND_AWARD_REJ.log  \n",
       "74               s_m_TSTG_SINGNET_TMBANK_REJ.log  \n",
       "75            s_m_TSTG_SINGNET_TRFC_FREE_REJ.log  \n",
       "76                 s_m_TSTG_SSOEDWACTRPT_SSO.log  \n",
       "77                  s_m_TSTG_SSOEDWLGRPT_SSO.log  \n",
       "78        s_m_TSTG_VOIP_LOCL_OFFNET_CALL_REJ.log  \n",
       "79                    s_m__BBOM_TRACKING_RPT.log  \n",
       "80                      s_w_TLR_OPEN_ORDR_WK.log  \n",
       "\n",
       "[81 rows x 2 columns]"
      ]
     },
     "execution_count": 32,
     "metadata": {},
     "output_type": "execute_result"
    }
   ],
   "source": [
    "df_informatica"
   ]
  },
  {
   "cell_type": "code",
   "execution_count": 33,
   "metadata": {},
   "outputs": [
    {
     "data": {
      "text/plain": [
       "(81, 2)"
      ]
     },
     "execution_count": 33,
     "metadata": {},
     "output_type": "execute_result"
    }
   ],
   "source": [
    "df_informatica.shape"
   ]
  },
  {
   "cell_type": "code",
   "execution_count": 34,
   "metadata": {},
   "outputs": [],
   "source": [
    "df_informatica['clean_line'] = df_informatica['lines'].str.replace(\"[^a-zA-Z0-9]\", \" \")"
   ]
  },
  {
   "cell_type": "code",
   "execution_count": 35,
   "metadata": {},
   "outputs": [],
   "source": [
    "df_informatica['clean_line'] = df_informatica['clean_line'].apply(lambda x: ' '.join([w for w in x.split() if len(w)>3]))"
   ]
  },
  {
   "cell_type": "code",
   "execution_count": 36,
   "metadata": {},
   "outputs": [],
   "source": [
    "df_informatica['label'] = '4'"
   ]
  },
  {
   "cell_type": "code",
   "execution_count": 37,
   "metadata": {
    "scrolled": false
   },
   "outputs": [
    {
     "data": {
      "text/plain": [
       "81"
      ]
     },
     "execution_count": 37,
     "metadata": {},
     "output_type": "execute_result"
    }
   ],
   "source": [
    "len(df_informatica['clean_line'])"
   ]
  },
  {
   "cell_type": "code",
   "execution_count": null,
   "metadata": {},
   "outputs": [],
   "source": []
  },
  {
   "cell_type": "markdown",
   "metadata": {},
   "source": [
    "## combine all four dfs"
   ]
  },
  {
   "cell_type": "code",
   "execution_count": 38,
   "metadata": {},
   "outputs": [],
   "source": [
    "df1 = pd.DataFrame\n",
    "df2 = pd.DataFrame\n",
    "df_final = pd.DataFrame"
   ]
  },
  {
   "cell_type": "code",
   "execution_count": 39,
   "metadata": {},
   "outputs": [],
   "source": [
    "df1 = df1.append(df_localhost_access,df_localhost)\n",
    "df2 = df2.append(df1,df_catalina)\n",
    "df_final = df_final.append(df2,df_informatica)"
   ]
  },
  {
   "cell_type": "code",
   "execution_count": 40,
   "metadata": {},
   "outputs": [
    {
     "data": {
      "text/plain": [
       "<bound method DataFrame.reset_index of                                                 lines  \\\n",
       "0   0:0:0:0:0:0:0:1 - - [18/Mar/2015:09:51:32 +053...   \n",
       "1   10.23.225.247 - - [24/Mar/2015:12:40:00 +0530]...   \n",
       "2   10.23.225.247 - - [25/Mar/2015:12:15:07 +0530]...   \n",
       "3   172.16.192.94 - - [26/Mar/2015:00:08:32 +0530]...   \n",
       "4   10.23.225.168 - - [28/Mar/2015:10:29:08 +0530]...   \n",
       "5   10.23.227.11 - - [31/Mar/2015:01:06:43 +0530] ...   \n",
       "6   172.19.132.26 - - [01/Apr/2015:09:26:25 +0530]...   \n",
       "7   10.53.99.12 - - [07/Apr/2015:12:19:23 +0530] \"...   \n",
       "8   10.53.50.32 - - [09/Apr/2015:09:46:50 +0530] \"...   \n",
       "9   10.53.50.151 - - [16/Apr/2015:10:16:22 +0530] ...   \n",
       "10  10.53.50.151 - - [17/Apr/2015:10:16:28 +0530] ...   \n",
       "11  10.53.50.151 - - [20/Apr/2015:10:16:21 +0530] ...   \n",
       "12  10.56.161.93 - - [22/Apr/2015:08:41:51 +0530] ...   \n",
       "13  172.16.192.94 - - [28/Apr/2015:03:07:50 +0530]...   \n",
       "14  10.53.254.13 - - [29/Apr/2015:11:56:53 +0530] ...   \n",
       "15  172.17.2.111 - - [30/Apr/2015:11:27:04 +0530] ...   \n",
       "16  172.17.1.150 - - [04/May/2015:10:02:58 +0530] ...   \n",
       "17  10.53.50.50 - - [06/May/2015:09:41:14 +0530] \"...   \n",
       "18  10.53.254.7 - - [07/May/2015:12:52:53 +0530] \"...   \n",
       "19  172.16.192.94 - - [12/May/2015:05:29:22 +0530]...   \n",
       "20  172.16.192.94 - - [13/May/2015:05:36:57 +0530]...   \n",
       "21  172.16.192.94 - - [15/May/2015:05:14:10 +0530]...   \n",
       "22  10.56.160.44 - - [19/May/2015:09:36:36 +0530] ...   \n",
       "23  10.53.254.5 - - [20/May/2015:09:09:03 +0530] \"...   \n",
       "24  10.53.50.50 - - [21/May/2015:09:39:58 +0530] \"...   \n",
       "25  172.16.192.94 - - [25/May/2015:02:09:43 +0530]...   \n",
       "26  172.16.192.94 - - [26/May/2015:02:12:50 +0530]...   \n",
       "27  172.16.192.94 - - [28/May/2015:02:40:59 +0530]...   \n",
       "28  172.16.192.94 - - [29/May/2015:02:48:47 +0530]...   \n",
       "29  10.53.50.77 - - [03/Jun/2015:11:56:39 +0530] \"...   \n",
       "..                                                ...   \n",
       "51  DIRECTOR> VAR_27028 Use override value [/edwet...   \n",
       "52  DIRECTOR> VAR_27028 Use override value [/edwet...   \n",
       "53  DIRECTOR> VAR_27028 Use override value [/edwet...   \n",
       "54  DIRECTOR> VAR_27028 Use override value [/edwet...   \n",
       "55  DIRECTOR> VAR_27028 Use override value [/edwet...   \n",
       "56  DIRECTOR> VAR_27028 Use override value [/edwet...   \n",
       "57  DIRECTOR> VAR_27028 Use override value [/edwet...   \n",
       "58  DIRECTOR> VAR_27028 Use override value [/edwet...   \n",
       "59  DIRECTOR> VAR_27028 Use override value [/edwet...   \n",
       "60  DIRECTOR> VAR_27028 Use override value [/edwet...   \n",
       "61  DIRECTOR> VAR_27028 Use override value [/edwet...   \n",
       "62  DIRECTOR> VAR_27028 Use override value [/edwet...   \n",
       "63  DIRECTOR> VAR_27093 Info: Override variable [m...   \n",
       "64  DIRECTOR> VAR_27028 Use override value [/edwet...   \n",
       "65  DIRECTOR> VAR_27028 Use override value [/edwet...   \n",
       "66  DIRECTOR> VAR_27028 Use override value [/edwet...   \n",
       "67  DIRECTOR> VAR_27028 Use override value [/edwet...   \n",
       "68  DIRECTOR> VAR_27028 Use override value [/edwet...   \n",
       "69  DIRECTOR> VAR_27028 Use override value [/edwet...   \n",
       "70  DIRECTOR> VAR_27028 Use override value [/edwet...   \n",
       "71  DIRECTOR> VAR_27028 Use override value [/edwet...   \n",
       "72  DIRECTOR> VAR_27028 Use override value [/edwet...   \n",
       "73  DIRECTOR> VAR_27028 Use override value [/edwet...   \n",
       "74  DIRECTOR> VAR_27028 Use override value [/edwet...   \n",
       "75  DIRECTOR> VAR_27028 Use override value [/edwet...   \n",
       "76  DIRECTOR> VAR_27028 Use override value [/edwet...   \n",
       "77  DIRECTOR> VAR_27028 Use override value [/edwet...   \n",
       "78  DIRECTOR> VAR_27028 Use override value [/edwet...   \n",
       "79  DIRECTOR> VAR_27028 Use override value [/edwet...   \n",
       "80  DIRECTOR> VAR_27028 Use override value [/edwet...   \n",
       "\n",
       "                                  filename  \\\n",
       "0      localhost_access_log.2015-03-18.txt   \n",
       "1      localhost_access_log.2015-03-24.txt   \n",
       "2      localhost_access_log.2015-03-25.txt   \n",
       "3      localhost_access_log.2015-03-26.txt   \n",
       "4      localhost_access_log.2015-03-28.txt   \n",
       "5      localhost_access_log.2015-03-31.txt   \n",
       "6      localhost_access_log.2015-04-01.txt   \n",
       "7      localhost_access_log.2015-04-07.txt   \n",
       "8      localhost_access_log.2015-04-09.txt   \n",
       "9      localhost_access_log.2015-04-16.txt   \n",
       "10     localhost_access_log.2015-04-17.txt   \n",
       "11     localhost_access_log.2015-04-20.txt   \n",
       "12     localhost_access_log.2015-04-22.txt   \n",
       "13     localhost_access_log.2015-04-28.txt   \n",
       "14     localhost_access_log.2015-04-29.txt   \n",
       "15     localhost_access_log.2015-04-30.txt   \n",
       "16     localhost_access_log.2015-05-04.txt   \n",
       "17     localhost_access_log.2015-05-06.txt   \n",
       "18     localhost_access_log.2015-05-07.txt   \n",
       "19     localhost_access_log.2015-05-12.txt   \n",
       "20     localhost_access_log.2015-05-13.txt   \n",
       "21     localhost_access_log.2015-05-15.txt   \n",
       "22     localhost_access_log.2015-05-19.txt   \n",
       "23     localhost_access_log.2015-05-20.txt   \n",
       "24     localhost_access_log.2015-05-21.txt   \n",
       "25     localhost_access_log.2015-05-25.txt   \n",
       "26     localhost_access_log.2015-05-26.txt   \n",
       "27     localhost_access_log.2015-05-28.txt   \n",
       "28     localhost_access_log.2015-05-29.txt   \n",
       "29     localhost_access_log.2015-06-03.txt   \n",
       "..                                     ...   \n",
       "51              s_m_TEDW_HANDSET_MODEL.log   \n",
       "52     s_m_TEDW_RPT_CORRIDOR_CALL_PLAN.log   \n",
       "53     s_m_TEDW_RPT_IVS_TEMP_RPT_TO_BW.log   \n",
       "54       s_m_TEDW_RPT_PR_BBOM_BASE_MTH.log   \n",
       "55     s_m_TEDW_RPT_PR_CRM_BK_CUBE_MTH.log   \n",
       "56       s_m_TEDW_RPT_PR_LCAL_MINS_MTH.log   \n",
       "57   s_m_TEDW_RPT_PR_PERFMNCE_MTH_SUMM.log   \n",
       "58                 s_m_TEDW_RPT_PR_TGT.log   \n",
       "59          s_m_TEDW_SSO_ACTVTN_LOG_CR.log   \n",
       "60               s_m_TEDW_SSO_SUMM_SSO.log   \n",
       "61           s_m_TEDW_TALLYMAN_DWNSTRM.log   \n",
       "62                     s_m_TLR_GHD_DIM.log   \n",
       "63           s_m_TLR_HANDSET_MODEL_BKP.log   \n",
       "64               s_m_TLR_OPEN_ORDR_MTH.log   \n",
       "65           s_m_TLR_SSO_LOGIN_LOG_SSO.log   \n",
       "66       s_m_TLR_VOIP_LOCL_OFFNET_CALL.log   \n",
       "67         s_m_TSTG_FREQNT_ROAMERS_REJ.log   \n",
       "68    s_m_TSTG_ISDN_LOCL_CALL_SUMM_REJ.log   \n",
       "69    s_m_TSTG_PR_DA_AIR_ADJSTMNT_DETL.log   \n",
       "70      s_m_TSTG_PR_DA_AIR_REFILL_DETL.log   \n",
       "71             s_m_TSTG_PR_DA_SDP_DETL.log   \n",
       "72             s_m_TSTG_RP_VIP_MBR_REJ.log   \n",
       "73    s_m_TSTG_RR_CUST_SPEND_AWARD_REJ.log   \n",
       "74         s_m_TSTG_SINGNET_TMBANK_REJ.log   \n",
       "75      s_m_TSTG_SINGNET_TRFC_FREE_REJ.log   \n",
       "76           s_m_TSTG_SSOEDWACTRPT_SSO.log   \n",
       "77            s_m_TSTG_SSOEDWLGRPT_SSO.log   \n",
       "78  s_m_TSTG_VOIP_LOCL_OFFNET_CALL_REJ.log   \n",
       "79              s_m__BBOM_TRACKING_RPT.log   \n",
       "80                s_w_TLR_OPEN_ORDR_WK.log   \n",
       "\n",
       "                                           clean_line label  \n",
       "0   2015 0530 HTTP 11444 2015 0530 scm16mar tureg ...     1  \n",
       "1   2015 0530 scm16Mar HTTP 2015 0530 HTTP 2015 05...     1  \n",
       "2   2015 0530 HTTP 2015 0530 HTTP 2015 0530 HTTP 2...     1  \n",
       "3   2015 0530 HTTP 11424 2015 0530 HTTP 11424 2015...     1  \n",
       "4   2015 0530 dash HTTP 9496 2015 0530 5Ccss 5CCC ...     1  \n",
       "5   2015 0530 tureg HTTP 4339 2015 0530 tureg HTTP...     1  \n",
       "6   2015 0530 HTTP 9021 2015 0530 HTTP 2015 0530 i...     1  \n",
       "7   2015 0530 HTTP 8942 2015 0530 HTTP 2015 0530 i...     1  \n",
       "8   2015 0530 vtip HTTP 2015 0530 HTTP 11424 2015 ...     1  \n",
       "9   2015 0530 HTTP 9802 2015 0530 HTTP 2015 0530 i...     1  \n",
       "10  2015 0530 login HTTP 8328 2015 0530 getJSP fna...     1  \n",
       "11  2015 0530 HTTP 2015 0530 HTTP 9764 2015 0530 H...     1  \n",
       "12  2015 0530 HTTP 9764 2015 0530 dropdownmenubar ...     1  \n",
       "13  2015 0530 HTTP 11424 2015 0530 HTTP 11424 2015...     1  \n",
       "14  2015 0530 HTTP 10215 2015 0530 HTTP 2015 0530 ...     1  \n",
       "15  2015 0530 HTTP 10215 2015 0530 HTTP 2015 0530 ...     1  \n",
       "16  2015 0530 HTTP 10215 2015 0530 HTTP 2015 0530 ...     1  \n",
       "17  2015 0530 HTTP 10215 2015 0530 HTTP 2015 0530 ...     1  \n",
       "18  2015 0530 HTTP 10215 2015 0530 HTTP 2015 0530 ...     1  \n",
       "19  2015 0530 HTTP 11424 2015 0530 HTTP 10215 2015...     1  \n",
       "20  2015 0530 HTTP 11424 2015 0530 HTTP 10254 2015...     1  \n",
       "21  2015 0530 HTTP 11424 2015 0530 HTTP 11424 2015...     1  \n",
       "22  2015 0530 HTTP 10254 2015 0530 HTTP 2015 0530 ...     1  \n",
       "23  2015 0530 HTTP 7446 2015 0530 HTTP 2015 0530 f...     1  \n",
       "24  2015 0530 HTTP 7446 2015 0530 HTTP 2015 0530 f...     1  \n",
       "25  2015 0530 HTTP 11424 2015 0530 favicon HTTP 20...     1  \n",
       "26  2015 0530 HTTP 11424 2015 0530 HTTP 2015 0530 ...     1  \n",
       "27  2015 0530 HTTP 11424 2015 0530 HTTP 9021 2015 ...     1  \n",
       "28  2015 0530 HTTP 11424 2015 0530 HTTP 9050 2015 ...     1  \n",
       "29  2015 0530 HTTP 1491 2015 0530 HTTP 9050 2015 0...     1  \n",
       "..                                                ...   ...  \n",
       "51  DIRECTOR 27028 override value edwetl BadFiles ...     4  \n",
       "52  DIRECTOR 27028 override value edwetl BadFiles ...     4  \n",
       "53  DIRECTOR 27028 override value edwetl BadFiles ...     4  \n",
       "54  DIRECTOR 27028 override value edwetl BadFiles ...     4  \n",
       "55  DIRECTOR 27028 override value edwetl BadFiles ...     4  \n",
       "56  DIRECTOR 27028 override value edwetl BadFiles ...     4  \n",
       "57  DIRECTOR 27028 override value edwetl BadFiles ...     4  \n",
       "58  DIRECTOR 27028 override value edwetl BadFiles ...     4  \n",
       "59  DIRECTOR 27028 override value edwetl BadFiles ...     4  \n",
       "60  DIRECTOR 27028 override value edwetl BadFiles ...     4  \n",
       "61  DIRECTOR 27028 override value edwetl BadFiles ...     4  \n",
       "62  DIRECTOR 27028 override value edwetl BadFiles ...     4  \n",
       "63  DIRECTOR 27093 Info Override variable mapping ...     4  \n",
       "64  DIRECTOR 27028 override value edwetl BadFiles ...     4  \n",
       "65  DIRECTOR 27028 override value edwetl BadFiles ...     4  \n",
       "66  DIRECTOR 27028 override value edwetl BadFiles ...     4  \n",
       "67  DIRECTOR 27028 override value edwetl BadFiles ...     4  \n",
       "68  DIRECTOR 27028 override value edwetl BadFiles ...     4  \n",
       "69  DIRECTOR 27028 override value edwetl BadFiles ...     4  \n",
       "70  DIRECTOR 27028 override value edwetl BadFiles ...     4  \n",
       "71  DIRECTOR 27028 override value edwetl BadFiles ...     4  \n",
       "72  DIRECTOR 27028 override value edwetl BadFiles ...     4  \n",
       "73  DIRECTOR 27028 override value edwetl BadFiles ...     4  \n",
       "74  DIRECTOR 27028 override value edwetl BadFiles ...     4  \n",
       "75  DIRECTOR 27028 override value edwetl BadFiles ...     4  \n",
       "76  DIRECTOR 27028 override value edwetl BadFiles ...     4  \n",
       "77  DIRECTOR 27028 override value edwetl BadFiles ...     4  \n",
       "78  DIRECTOR 27028 override value edwetl BadFiles ...     4  \n",
       "79  DIRECTOR 27028 override value edwetl BadFiles ...     4  \n",
       "80  DIRECTOR 27028 override value edwetl BadFiles ...     4  \n",
       "\n",
       "[267 rows x 4 columns]>"
      ]
     },
     "execution_count": 40,
     "metadata": {},
     "output_type": "execute_result"
    }
   ],
   "source": [
    "df_final.reset_index"
   ]
  },
  {
   "cell_type": "code",
   "execution_count": 41,
   "metadata": {
    "scrolled": true
   },
   "outputs": [
    {
     "data": {
      "text/html": [
       "<div>\n",
       "<style scoped>\n",
       "    .dataframe tbody tr th:only-of-type {\n",
       "        vertical-align: middle;\n",
       "    }\n",
       "\n",
       "    .dataframe tbody tr th {\n",
       "        vertical-align: top;\n",
       "    }\n",
       "\n",
       "    .dataframe thead th {\n",
       "        text-align: right;\n",
       "    }\n",
       "</style>\n",
       "<table border=\"1\" class=\"dataframe\">\n",
       "  <thead>\n",
       "    <tr style=\"text-align: right;\">\n",
       "      <th></th>\n",
       "      <th>lines</th>\n",
       "      <th>filename</th>\n",
       "      <th>clean_line</th>\n",
       "      <th>label</th>\n",
       "    </tr>\n",
       "  </thead>\n",
       "  <tbody>\n",
       "    <tr>\n",
       "      <th>0</th>\n",
       "      <td>0:0:0:0:0:0:0:1 - - [18/Mar/2015:09:51:32 +053...</td>\n",
       "      <td>localhost_access_log.2015-03-18.txt</td>\n",
       "      <td>2015 0530 HTTP 11444 2015 0530 scm16mar tureg ...</td>\n",
       "      <td>1</td>\n",
       "    </tr>\n",
       "    <tr>\n",
       "      <th>1</th>\n",
       "      <td>10.23.225.247 - - [24/Mar/2015:12:40:00 +0530]...</td>\n",
       "      <td>localhost_access_log.2015-03-24.txt</td>\n",
       "      <td>2015 0530 scm16Mar HTTP 2015 0530 HTTP 2015 05...</td>\n",
       "      <td>1</td>\n",
       "    </tr>\n",
       "    <tr>\n",
       "      <th>2</th>\n",
       "      <td>10.23.225.247 - - [25/Mar/2015:12:15:07 +0530]...</td>\n",
       "      <td>localhost_access_log.2015-03-25.txt</td>\n",
       "      <td>2015 0530 HTTP 2015 0530 HTTP 2015 0530 HTTP 2...</td>\n",
       "      <td>1</td>\n",
       "    </tr>\n",
       "    <tr>\n",
       "      <th>3</th>\n",
       "      <td>172.16.192.94 - - [26/Mar/2015:00:08:32 +0530]...</td>\n",
       "      <td>localhost_access_log.2015-03-26.txt</td>\n",
       "      <td>2015 0530 HTTP 11424 2015 0530 HTTP 11424 2015...</td>\n",
       "      <td>1</td>\n",
       "    </tr>\n",
       "    <tr>\n",
       "      <th>4</th>\n",
       "      <td>10.23.225.168 - - [28/Mar/2015:10:29:08 +0530]...</td>\n",
       "      <td>localhost_access_log.2015-03-28.txt</td>\n",
       "      <td>2015 0530 dash HTTP 9496 2015 0530 5Ccss 5CCC ...</td>\n",
       "      <td>1</td>\n",
       "    </tr>\n",
       "    <tr>\n",
       "      <th>5</th>\n",
       "      <td>10.23.227.11 - - [31/Mar/2015:01:06:43 +0530] ...</td>\n",
       "      <td>localhost_access_log.2015-03-31.txt</td>\n",
       "      <td>2015 0530 tureg HTTP 4339 2015 0530 tureg HTTP...</td>\n",
       "      <td>1</td>\n",
       "    </tr>\n",
       "    <tr>\n",
       "      <th>6</th>\n",
       "      <td>172.19.132.26 - - [01/Apr/2015:09:26:25 +0530]...</td>\n",
       "      <td>localhost_access_log.2015-04-01.txt</td>\n",
       "      <td>2015 0530 HTTP 9021 2015 0530 HTTP 2015 0530 i...</td>\n",
       "      <td>1</td>\n",
       "    </tr>\n",
       "    <tr>\n",
       "      <th>7</th>\n",
       "      <td>10.53.99.12 - - [07/Apr/2015:12:19:23 +0530] \"...</td>\n",
       "      <td>localhost_access_log.2015-04-07.txt</td>\n",
       "      <td>2015 0530 HTTP 8942 2015 0530 HTTP 2015 0530 i...</td>\n",
       "      <td>1</td>\n",
       "    </tr>\n",
       "    <tr>\n",
       "      <th>8</th>\n",
       "      <td>10.53.50.32 - - [09/Apr/2015:09:46:50 +0530] \"...</td>\n",
       "      <td>localhost_access_log.2015-04-09.txt</td>\n",
       "      <td>2015 0530 vtip HTTP 2015 0530 HTTP 11424 2015 ...</td>\n",
       "      <td>1</td>\n",
       "    </tr>\n",
       "    <tr>\n",
       "      <th>9</th>\n",
       "      <td>10.53.50.151 - - [16/Apr/2015:10:16:22 +0530] ...</td>\n",
       "      <td>localhost_access_log.2015-04-16.txt</td>\n",
       "      <td>2015 0530 HTTP 9802 2015 0530 HTTP 2015 0530 i...</td>\n",
       "      <td>1</td>\n",
       "    </tr>\n",
       "    <tr>\n",
       "      <th>10</th>\n",
       "      <td>10.53.50.151 - - [17/Apr/2015:10:16:28 +0530] ...</td>\n",
       "      <td>localhost_access_log.2015-04-17.txt</td>\n",
       "      <td>2015 0530 login HTTP 8328 2015 0530 getJSP fna...</td>\n",
       "      <td>1</td>\n",
       "    </tr>\n",
       "    <tr>\n",
       "      <th>11</th>\n",
       "      <td>10.53.50.151 - - [20/Apr/2015:10:16:21 +0530] ...</td>\n",
       "      <td>localhost_access_log.2015-04-20.txt</td>\n",
       "      <td>2015 0530 HTTP 2015 0530 HTTP 9764 2015 0530 H...</td>\n",
       "      <td>1</td>\n",
       "    </tr>\n",
       "    <tr>\n",
       "      <th>12</th>\n",
       "      <td>10.56.161.93 - - [22/Apr/2015:08:41:51 +0530] ...</td>\n",
       "      <td>localhost_access_log.2015-04-22.txt</td>\n",
       "      <td>2015 0530 HTTP 9764 2015 0530 dropdownmenubar ...</td>\n",
       "      <td>1</td>\n",
       "    </tr>\n",
       "    <tr>\n",
       "      <th>13</th>\n",
       "      <td>172.16.192.94 - - [28/Apr/2015:03:07:50 +0530]...</td>\n",
       "      <td>localhost_access_log.2015-04-28.txt</td>\n",
       "      <td>2015 0530 HTTP 11424 2015 0530 HTTP 11424 2015...</td>\n",
       "      <td>1</td>\n",
       "    </tr>\n",
       "    <tr>\n",
       "      <th>14</th>\n",
       "      <td>10.53.254.13 - - [29/Apr/2015:11:56:53 +0530] ...</td>\n",
       "      <td>localhost_access_log.2015-04-29.txt</td>\n",
       "      <td>2015 0530 HTTP 10215 2015 0530 HTTP 2015 0530 ...</td>\n",
       "      <td>1</td>\n",
       "    </tr>\n",
       "    <tr>\n",
       "      <th>15</th>\n",
       "      <td>172.17.2.111 - - [30/Apr/2015:11:27:04 +0530] ...</td>\n",
       "      <td>localhost_access_log.2015-04-30.txt</td>\n",
       "      <td>2015 0530 HTTP 10215 2015 0530 HTTP 2015 0530 ...</td>\n",
       "      <td>1</td>\n",
       "    </tr>\n",
       "    <tr>\n",
       "      <th>16</th>\n",
       "      <td>172.17.1.150 - - [04/May/2015:10:02:58 +0530] ...</td>\n",
       "      <td>localhost_access_log.2015-05-04.txt</td>\n",
       "      <td>2015 0530 HTTP 10215 2015 0530 HTTP 2015 0530 ...</td>\n",
       "      <td>1</td>\n",
       "    </tr>\n",
       "    <tr>\n",
       "      <th>17</th>\n",
       "      <td>10.53.50.50 - - [06/May/2015:09:41:14 +0530] \"...</td>\n",
       "      <td>localhost_access_log.2015-05-06.txt</td>\n",
       "      <td>2015 0530 HTTP 10215 2015 0530 HTTP 2015 0530 ...</td>\n",
       "      <td>1</td>\n",
       "    </tr>\n",
       "    <tr>\n",
       "      <th>18</th>\n",
       "      <td>10.53.254.7 - - [07/May/2015:12:52:53 +0530] \"...</td>\n",
       "      <td>localhost_access_log.2015-05-07.txt</td>\n",
       "      <td>2015 0530 HTTP 10215 2015 0530 HTTP 2015 0530 ...</td>\n",
       "      <td>1</td>\n",
       "    </tr>\n",
       "    <tr>\n",
       "      <th>19</th>\n",
       "      <td>172.16.192.94 - - [12/May/2015:05:29:22 +0530]...</td>\n",
       "      <td>localhost_access_log.2015-05-12.txt</td>\n",
       "      <td>2015 0530 HTTP 11424 2015 0530 HTTP 10215 2015...</td>\n",
       "      <td>1</td>\n",
       "    </tr>\n",
       "    <tr>\n",
       "      <th>20</th>\n",
       "      <td>172.16.192.94 - - [13/May/2015:05:36:57 +0530]...</td>\n",
       "      <td>localhost_access_log.2015-05-13.txt</td>\n",
       "      <td>2015 0530 HTTP 11424 2015 0530 HTTP 10254 2015...</td>\n",
       "      <td>1</td>\n",
       "    </tr>\n",
       "    <tr>\n",
       "      <th>21</th>\n",
       "      <td>172.16.192.94 - - [15/May/2015:05:14:10 +0530]...</td>\n",
       "      <td>localhost_access_log.2015-05-15.txt</td>\n",
       "      <td>2015 0530 HTTP 11424 2015 0530 HTTP 11424 2015...</td>\n",
       "      <td>1</td>\n",
       "    </tr>\n",
       "    <tr>\n",
       "      <th>22</th>\n",
       "      <td>10.56.160.44 - - [19/May/2015:09:36:36 +0530] ...</td>\n",
       "      <td>localhost_access_log.2015-05-19.txt</td>\n",
       "      <td>2015 0530 HTTP 10254 2015 0530 HTTP 2015 0530 ...</td>\n",
       "      <td>1</td>\n",
       "    </tr>\n",
       "    <tr>\n",
       "      <th>23</th>\n",
       "      <td>10.53.254.5 - - [20/May/2015:09:09:03 +0530] \"...</td>\n",
       "      <td>localhost_access_log.2015-05-20.txt</td>\n",
       "      <td>2015 0530 HTTP 7446 2015 0530 HTTP 2015 0530 f...</td>\n",
       "      <td>1</td>\n",
       "    </tr>\n",
       "    <tr>\n",
       "      <th>24</th>\n",
       "      <td>10.53.50.50 - - [21/May/2015:09:39:58 +0530] \"...</td>\n",
       "      <td>localhost_access_log.2015-05-21.txt</td>\n",
       "      <td>2015 0530 HTTP 7446 2015 0530 HTTP 2015 0530 f...</td>\n",
       "      <td>1</td>\n",
       "    </tr>\n",
       "    <tr>\n",
       "      <th>25</th>\n",
       "      <td>172.16.192.94 - - [25/May/2015:02:09:43 +0530]...</td>\n",
       "      <td>localhost_access_log.2015-05-25.txt</td>\n",
       "      <td>2015 0530 HTTP 11424 2015 0530 favicon HTTP 20...</td>\n",
       "      <td>1</td>\n",
       "    </tr>\n",
       "    <tr>\n",
       "      <th>26</th>\n",
       "      <td>172.16.192.94 - - [26/May/2015:02:12:50 +0530]...</td>\n",
       "      <td>localhost_access_log.2015-05-26.txt</td>\n",
       "      <td>2015 0530 HTTP 11424 2015 0530 HTTP 2015 0530 ...</td>\n",
       "      <td>1</td>\n",
       "    </tr>\n",
       "    <tr>\n",
       "      <th>27</th>\n",
       "      <td>172.16.192.94 - - [28/May/2015:02:40:59 +0530]...</td>\n",
       "      <td>localhost_access_log.2015-05-28.txt</td>\n",
       "      <td>2015 0530 HTTP 11424 2015 0530 HTTP 9021 2015 ...</td>\n",
       "      <td>1</td>\n",
       "    </tr>\n",
       "    <tr>\n",
       "      <th>28</th>\n",
       "      <td>172.16.192.94 - - [29/May/2015:02:48:47 +0530]...</td>\n",
       "      <td>localhost_access_log.2015-05-29.txt</td>\n",
       "      <td>2015 0530 HTTP 11424 2015 0530 HTTP 9050 2015 ...</td>\n",
       "      <td>1</td>\n",
       "    </tr>\n",
       "    <tr>\n",
       "      <th>29</th>\n",
       "      <td>10.53.50.77 - - [03/Jun/2015:11:56:39 +0530] \"...</td>\n",
       "      <td>localhost_access_log.2015-06-03.txt</td>\n",
       "      <td>2015 0530 HTTP 1491 2015 0530 HTTP 9050 2015 0...</td>\n",
       "      <td>1</td>\n",
       "    </tr>\n",
       "    <tr>\n",
       "      <th>...</th>\n",
       "      <td>...</td>\n",
       "      <td>...</td>\n",
       "      <td>...</td>\n",
       "      <td>...</td>\n",
       "    </tr>\n",
       "    <tr>\n",
       "      <th>51</th>\n",
       "      <td>DIRECTOR&gt; VAR_27028 Use override value [/edwet...</td>\n",
       "      <td>s_m_TEDW_HANDSET_MODEL.log</td>\n",
       "      <td>DIRECTOR 27028 override value edwetl BadFiles ...</td>\n",
       "      <td>4</td>\n",
       "    </tr>\n",
       "    <tr>\n",
       "      <th>52</th>\n",
       "      <td>DIRECTOR&gt; VAR_27028 Use override value [/edwet...</td>\n",
       "      <td>s_m_TEDW_RPT_CORRIDOR_CALL_PLAN.log</td>\n",
       "      <td>DIRECTOR 27028 override value edwetl BadFiles ...</td>\n",
       "      <td>4</td>\n",
       "    </tr>\n",
       "    <tr>\n",
       "      <th>53</th>\n",
       "      <td>DIRECTOR&gt; VAR_27028 Use override value [/edwet...</td>\n",
       "      <td>s_m_TEDW_RPT_IVS_TEMP_RPT_TO_BW.log</td>\n",
       "      <td>DIRECTOR 27028 override value edwetl BadFiles ...</td>\n",
       "      <td>4</td>\n",
       "    </tr>\n",
       "    <tr>\n",
       "      <th>54</th>\n",
       "      <td>DIRECTOR&gt; VAR_27028 Use override value [/edwet...</td>\n",
       "      <td>s_m_TEDW_RPT_PR_BBOM_BASE_MTH.log</td>\n",
       "      <td>DIRECTOR 27028 override value edwetl BadFiles ...</td>\n",
       "      <td>4</td>\n",
       "    </tr>\n",
       "    <tr>\n",
       "      <th>55</th>\n",
       "      <td>DIRECTOR&gt; VAR_27028 Use override value [/edwet...</td>\n",
       "      <td>s_m_TEDW_RPT_PR_CRM_BK_CUBE_MTH.log</td>\n",
       "      <td>DIRECTOR 27028 override value edwetl BadFiles ...</td>\n",
       "      <td>4</td>\n",
       "    </tr>\n",
       "    <tr>\n",
       "      <th>56</th>\n",
       "      <td>DIRECTOR&gt; VAR_27028 Use override value [/edwet...</td>\n",
       "      <td>s_m_TEDW_RPT_PR_LCAL_MINS_MTH.log</td>\n",
       "      <td>DIRECTOR 27028 override value edwetl BadFiles ...</td>\n",
       "      <td>4</td>\n",
       "    </tr>\n",
       "    <tr>\n",
       "      <th>57</th>\n",
       "      <td>DIRECTOR&gt; VAR_27028 Use override value [/edwet...</td>\n",
       "      <td>s_m_TEDW_RPT_PR_PERFMNCE_MTH_SUMM.log</td>\n",
       "      <td>DIRECTOR 27028 override value edwetl BadFiles ...</td>\n",
       "      <td>4</td>\n",
       "    </tr>\n",
       "    <tr>\n",
       "      <th>58</th>\n",
       "      <td>DIRECTOR&gt; VAR_27028 Use override value [/edwet...</td>\n",
       "      <td>s_m_TEDW_RPT_PR_TGT.log</td>\n",
       "      <td>DIRECTOR 27028 override value edwetl BadFiles ...</td>\n",
       "      <td>4</td>\n",
       "    </tr>\n",
       "    <tr>\n",
       "      <th>59</th>\n",
       "      <td>DIRECTOR&gt; VAR_27028 Use override value [/edwet...</td>\n",
       "      <td>s_m_TEDW_SSO_ACTVTN_LOG_CR.log</td>\n",
       "      <td>DIRECTOR 27028 override value edwetl BadFiles ...</td>\n",
       "      <td>4</td>\n",
       "    </tr>\n",
       "    <tr>\n",
       "      <th>60</th>\n",
       "      <td>DIRECTOR&gt; VAR_27028 Use override value [/edwet...</td>\n",
       "      <td>s_m_TEDW_SSO_SUMM_SSO.log</td>\n",
       "      <td>DIRECTOR 27028 override value edwetl BadFiles ...</td>\n",
       "      <td>4</td>\n",
       "    </tr>\n",
       "    <tr>\n",
       "      <th>61</th>\n",
       "      <td>DIRECTOR&gt; VAR_27028 Use override value [/edwet...</td>\n",
       "      <td>s_m_TEDW_TALLYMAN_DWNSTRM.log</td>\n",
       "      <td>DIRECTOR 27028 override value edwetl BadFiles ...</td>\n",
       "      <td>4</td>\n",
       "    </tr>\n",
       "    <tr>\n",
       "      <th>62</th>\n",
       "      <td>DIRECTOR&gt; VAR_27028 Use override value [/edwet...</td>\n",
       "      <td>s_m_TLR_GHD_DIM.log</td>\n",
       "      <td>DIRECTOR 27028 override value edwetl BadFiles ...</td>\n",
       "      <td>4</td>\n",
       "    </tr>\n",
       "    <tr>\n",
       "      <th>63</th>\n",
       "      <td>DIRECTOR&gt; VAR_27093 Info: Override variable [m...</td>\n",
       "      <td>s_m_TLR_HANDSET_MODEL_BKP.log</td>\n",
       "      <td>DIRECTOR 27093 Info Override variable mapping ...</td>\n",
       "      <td>4</td>\n",
       "    </tr>\n",
       "    <tr>\n",
       "      <th>64</th>\n",
       "      <td>DIRECTOR&gt; VAR_27028 Use override value [/edwet...</td>\n",
       "      <td>s_m_TLR_OPEN_ORDR_MTH.log</td>\n",
       "      <td>DIRECTOR 27028 override value edwetl BadFiles ...</td>\n",
       "      <td>4</td>\n",
       "    </tr>\n",
       "    <tr>\n",
       "      <th>65</th>\n",
       "      <td>DIRECTOR&gt; VAR_27028 Use override value [/edwet...</td>\n",
       "      <td>s_m_TLR_SSO_LOGIN_LOG_SSO.log</td>\n",
       "      <td>DIRECTOR 27028 override value edwetl BadFiles ...</td>\n",
       "      <td>4</td>\n",
       "    </tr>\n",
       "    <tr>\n",
       "      <th>66</th>\n",
       "      <td>DIRECTOR&gt; VAR_27028 Use override value [/edwet...</td>\n",
       "      <td>s_m_TLR_VOIP_LOCL_OFFNET_CALL.log</td>\n",
       "      <td>DIRECTOR 27028 override value edwetl BadFiles ...</td>\n",
       "      <td>4</td>\n",
       "    </tr>\n",
       "    <tr>\n",
       "      <th>67</th>\n",
       "      <td>DIRECTOR&gt; VAR_27028 Use override value [/edwet...</td>\n",
       "      <td>s_m_TSTG_FREQNT_ROAMERS_REJ.log</td>\n",
       "      <td>DIRECTOR 27028 override value edwetl BadFiles ...</td>\n",
       "      <td>4</td>\n",
       "    </tr>\n",
       "    <tr>\n",
       "      <th>68</th>\n",
       "      <td>DIRECTOR&gt; VAR_27028 Use override value [/edwet...</td>\n",
       "      <td>s_m_TSTG_ISDN_LOCL_CALL_SUMM_REJ.log</td>\n",
       "      <td>DIRECTOR 27028 override value edwetl BadFiles ...</td>\n",
       "      <td>4</td>\n",
       "    </tr>\n",
       "    <tr>\n",
       "      <th>69</th>\n",
       "      <td>DIRECTOR&gt; VAR_27028 Use override value [/edwet...</td>\n",
       "      <td>s_m_TSTG_PR_DA_AIR_ADJSTMNT_DETL.log</td>\n",
       "      <td>DIRECTOR 27028 override value edwetl BadFiles ...</td>\n",
       "      <td>4</td>\n",
       "    </tr>\n",
       "    <tr>\n",
       "      <th>70</th>\n",
       "      <td>DIRECTOR&gt; VAR_27028 Use override value [/edwet...</td>\n",
       "      <td>s_m_TSTG_PR_DA_AIR_REFILL_DETL.log</td>\n",
       "      <td>DIRECTOR 27028 override value edwetl BadFiles ...</td>\n",
       "      <td>4</td>\n",
       "    </tr>\n",
       "    <tr>\n",
       "      <th>71</th>\n",
       "      <td>DIRECTOR&gt; VAR_27028 Use override value [/edwet...</td>\n",
       "      <td>s_m_TSTG_PR_DA_SDP_DETL.log</td>\n",
       "      <td>DIRECTOR 27028 override value edwetl BadFiles ...</td>\n",
       "      <td>4</td>\n",
       "    </tr>\n",
       "    <tr>\n",
       "      <th>72</th>\n",
       "      <td>DIRECTOR&gt; VAR_27028 Use override value [/edwet...</td>\n",
       "      <td>s_m_TSTG_RP_VIP_MBR_REJ.log</td>\n",
       "      <td>DIRECTOR 27028 override value edwetl BadFiles ...</td>\n",
       "      <td>4</td>\n",
       "    </tr>\n",
       "    <tr>\n",
       "      <th>73</th>\n",
       "      <td>DIRECTOR&gt; VAR_27028 Use override value [/edwet...</td>\n",
       "      <td>s_m_TSTG_RR_CUST_SPEND_AWARD_REJ.log</td>\n",
       "      <td>DIRECTOR 27028 override value edwetl BadFiles ...</td>\n",
       "      <td>4</td>\n",
       "    </tr>\n",
       "    <tr>\n",
       "      <th>74</th>\n",
       "      <td>DIRECTOR&gt; VAR_27028 Use override value [/edwet...</td>\n",
       "      <td>s_m_TSTG_SINGNET_TMBANK_REJ.log</td>\n",
       "      <td>DIRECTOR 27028 override value edwetl BadFiles ...</td>\n",
       "      <td>4</td>\n",
       "    </tr>\n",
       "    <tr>\n",
       "      <th>75</th>\n",
       "      <td>DIRECTOR&gt; VAR_27028 Use override value [/edwet...</td>\n",
       "      <td>s_m_TSTG_SINGNET_TRFC_FREE_REJ.log</td>\n",
       "      <td>DIRECTOR 27028 override value edwetl BadFiles ...</td>\n",
       "      <td>4</td>\n",
       "    </tr>\n",
       "    <tr>\n",
       "      <th>76</th>\n",
       "      <td>DIRECTOR&gt; VAR_27028 Use override value [/edwet...</td>\n",
       "      <td>s_m_TSTG_SSOEDWACTRPT_SSO.log</td>\n",
       "      <td>DIRECTOR 27028 override value edwetl BadFiles ...</td>\n",
       "      <td>4</td>\n",
       "    </tr>\n",
       "    <tr>\n",
       "      <th>77</th>\n",
       "      <td>DIRECTOR&gt; VAR_27028 Use override value [/edwet...</td>\n",
       "      <td>s_m_TSTG_SSOEDWLGRPT_SSO.log</td>\n",
       "      <td>DIRECTOR 27028 override value edwetl BadFiles ...</td>\n",
       "      <td>4</td>\n",
       "    </tr>\n",
       "    <tr>\n",
       "      <th>78</th>\n",
       "      <td>DIRECTOR&gt; VAR_27028 Use override value [/edwet...</td>\n",
       "      <td>s_m_TSTG_VOIP_LOCL_OFFNET_CALL_REJ.log</td>\n",
       "      <td>DIRECTOR 27028 override value edwetl BadFiles ...</td>\n",
       "      <td>4</td>\n",
       "    </tr>\n",
       "    <tr>\n",
       "      <th>79</th>\n",
       "      <td>DIRECTOR&gt; VAR_27028 Use override value [/edwet...</td>\n",
       "      <td>s_m__BBOM_TRACKING_RPT.log</td>\n",
       "      <td>DIRECTOR 27028 override value edwetl BadFiles ...</td>\n",
       "      <td>4</td>\n",
       "    </tr>\n",
       "    <tr>\n",
       "      <th>80</th>\n",
       "      <td>DIRECTOR&gt; VAR_27028 Use override value [/edwet...</td>\n",
       "      <td>s_w_TLR_OPEN_ORDR_WK.log</td>\n",
       "      <td>DIRECTOR 27028 override value edwetl BadFiles ...</td>\n",
       "      <td>4</td>\n",
       "    </tr>\n",
       "  </tbody>\n",
       "</table>\n",
       "<p>267 rows × 4 columns</p>\n",
       "</div>"
      ],
      "text/plain": [
       "                                                lines  \\\n",
       "0   0:0:0:0:0:0:0:1 - - [18/Mar/2015:09:51:32 +053...   \n",
       "1   10.23.225.247 - - [24/Mar/2015:12:40:00 +0530]...   \n",
       "2   10.23.225.247 - - [25/Mar/2015:12:15:07 +0530]...   \n",
       "3   172.16.192.94 - - [26/Mar/2015:00:08:32 +0530]...   \n",
       "4   10.23.225.168 - - [28/Mar/2015:10:29:08 +0530]...   \n",
       "5   10.23.227.11 - - [31/Mar/2015:01:06:43 +0530] ...   \n",
       "6   172.19.132.26 - - [01/Apr/2015:09:26:25 +0530]...   \n",
       "7   10.53.99.12 - - [07/Apr/2015:12:19:23 +0530] \"...   \n",
       "8   10.53.50.32 - - [09/Apr/2015:09:46:50 +0530] \"...   \n",
       "9   10.53.50.151 - - [16/Apr/2015:10:16:22 +0530] ...   \n",
       "10  10.53.50.151 - - [17/Apr/2015:10:16:28 +0530] ...   \n",
       "11  10.53.50.151 - - [20/Apr/2015:10:16:21 +0530] ...   \n",
       "12  10.56.161.93 - - [22/Apr/2015:08:41:51 +0530] ...   \n",
       "13  172.16.192.94 - - [28/Apr/2015:03:07:50 +0530]...   \n",
       "14  10.53.254.13 - - [29/Apr/2015:11:56:53 +0530] ...   \n",
       "15  172.17.2.111 - - [30/Apr/2015:11:27:04 +0530] ...   \n",
       "16  172.17.1.150 - - [04/May/2015:10:02:58 +0530] ...   \n",
       "17  10.53.50.50 - - [06/May/2015:09:41:14 +0530] \"...   \n",
       "18  10.53.254.7 - - [07/May/2015:12:52:53 +0530] \"...   \n",
       "19  172.16.192.94 - - [12/May/2015:05:29:22 +0530]...   \n",
       "20  172.16.192.94 - - [13/May/2015:05:36:57 +0530]...   \n",
       "21  172.16.192.94 - - [15/May/2015:05:14:10 +0530]...   \n",
       "22  10.56.160.44 - - [19/May/2015:09:36:36 +0530] ...   \n",
       "23  10.53.254.5 - - [20/May/2015:09:09:03 +0530] \"...   \n",
       "24  10.53.50.50 - - [21/May/2015:09:39:58 +0530] \"...   \n",
       "25  172.16.192.94 - - [25/May/2015:02:09:43 +0530]...   \n",
       "26  172.16.192.94 - - [26/May/2015:02:12:50 +0530]...   \n",
       "27  172.16.192.94 - - [28/May/2015:02:40:59 +0530]...   \n",
       "28  172.16.192.94 - - [29/May/2015:02:48:47 +0530]...   \n",
       "29  10.53.50.77 - - [03/Jun/2015:11:56:39 +0530] \"...   \n",
       "..                                                ...   \n",
       "51  DIRECTOR> VAR_27028 Use override value [/edwet...   \n",
       "52  DIRECTOR> VAR_27028 Use override value [/edwet...   \n",
       "53  DIRECTOR> VAR_27028 Use override value [/edwet...   \n",
       "54  DIRECTOR> VAR_27028 Use override value [/edwet...   \n",
       "55  DIRECTOR> VAR_27028 Use override value [/edwet...   \n",
       "56  DIRECTOR> VAR_27028 Use override value [/edwet...   \n",
       "57  DIRECTOR> VAR_27028 Use override value [/edwet...   \n",
       "58  DIRECTOR> VAR_27028 Use override value [/edwet...   \n",
       "59  DIRECTOR> VAR_27028 Use override value [/edwet...   \n",
       "60  DIRECTOR> VAR_27028 Use override value [/edwet...   \n",
       "61  DIRECTOR> VAR_27028 Use override value [/edwet...   \n",
       "62  DIRECTOR> VAR_27028 Use override value [/edwet...   \n",
       "63  DIRECTOR> VAR_27093 Info: Override variable [m...   \n",
       "64  DIRECTOR> VAR_27028 Use override value [/edwet...   \n",
       "65  DIRECTOR> VAR_27028 Use override value [/edwet...   \n",
       "66  DIRECTOR> VAR_27028 Use override value [/edwet...   \n",
       "67  DIRECTOR> VAR_27028 Use override value [/edwet...   \n",
       "68  DIRECTOR> VAR_27028 Use override value [/edwet...   \n",
       "69  DIRECTOR> VAR_27028 Use override value [/edwet...   \n",
       "70  DIRECTOR> VAR_27028 Use override value [/edwet...   \n",
       "71  DIRECTOR> VAR_27028 Use override value [/edwet...   \n",
       "72  DIRECTOR> VAR_27028 Use override value [/edwet...   \n",
       "73  DIRECTOR> VAR_27028 Use override value [/edwet...   \n",
       "74  DIRECTOR> VAR_27028 Use override value [/edwet...   \n",
       "75  DIRECTOR> VAR_27028 Use override value [/edwet...   \n",
       "76  DIRECTOR> VAR_27028 Use override value [/edwet...   \n",
       "77  DIRECTOR> VAR_27028 Use override value [/edwet...   \n",
       "78  DIRECTOR> VAR_27028 Use override value [/edwet...   \n",
       "79  DIRECTOR> VAR_27028 Use override value [/edwet...   \n",
       "80  DIRECTOR> VAR_27028 Use override value [/edwet...   \n",
       "\n",
       "                                  filename  \\\n",
       "0      localhost_access_log.2015-03-18.txt   \n",
       "1      localhost_access_log.2015-03-24.txt   \n",
       "2      localhost_access_log.2015-03-25.txt   \n",
       "3      localhost_access_log.2015-03-26.txt   \n",
       "4      localhost_access_log.2015-03-28.txt   \n",
       "5      localhost_access_log.2015-03-31.txt   \n",
       "6      localhost_access_log.2015-04-01.txt   \n",
       "7      localhost_access_log.2015-04-07.txt   \n",
       "8      localhost_access_log.2015-04-09.txt   \n",
       "9      localhost_access_log.2015-04-16.txt   \n",
       "10     localhost_access_log.2015-04-17.txt   \n",
       "11     localhost_access_log.2015-04-20.txt   \n",
       "12     localhost_access_log.2015-04-22.txt   \n",
       "13     localhost_access_log.2015-04-28.txt   \n",
       "14     localhost_access_log.2015-04-29.txt   \n",
       "15     localhost_access_log.2015-04-30.txt   \n",
       "16     localhost_access_log.2015-05-04.txt   \n",
       "17     localhost_access_log.2015-05-06.txt   \n",
       "18     localhost_access_log.2015-05-07.txt   \n",
       "19     localhost_access_log.2015-05-12.txt   \n",
       "20     localhost_access_log.2015-05-13.txt   \n",
       "21     localhost_access_log.2015-05-15.txt   \n",
       "22     localhost_access_log.2015-05-19.txt   \n",
       "23     localhost_access_log.2015-05-20.txt   \n",
       "24     localhost_access_log.2015-05-21.txt   \n",
       "25     localhost_access_log.2015-05-25.txt   \n",
       "26     localhost_access_log.2015-05-26.txt   \n",
       "27     localhost_access_log.2015-05-28.txt   \n",
       "28     localhost_access_log.2015-05-29.txt   \n",
       "29     localhost_access_log.2015-06-03.txt   \n",
       "..                                     ...   \n",
       "51              s_m_TEDW_HANDSET_MODEL.log   \n",
       "52     s_m_TEDW_RPT_CORRIDOR_CALL_PLAN.log   \n",
       "53     s_m_TEDW_RPT_IVS_TEMP_RPT_TO_BW.log   \n",
       "54       s_m_TEDW_RPT_PR_BBOM_BASE_MTH.log   \n",
       "55     s_m_TEDW_RPT_PR_CRM_BK_CUBE_MTH.log   \n",
       "56       s_m_TEDW_RPT_PR_LCAL_MINS_MTH.log   \n",
       "57   s_m_TEDW_RPT_PR_PERFMNCE_MTH_SUMM.log   \n",
       "58                 s_m_TEDW_RPT_PR_TGT.log   \n",
       "59          s_m_TEDW_SSO_ACTVTN_LOG_CR.log   \n",
       "60               s_m_TEDW_SSO_SUMM_SSO.log   \n",
       "61           s_m_TEDW_TALLYMAN_DWNSTRM.log   \n",
       "62                     s_m_TLR_GHD_DIM.log   \n",
       "63           s_m_TLR_HANDSET_MODEL_BKP.log   \n",
       "64               s_m_TLR_OPEN_ORDR_MTH.log   \n",
       "65           s_m_TLR_SSO_LOGIN_LOG_SSO.log   \n",
       "66       s_m_TLR_VOIP_LOCL_OFFNET_CALL.log   \n",
       "67         s_m_TSTG_FREQNT_ROAMERS_REJ.log   \n",
       "68    s_m_TSTG_ISDN_LOCL_CALL_SUMM_REJ.log   \n",
       "69    s_m_TSTG_PR_DA_AIR_ADJSTMNT_DETL.log   \n",
       "70      s_m_TSTG_PR_DA_AIR_REFILL_DETL.log   \n",
       "71             s_m_TSTG_PR_DA_SDP_DETL.log   \n",
       "72             s_m_TSTG_RP_VIP_MBR_REJ.log   \n",
       "73    s_m_TSTG_RR_CUST_SPEND_AWARD_REJ.log   \n",
       "74         s_m_TSTG_SINGNET_TMBANK_REJ.log   \n",
       "75      s_m_TSTG_SINGNET_TRFC_FREE_REJ.log   \n",
       "76           s_m_TSTG_SSOEDWACTRPT_SSO.log   \n",
       "77            s_m_TSTG_SSOEDWLGRPT_SSO.log   \n",
       "78  s_m_TSTG_VOIP_LOCL_OFFNET_CALL_REJ.log   \n",
       "79              s_m__BBOM_TRACKING_RPT.log   \n",
       "80                s_w_TLR_OPEN_ORDR_WK.log   \n",
       "\n",
       "                                           clean_line label  \n",
       "0   2015 0530 HTTP 11444 2015 0530 scm16mar tureg ...     1  \n",
       "1   2015 0530 scm16Mar HTTP 2015 0530 HTTP 2015 05...     1  \n",
       "2   2015 0530 HTTP 2015 0530 HTTP 2015 0530 HTTP 2...     1  \n",
       "3   2015 0530 HTTP 11424 2015 0530 HTTP 11424 2015...     1  \n",
       "4   2015 0530 dash HTTP 9496 2015 0530 5Ccss 5CCC ...     1  \n",
       "5   2015 0530 tureg HTTP 4339 2015 0530 tureg HTTP...     1  \n",
       "6   2015 0530 HTTP 9021 2015 0530 HTTP 2015 0530 i...     1  \n",
       "7   2015 0530 HTTP 8942 2015 0530 HTTP 2015 0530 i...     1  \n",
       "8   2015 0530 vtip HTTP 2015 0530 HTTP 11424 2015 ...     1  \n",
       "9   2015 0530 HTTP 9802 2015 0530 HTTP 2015 0530 i...     1  \n",
       "10  2015 0530 login HTTP 8328 2015 0530 getJSP fna...     1  \n",
       "11  2015 0530 HTTP 2015 0530 HTTP 9764 2015 0530 H...     1  \n",
       "12  2015 0530 HTTP 9764 2015 0530 dropdownmenubar ...     1  \n",
       "13  2015 0530 HTTP 11424 2015 0530 HTTP 11424 2015...     1  \n",
       "14  2015 0530 HTTP 10215 2015 0530 HTTP 2015 0530 ...     1  \n",
       "15  2015 0530 HTTP 10215 2015 0530 HTTP 2015 0530 ...     1  \n",
       "16  2015 0530 HTTP 10215 2015 0530 HTTP 2015 0530 ...     1  \n",
       "17  2015 0530 HTTP 10215 2015 0530 HTTP 2015 0530 ...     1  \n",
       "18  2015 0530 HTTP 10215 2015 0530 HTTP 2015 0530 ...     1  \n",
       "19  2015 0530 HTTP 11424 2015 0530 HTTP 10215 2015...     1  \n",
       "20  2015 0530 HTTP 11424 2015 0530 HTTP 10254 2015...     1  \n",
       "21  2015 0530 HTTP 11424 2015 0530 HTTP 11424 2015...     1  \n",
       "22  2015 0530 HTTP 10254 2015 0530 HTTP 2015 0530 ...     1  \n",
       "23  2015 0530 HTTP 7446 2015 0530 HTTP 2015 0530 f...     1  \n",
       "24  2015 0530 HTTP 7446 2015 0530 HTTP 2015 0530 f...     1  \n",
       "25  2015 0530 HTTP 11424 2015 0530 favicon HTTP 20...     1  \n",
       "26  2015 0530 HTTP 11424 2015 0530 HTTP 2015 0530 ...     1  \n",
       "27  2015 0530 HTTP 11424 2015 0530 HTTP 9021 2015 ...     1  \n",
       "28  2015 0530 HTTP 11424 2015 0530 HTTP 9050 2015 ...     1  \n",
       "29  2015 0530 HTTP 1491 2015 0530 HTTP 9050 2015 0...     1  \n",
       "..                                                ...   ...  \n",
       "51  DIRECTOR 27028 override value edwetl BadFiles ...     4  \n",
       "52  DIRECTOR 27028 override value edwetl BadFiles ...     4  \n",
       "53  DIRECTOR 27028 override value edwetl BadFiles ...     4  \n",
       "54  DIRECTOR 27028 override value edwetl BadFiles ...     4  \n",
       "55  DIRECTOR 27028 override value edwetl BadFiles ...     4  \n",
       "56  DIRECTOR 27028 override value edwetl BadFiles ...     4  \n",
       "57  DIRECTOR 27028 override value edwetl BadFiles ...     4  \n",
       "58  DIRECTOR 27028 override value edwetl BadFiles ...     4  \n",
       "59  DIRECTOR 27028 override value edwetl BadFiles ...     4  \n",
       "60  DIRECTOR 27028 override value edwetl BadFiles ...     4  \n",
       "61  DIRECTOR 27028 override value edwetl BadFiles ...     4  \n",
       "62  DIRECTOR 27028 override value edwetl BadFiles ...     4  \n",
       "63  DIRECTOR 27093 Info Override variable mapping ...     4  \n",
       "64  DIRECTOR 27028 override value edwetl BadFiles ...     4  \n",
       "65  DIRECTOR 27028 override value edwetl BadFiles ...     4  \n",
       "66  DIRECTOR 27028 override value edwetl BadFiles ...     4  \n",
       "67  DIRECTOR 27028 override value edwetl BadFiles ...     4  \n",
       "68  DIRECTOR 27028 override value edwetl BadFiles ...     4  \n",
       "69  DIRECTOR 27028 override value edwetl BadFiles ...     4  \n",
       "70  DIRECTOR 27028 override value edwetl BadFiles ...     4  \n",
       "71  DIRECTOR 27028 override value edwetl BadFiles ...     4  \n",
       "72  DIRECTOR 27028 override value edwetl BadFiles ...     4  \n",
       "73  DIRECTOR 27028 override value edwetl BadFiles ...     4  \n",
       "74  DIRECTOR 27028 override value edwetl BadFiles ...     4  \n",
       "75  DIRECTOR 27028 override value edwetl BadFiles ...     4  \n",
       "76  DIRECTOR 27028 override value edwetl BadFiles ...     4  \n",
       "77  DIRECTOR 27028 override value edwetl BadFiles ...     4  \n",
       "78  DIRECTOR 27028 override value edwetl BadFiles ...     4  \n",
       "79  DIRECTOR 27028 override value edwetl BadFiles ...     4  \n",
       "80  DIRECTOR 27028 override value edwetl BadFiles ...     4  \n",
       "\n",
       "[267 rows x 4 columns]"
      ]
     },
     "execution_count": 41,
     "metadata": {},
     "output_type": "execute_result"
    }
   ],
   "source": [
    "df_final[:]"
   ]
  },
  {
   "cell_type": "code",
   "execution_count": 42,
   "metadata": {},
   "outputs": [],
   "source": [
    "df_final = df_final.reset_index(drop=True)"
   ]
  },
  {
   "cell_type": "code",
   "execution_count": 43,
   "metadata": {
    "scrolled": false
   },
   "outputs": [
    {
     "data": {
      "text/html": [
       "<div>\n",
       "<style scoped>\n",
       "    .dataframe tbody tr th:only-of-type {\n",
       "        vertical-align: middle;\n",
       "    }\n",
       "\n",
       "    .dataframe tbody tr th {\n",
       "        vertical-align: top;\n",
       "    }\n",
       "\n",
       "    .dataframe thead th {\n",
       "        text-align: right;\n",
       "    }\n",
       "</style>\n",
       "<table border=\"1\" class=\"dataframe\">\n",
       "  <thead>\n",
       "    <tr style=\"text-align: right;\">\n",
       "      <th></th>\n",
       "      <th>lines</th>\n",
       "      <th>clean_line</th>\n",
       "      <th>label</th>\n",
       "    </tr>\n",
       "  </thead>\n",
       "  <tbody>\n",
       "    <tr>\n",
       "      <th>0</th>\n",
       "      <td>0:0:0:0:0:0:0:1 - - [18/Mar/2015:09:51:32 +053...</td>\n",
       "      <td>2015 0530 HTTP 11444 2015 0530 scm16mar tureg ...</td>\n",
       "      <td>1</td>\n",
       "    </tr>\n",
       "    <tr>\n",
       "      <th>1</th>\n",
       "      <td>10.23.225.247 - - [24/Mar/2015:12:40:00 +0530]...</td>\n",
       "      <td>2015 0530 scm16Mar HTTP 2015 0530 HTTP 2015 05...</td>\n",
       "      <td>1</td>\n",
       "    </tr>\n",
       "    <tr>\n",
       "      <th>2</th>\n",
       "      <td>10.23.225.247 - - [25/Mar/2015:12:15:07 +0530]...</td>\n",
       "      <td>2015 0530 HTTP 2015 0530 HTTP 2015 0530 HTTP 2...</td>\n",
       "      <td>1</td>\n",
       "    </tr>\n",
       "    <tr>\n",
       "      <th>3</th>\n",
       "      <td>172.16.192.94 - - [26/Mar/2015:00:08:32 +0530]...</td>\n",
       "      <td>2015 0530 HTTP 11424 2015 0530 HTTP 11424 2015...</td>\n",
       "      <td>1</td>\n",
       "    </tr>\n",
       "    <tr>\n",
       "      <th>4</th>\n",
       "      <td>10.23.225.168 - - [28/Mar/2015:10:29:08 +0530]...</td>\n",
       "      <td>2015 0530 dash HTTP 9496 2015 0530 5Ccss 5CCC ...</td>\n",
       "      <td>1</td>\n",
       "    </tr>\n",
       "    <tr>\n",
       "      <th>5</th>\n",
       "      <td>10.23.227.11 - - [31/Mar/2015:01:06:43 +0530] ...</td>\n",
       "      <td>2015 0530 tureg HTTP 4339 2015 0530 tureg HTTP...</td>\n",
       "      <td>1</td>\n",
       "    </tr>\n",
       "    <tr>\n",
       "      <th>6</th>\n",
       "      <td>172.19.132.26 - - [01/Apr/2015:09:26:25 +0530]...</td>\n",
       "      <td>2015 0530 HTTP 9021 2015 0530 HTTP 2015 0530 i...</td>\n",
       "      <td>1</td>\n",
       "    </tr>\n",
       "    <tr>\n",
       "      <th>7</th>\n",
       "      <td>10.53.99.12 - - [07/Apr/2015:12:19:23 +0530] \"...</td>\n",
       "      <td>2015 0530 HTTP 8942 2015 0530 HTTP 2015 0530 i...</td>\n",
       "      <td>1</td>\n",
       "    </tr>\n",
       "    <tr>\n",
       "      <th>8</th>\n",
       "      <td>10.53.50.32 - - [09/Apr/2015:09:46:50 +0530] \"...</td>\n",
       "      <td>2015 0530 vtip HTTP 2015 0530 HTTP 11424 2015 ...</td>\n",
       "      <td>1</td>\n",
       "    </tr>\n",
       "    <tr>\n",
       "      <th>9</th>\n",
       "      <td>10.53.50.151 - - [16/Apr/2015:10:16:22 +0530] ...</td>\n",
       "      <td>2015 0530 HTTP 9802 2015 0530 HTTP 2015 0530 i...</td>\n",
       "      <td>1</td>\n",
       "    </tr>\n",
       "    <tr>\n",
       "      <th>10</th>\n",
       "      <td>10.53.50.151 - - [17/Apr/2015:10:16:28 +0530] ...</td>\n",
       "      <td>2015 0530 login HTTP 8328 2015 0530 getJSP fna...</td>\n",
       "      <td>1</td>\n",
       "    </tr>\n",
       "    <tr>\n",
       "      <th>11</th>\n",
       "      <td>10.53.50.151 - - [20/Apr/2015:10:16:21 +0530] ...</td>\n",
       "      <td>2015 0530 HTTP 2015 0530 HTTP 9764 2015 0530 H...</td>\n",
       "      <td>1</td>\n",
       "    </tr>\n",
       "    <tr>\n",
       "      <th>12</th>\n",
       "      <td>10.56.161.93 - - [22/Apr/2015:08:41:51 +0530] ...</td>\n",
       "      <td>2015 0530 HTTP 9764 2015 0530 dropdownmenubar ...</td>\n",
       "      <td>1</td>\n",
       "    </tr>\n",
       "    <tr>\n",
       "      <th>13</th>\n",
       "      <td>172.16.192.94 - - [28/Apr/2015:03:07:50 +0530]...</td>\n",
       "      <td>2015 0530 HTTP 11424 2015 0530 HTTP 11424 2015...</td>\n",
       "      <td>1</td>\n",
       "    </tr>\n",
       "    <tr>\n",
       "      <th>14</th>\n",
       "      <td>10.53.254.13 - - [29/Apr/2015:11:56:53 +0530] ...</td>\n",
       "      <td>2015 0530 HTTP 10215 2015 0530 HTTP 2015 0530 ...</td>\n",
       "      <td>1</td>\n",
       "    </tr>\n",
       "    <tr>\n",
       "      <th>15</th>\n",
       "      <td>172.17.2.111 - - [30/Apr/2015:11:27:04 +0530] ...</td>\n",
       "      <td>2015 0530 HTTP 10215 2015 0530 HTTP 2015 0530 ...</td>\n",
       "      <td>1</td>\n",
       "    </tr>\n",
       "    <tr>\n",
       "      <th>16</th>\n",
       "      <td>172.17.1.150 - - [04/May/2015:10:02:58 +0530] ...</td>\n",
       "      <td>2015 0530 HTTP 10215 2015 0530 HTTP 2015 0530 ...</td>\n",
       "      <td>1</td>\n",
       "    </tr>\n",
       "    <tr>\n",
       "      <th>17</th>\n",
       "      <td>10.53.50.50 - - [06/May/2015:09:41:14 +0530] \"...</td>\n",
       "      <td>2015 0530 HTTP 10215 2015 0530 HTTP 2015 0530 ...</td>\n",
       "      <td>1</td>\n",
       "    </tr>\n",
       "    <tr>\n",
       "      <th>18</th>\n",
       "      <td>10.53.254.7 - - [07/May/2015:12:52:53 +0530] \"...</td>\n",
       "      <td>2015 0530 HTTP 10215 2015 0530 HTTP 2015 0530 ...</td>\n",
       "      <td>1</td>\n",
       "    </tr>\n",
       "    <tr>\n",
       "      <th>19</th>\n",
       "      <td>172.16.192.94 - - [12/May/2015:05:29:22 +0530]...</td>\n",
       "      <td>2015 0530 HTTP 11424 2015 0530 HTTP 10215 2015...</td>\n",
       "      <td>1</td>\n",
       "    </tr>\n",
       "    <tr>\n",
       "      <th>20</th>\n",
       "      <td>172.16.192.94 - - [13/May/2015:05:36:57 +0530]...</td>\n",
       "      <td>2015 0530 HTTP 11424 2015 0530 HTTP 10254 2015...</td>\n",
       "      <td>1</td>\n",
       "    </tr>\n",
       "    <tr>\n",
       "      <th>21</th>\n",
       "      <td>172.16.192.94 - - [15/May/2015:05:14:10 +0530]...</td>\n",
       "      <td>2015 0530 HTTP 11424 2015 0530 HTTP 11424 2015...</td>\n",
       "      <td>1</td>\n",
       "    </tr>\n",
       "    <tr>\n",
       "      <th>22</th>\n",
       "      <td>10.56.160.44 - - [19/May/2015:09:36:36 +0530] ...</td>\n",
       "      <td>2015 0530 HTTP 10254 2015 0530 HTTP 2015 0530 ...</td>\n",
       "      <td>1</td>\n",
       "    </tr>\n",
       "    <tr>\n",
       "      <th>23</th>\n",
       "      <td>10.53.254.5 - - [20/May/2015:09:09:03 +0530] \"...</td>\n",
       "      <td>2015 0530 HTTP 7446 2015 0530 HTTP 2015 0530 f...</td>\n",
       "      <td>1</td>\n",
       "    </tr>\n",
       "    <tr>\n",
       "      <th>24</th>\n",
       "      <td>10.53.50.50 - - [21/May/2015:09:39:58 +0530] \"...</td>\n",
       "      <td>2015 0530 HTTP 7446 2015 0530 HTTP 2015 0530 f...</td>\n",
       "      <td>1</td>\n",
       "    </tr>\n",
       "    <tr>\n",
       "      <th>25</th>\n",
       "      <td>172.16.192.94 - - [25/May/2015:02:09:43 +0530]...</td>\n",
       "      <td>2015 0530 HTTP 11424 2015 0530 favicon HTTP 20...</td>\n",
       "      <td>1</td>\n",
       "    </tr>\n",
       "    <tr>\n",
       "      <th>26</th>\n",
       "      <td>172.16.192.94 - - [26/May/2015:02:12:50 +0530]...</td>\n",
       "      <td>2015 0530 HTTP 11424 2015 0530 HTTP 2015 0530 ...</td>\n",
       "      <td>1</td>\n",
       "    </tr>\n",
       "    <tr>\n",
       "      <th>27</th>\n",
       "      <td>172.16.192.94 - - [28/May/2015:02:40:59 +0530]...</td>\n",
       "      <td>2015 0530 HTTP 11424 2015 0530 HTTP 9021 2015 ...</td>\n",
       "      <td>1</td>\n",
       "    </tr>\n",
       "    <tr>\n",
       "      <th>28</th>\n",
       "      <td>172.16.192.94 - - [29/May/2015:02:48:47 +0530]...</td>\n",
       "      <td>2015 0530 HTTP 11424 2015 0530 HTTP 9050 2015 ...</td>\n",
       "      <td>1</td>\n",
       "    </tr>\n",
       "    <tr>\n",
       "      <th>29</th>\n",
       "      <td>10.53.50.77 - - [03/Jun/2015:11:56:39 +0530] \"...</td>\n",
       "      <td>2015 0530 HTTP 1491 2015 0530 HTTP 9050 2015 0...</td>\n",
       "      <td>1</td>\n",
       "    </tr>\n",
       "    <tr>\n",
       "      <th>...</th>\n",
       "      <td>...</td>\n",
       "      <td>...</td>\n",
       "      <td>...</td>\n",
       "    </tr>\n",
       "    <tr>\n",
       "      <th>237</th>\n",
       "      <td>DIRECTOR&gt; VAR_27028 Use override value [/edwet...</td>\n",
       "      <td>DIRECTOR 27028 override value edwetl BadFiles ...</td>\n",
       "      <td>4</td>\n",
       "    </tr>\n",
       "    <tr>\n",
       "      <th>238</th>\n",
       "      <td>DIRECTOR&gt; VAR_27028 Use override value [/edwet...</td>\n",
       "      <td>DIRECTOR 27028 override value edwetl BadFiles ...</td>\n",
       "      <td>4</td>\n",
       "    </tr>\n",
       "    <tr>\n",
       "      <th>239</th>\n",
       "      <td>DIRECTOR&gt; VAR_27028 Use override value [/edwet...</td>\n",
       "      <td>DIRECTOR 27028 override value edwetl BadFiles ...</td>\n",
       "      <td>4</td>\n",
       "    </tr>\n",
       "    <tr>\n",
       "      <th>240</th>\n",
       "      <td>DIRECTOR&gt; VAR_27028 Use override value [/edwet...</td>\n",
       "      <td>DIRECTOR 27028 override value edwetl BadFiles ...</td>\n",
       "      <td>4</td>\n",
       "    </tr>\n",
       "    <tr>\n",
       "      <th>241</th>\n",
       "      <td>DIRECTOR&gt; VAR_27028 Use override value [/edwet...</td>\n",
       "      <td>DIRECTOR 27028 override value edwetl BadFiles ...</td>\n",
       "      <td>4</td>\n",
       "    </tr>\n",
       "    <tr>\n",
       "      <th>242</th>\n",
       "      <td>DIRECTOR&gt; VAR_27028 Use override value [/edwet...</td>\n",
       "      <td>DIRECTOR 27028 override value edwetl BadFiles ...</td>\n",
       "      <td>4</td>\n",
       "    </tr>\n",
       "    <tr>\n",
       "      <th>243</th>\n",
       "      <td>DIRECTOR&gt; VAR_27028 Use override value [/edwet...</td>\n",
       "      <td>DIRECTOR 27028 override value edwetl BadFiles ...</td>\n",
       "      <td>4</td>\n",
       "    </tr>\n",
       "    <tr>\n",
       "      <th>244</th>\n",
       "      <td>DIRECTOR&gt; VAR_27028 Use override value [/edwet...</td>\n",
       "      <td>DIRECTOR 27028 override value edwetl BadFiles ...</td>\n",
       "      <td>4</td>\n",
       "    </tr>\n",
       "    <tr>\n",
       "      <th>245</th>\n",
       "      <td>DIRECTOR&gt; VAR_27028 Use override value [/edwet...</td>\n",
       "      <td>DIRECTOR 27028 override value edwetl BadFiles ...</td>\n",
       "      <td>4</td>\n",
       "    </tr>\n",
       "    <tr>\n",
       "      <th>246</th>\n",
       "      <td>DIRECTOR&gt; VAR_27028 Use override value [/edwet...</td>\n",
       "      <td>DIRECTOR 27028 override value edwetl BadFiles ...</td>\n",
       "      <td>4</td>\n",
       "    </tr>\n",
       "    <tr>\n",
       "      <th>247</th>\n",
       "      <td>DIRECTOR&gt; VAR_27028 Use override value [/edwet...</td>\n",
       "      <td>DIRECTOR 27028 override value edwetl BadFiles ...</td>\n",
       "      <td>4</td>\n",
       "    </tr>\n",
       "    <tr>\n",
       "      <th>248</th>\n",
       "      <td>DIRECTOR&gt; VAR_27028 Use override value [/edwet...</td>\n",
       "      <td>DIRECTOR 27028 override value edwetl BadFiles ...</td>\n",
       "      <td>4</td>\n",
       "    </tr>\n",
       "    <tr>\n",
       "      <th>249</th>\n",
       "      <td>DIRECTOR&gt; VAR_27093 Info: Override variable [m...</td>\n",
       "      <td>DIRECTOR 27093 Info Override variable mapping ...</td>\n",
       "      <td>4</td>\n",
       "    </tr>\n",
       "    <tr>\n",
       "      <th>250</th>\n",
       "      <td>DIRECTOR&gt; VAR_27028 Use override value [/edwet...</td>\n",
       "      <td>DIRECTOR 27028 override value edwetl BadFiles ...</td>\n",
       "      <td>4</td>\n",
       "    </tr>\n",
       "    <tr>\n",
       "      <th>251</th>\n",
       "      <td>DIRECTOR&gt; VAR_27028 Use override value [/edwet...</td>\n",
       "      <td>DIRECTOR 27028 override value edwetl BadFiles ...</td>\n",
       "      <td>4</td>\n",
       "    </tr>\n",
       "    <tr>\n",
       "      <th>252</th>\n",
       "      <td>DIRECTOR&gt; VAR_27028 Use override value [/edwet...</td>\n",
       "      <td>DIRECTOR 27028 override value edwetl BadFiles ...</td>\n",
       "      <td>4</td>\n",
       "    </tr>\n",
       "    <tr>\n",
       "      <th>253</th>\n",
       "      <td>DIRECTOR&gt; VAR_27028 Use override value [/edwet...</td>\n",
       "      <td>DIRECTOR 27028 override value edwetl BadFiles ...</td>\n",
       "      <td>4</td>\n",
       "    </tr>\n",
       "    <tr>\n",
       "      <th>254</th>\n",
       "      <td>DIRECTOR&gt; VAR_27028 Use override value [/edwet...</td>\n",
       "      <td>DIRECTOR 27028 override value edwetl BadFiles ...</td>\n",
       "      <td>4</td>\n",
       "    </tr>\n",
       "    <tr>\n",
       "      <th>255</th>\n",
       "      <td>DIRECTOR&gt; VAR_27028 Use override value [/edwet...</td>\n",
       "      <td>DIRECTOR 27028 override value edwetl BadFiles ...</td>\n",
       "      <td>4</td>\n",
       "    </tr>\n",
       "    <tr>\n",
       "      <th>256</th>\n",
       "      <td>DIRECTOR&gt; VAR_27028 Use override value [/edwet...</td>\n",
       "      <td>DIRECTOR 27028 override value edwetl BadFiles ...</td>\n",
       "      <td>4</td>\n",
       "    </tr>\n",
       "    <tr>\n",
       "      <th>257</th>\n",
       "      <td>DIRECTOR&gt; VAR_27028 Use override value [/edwet...</td>\n",
       "      <td>DIRECTOR 27028 override value edwetl BadFiles ...</td>\n",
       "      <td>4</td>\n",
       "    </tr>\n",
       "    <tr>\n",
       "      <th>258</th>\n",
       "      <td>DIRECTOR&gt; VAR_27028 Use override value [/edwet...</td>\n",
       "      <td>DIRECTOR 27028 override value edwetl BadFiles ...</td>\n",
       "      <td>4</td>\n",
       "    </tr>\n",
       "    <tr>\n",
       "      <th>259</th>\n",
       "      <td>DIRECTOR&gt; VAR_27028 Use override value [/edwet...</td>\n",
       "      <td>DIRECTOR 27028 override value edwetl BadFiles ...</td>\n",
       "      <td>4</td>\n",
       "    </tr>\n",
       "    <tr>\n",
       "      <th>260</th>\n",
       "      <td>DIRECTOR&gt; VAR_27028 Use override value [/edwet...</td>\n",
       "      <td>DIRECTOR 27028 override value edwetl BadFiles ...</td>\n",
       "      <td>4</td>\n",
       "    </tr>\n",
       "    <tr>\n",
       "      <th>261</th>\n",
       "      <td>DIRECTOR&gt; VAR_27028 Use override value [/edwet...</td>\n",
       "      <td>DIRECTOR 27028 override value edwetl BadFiles ...</td>\n",
       "      <td>4</td>\n",
       "    </tr>\n",
       "    <tr>\n",
       "      <th>262</th>\n",
       "      <td>DIRECTOR&gt; VAR_27028 Use override value [/edwet...</td>\n",
       "      <td>DIRECTOR 27028 override value edwetl BadFiles ...</td>\n",
       "      <td>4</td>\n",
       "    </tr>\n",
       "    <tr>\n",
       "      <th>263</th>\n",
       "      <td>DIRECTOR&gt; VAR_27028 Use override value [/edwet...</td>\n",
       "      <td>DIRECTOR 27028 override value edwetl BadFiles ...</td>\n",
       "      <td>4</td>\n",
       "    </tr>\n",
       "    <tr>\n",
       "      <th>264</th>\n",
       "      <td>DIRECTOR&gt; VAR_27028 Use override value [/edwet...</td>\n",
       "      <td>DIRECTOR 27028 override value edwetl BadFiles ...</td>\n",
       "      <td>4</td>\n",
       "    </tr>\n",
       "    <tr>\n",
       "      <th>265</th>\n",
       "      <td>DIRECTOR&gt; VAR_27028 Use override value [/edwet...</td>\n",
       "      <td>DIRECTOR 27028 override value edwetl BadFiles ...</td>\n",
       "      <td>4</td>\n",
       "    </tr>\n",
       "    <tr>\n",
       "      <th>266</th>\n",
       "      <td>DIRECTOR&gt; VAR_27028 Use override value [/edwet...</td>\n",
       "      <td>DIRECTOR 27028 override value edwetl BadFiles ...</td>\n",
       "      <td>4</td>\n",
       "    </tr>\n",
       "  </tbody>\n",
       "</table>\n",
       "<p>267 rows × 3 columns</p>\n",
       "</div>"
      ],
      "text/plain": [
       "                                                 lines  \\\n",
       "0    0:0:0:0:0:0:0:1 - - [18/Mar/2015:09:51:32 +053...   \n",
       "1    10.23.225.247 - - [24/Mar/2015:12:40:00 +0530]...   \n",
       "2    10.23.225.247 - - [25/Mar/2015:12:15:07 +0530]...   \n",
       "3    172.16.192.94 - - [26/Mar/2015:00:08:32 +0530]...   \n",
       "4    10.23.225.168 - - [28/Mar/2015:10:29:08 +0530]...   \n",
       "5    10.23.227.11 - - [31/Mar/2015:01:06:43 +0530] ...   \n",
       "6    172.19.132.26 - - [01/Apr/2015:09:26:25 +0530]...   \n",
       "7    10.53.99.12 - - [07/Apr/2015:12:19:23 +0530] \"...   \n",
       "8    10.53.50.32 - - [09/Apr/2015:09:46:50 +0530] \"...   \n",
       "9    10.53.50.151 - - [16/Apr/2015:10:16:22 +0530] ...   \n",
       "10   10.53.50.151 - - [17/Apr/2015:10:16:28 +0530] ...   \n",
       "11   10.53.50.151 - - [20/Apr/2015:10:16:21 +0530] ...   \n",
       "12   10.56.161.93 - - [22/Apr/2015:08:41:51 +0530] ...   \n",
       "13   172.16.192.94 - - [28/Apr/2015:03:07:50 +0530]...   \n",
       "14   10.53.254.13 - - [29/Apr/2015:11:56:53 +0530] ...   \n",
       "15   172.17.2.111 - - [30/Apr/2015:11:27:04 +0530] ...   \n",
       "16   172.17.1.150 - - [04/May/2015:10:02:58 +0530] ...   \n",
       "17   10.53.50.50 - - [06/May/2015:09:41:14 +0530] \"...   \n",
       "18   10.53.254.7 - - [07/May/2015:12:52:53 +0530] \"...   \n",
       "19   172.16.192.94 - - [12/May/2015:05:29:22 +0530]...   \n",
       "20   172.16.192.94 - - [13/May/2015:05:36:57 +0530]...   \n",
       "21   172.16.192.94 - - [15/May/2015:05:14:10 +0530]...   \n",
       "22   10.56.160.44 - - [19/May/2015:09:36:36 +0530] ...   \n",
       "23   10.53.254.5 - - [20/May/2015:09:09:03 +0530] \"...   \n",
       "24   10.53.50.50 - - [21/May/2015:09:39:58 +0530] \"...   \n",
       "25   172.16.192.94 - - [25/May/2015:02:09:43 +0530]...   \n",
       "26   172.16.192.94 - - [26/May/2015:02:12:50 +0530]...   \n",
       "27   172.16.192.94 - - [28/May/2015:02:40:59 +0530]...   \n",
       "28   172.16.192.94 - - [29/May/2015:02:48:47 +0530]...   \n",
       "29   10.53.50.77 - - [03/Jun/2015:11:56:39 +0530] \"...   \n",
       "..                                                 ...   \n",
       "237  DIRECTOR> VAR_27028 Use override value [/edwet...   \n",
       "238  DIRECTOR> VAR_27028 Use override value [/edwet...   \n",
       "239  DIRECTOR> VAR_27028 Use override value [/edwet...   \n",
       "240  DIRECTOR> VAR_27028 Use override value [/edwet...   \n",
       "241  DIRECTOR> VAR_27028 Use override value [/edwet...   \n",
       "242  DIRECTOR> VAR_27028 Use override value [/edwet...   \n",
       "243  DIRECTOR> VAR_27028 Use override value [/edwet...   \n",
       "244  DIRECTOR> VAR_27028 Use override value [/edwet...   \n",
       "245  DIRECTOR> VAR_27028 Use override value [/edwet...   \n",
       "246  DIRECTOR> VAR_27028 Use override value [/edwet...   \n",
       "247  DIRECTOR> VAR_27028 Use override value [/edwet...   \n",
       "248  DIRECTOR> VAR_27028 Use override value [/edwet...   \n",
       "249  DIRECTOR> VAR_27093 Info: Override variable [m...   \n",
       "250  DIRECTOR> VAR_27028 Use override value [/edwet...   \n",
       "251  DIRECTOR> VAR_27028 Use override value [/edwet...   \n",
       "252  DIRECTOR> VAR_27028 Use override value [/edwet...   \n",
       "253  DIRECTOR> VAR_27028 Use override value [/edwet...   \n",
       "254  DIRECTOR> VAR_27028 Use override value [/edwet...   \n",
       "255  DIRECTOR> VAR_27028 Use override value [/edwet...   \n",
       "256  DIRECTOR> VAR_27028 Use override value [/edwet...   \n",
       "257  DIRECTOR> VAR_27028 Use override value [/edwet...   \n",
       "258  DIRECTOR> VAR_27028 Use override value [/edwet...   \n",
       "259  DIRECTOR> VAR_27028 Use override value [/edwet...   \n",
       "260  DIRECTOR> VAR_27028 Use override value [/edwet...   \n",
       "261  DIRECTOR> VAR_27028 Use override value [/edwet...   \n",
       "262  DIRECTOR> VAR_27028 Use override value [/edwet...   \n",
       "263  DIRECTOR> VAR_27028 Use override value [/edwet...   \n",
       "264  DIRECTOR> VAR_27028 Use override value [/edwet...   \n",
       "265  DIRECTOR> VAR_27028 Use override value [/edwet...   \n",
       "266  DIRECTOR> VAR_27028 Use override value [/edwet...   \n",
       "\n",
       "                                            clean_line label  \n",
       "0    2015 0530 HTTP 11444 2015 0530 scm16mar tureg ...     1  \n",
       "1    2015 0530 scm16Mar HTTP 2015 0530 HTTP 2015 05...     1  \n",
       "2    2015 0530 HTTP 2015 0530 HTTP 2015 0530 HTTP 2...     1  \n",
       "3    2015 0530 HTTP 11424 2015 0530 HTTP 11424 2015...     1  \n",
       "4    2015 0530 dash HTTP 9496 2015 0530 5Ccss 5CCC ...     1  \n",
       "5    2015 0530 tureg HTTP 4339 2015 0530 tureg HTTP...     1  \n",
       "6    2015 0530 HTTP 9021 2015 0530 HTTP 2015 0530 i...     1  \n",
       "7    2015 0530 HTTP 8942 2015 0530 HTTP 2015 0530 i...     1  \n",
       "8    2015 0530 vtip HTTP 2015 0530 HTTP 11424 2015 ...     1  \n",
       "9    2015 0530 HTTP 9802 2015 0530 HTTP 2015 0530 i...     1  \n",
       "10   2015 0530 login HTTP 8328 2015 0530 getJSP fna...     1  \n",
       "11   2015 0530 HTTP 2015 0530 HTTP 9764 2015 0530 H...     1  \n",
       "12   2015 0530 HTTP 9764 2015 0530 dropdownmenubar ...     1  \n",
       "13   2015 0530 HTTP 11424 2015 0530 HTTP 11424 2015...     1  \n",
       "14   2015 0530 HTTP 10215 2015 0530 HTTP 2015 0530 ...     1  \n",
       "15   2015 0530 HTTP 10215 2015 0530 HTTP 2015 0530 ...     1  \n",
       "16   2015 0530 HTTP 10215 2015 0530 HTTP 2015 0530 ...     1  \n",
       "17   2015 0530 HTTP 10215 2015 0530 HTTP 2015 0530 ...     1  \n",
       "18   2015 0530 HTTP 10215 2015 0530 HTTP 2015 0530 ...     1  \n",
       "19   2015 0530 HTTP 11424 2015 0530 HTTP 10215 2015...     1  \n",
       "20   2015 0530 HTTP 11424 2015 0530 HTTP 10254 2015...     1  \n",
       "21   2015 0530 HTTP 11424 2015 0530 HTTP 11424 2015...     1  \n",
       "22   2015 0530 HTTP 10254 2015 0530 HTTP 2015 0530 ...     1  \n",
       "23   2015 0530 HTTP 7446 2015 0530 HTTP 2015 0530 f...     1  \n",
       "24   2015 0530 HTTP 7446 2015 0530 HTTP 2015 0530 f...     1  \n",
       "25   2015 0530 HTTP 11424 2015 0530 favicon HTTP 20...     1  \n",
       "26   2015 0530 HTTP 11424 2015 0530 HTTP 2015 0530 ...     1  \n",
       "27   2015 0530 HTTP 11424 2015 0530 HTTP 9021 2015 ...     1  \n",
       "28   2015 0530 HTTP 11424 2015 0530 HTTP 9050 2015 ...     1  \n",
       "29   2015 0530 HTTP 1491 2015 0530 HTTP 9050 2015 0...     1  \n",
       "..                                                 ...   ...  \n",
       "237  DIRECTOR 27028 override value edwetl BadFiles ...     4  \n",
       "238  DIRECTOR 27028 override value edwetl BadFiles ...     4  \n",
       "239  DIRECTOR 27028 override value edwetl BadFiles ...     4  \n",
       "240  DIRECTOR 27028 override value edwetl BadFiles ...     4  \n",
       "241  DIRECTOR 27028 override value edwetl BadFiles ...     4  \n",
       "242  DIRECTOR 27028 override value edwetl BadFiles ...     4  \n",
       "243  DIRECTOR 27028 override value edwetl BadFiles ...     4  \n",
       "244  DIRECTOR 27028 override value edwetl BadFiles ...     4  \n",
       "245  DIRECTOR 27028 override value edwetl BadFiles ...     4  \n",
       "246  DIRECTOR 27028 override value edwetl BadFiles ...     4  \n",
       "247  DIRECTOR 27028 override value edwetl BadFiles ...     4  \n",
       "248  DIRECTOR 27028 override value edwetl BadFiles ...     4  \n",
       "249  DIRECTOR 27093 Info Override variable mapping ...     4  \n",
       "250  DIRECTOR 27028 override value edwetl BadFiles ...     4  \n",
       "251  DIRECTOR 27028 override value edwetl BadFiles ...     4  \n",
       "252  DIRECTOR 27028 override value edwetl BadFiles ...     4  \n",
       "253  DIRECTOR 27028 override value edwetl BadFiles ...     4  \n",
       "254  DIRECTOR 27028 override value edwetl BadFiles ...     4  \n",
       "255  DIRECTOR 27028 override value edwetl BadFiles ...     4  \n",
       "256  DIRECTOR 27028 override value edwetl BadFiles ...     4  \n",
       "257  DIRECTOR 27028 override value edwetl BadFiles ...     4  \n",
       "258  DIRECTOR 27028 override value edwetl BadFiles ...     4  \n",
       "259  DIRECTOR 27028 override value edwetl BadFiles ...     4  \n",
       "260  DIRECTOR 27028 override value edwetl BadFiles ...     4  \n",
       "261  DIRECTOR 27028 override value edwetl BadFiles ...     4  \n",
       "262  DIRECTOR 27028 override value edwetl BadFiles ...     4  \n",
       "263  DIRECTOR 27028 override value edwetl BadFiles ...     4  \n",
       "264  DIRECTOR 27028 override value edwetl BadFiles ...     4  \n",
       "265  DIRECTOR 27028 override value edwetl BadFiles ...     4  \n",
       "266  DIRECTOR 27028 override value edwetl BadFiles ...     4  \n",
       "\n",
       "[267 rows x 3 columns]"
      ]
     },
     "execution_count": 43,
     "metadata": {},
     "output_type": "execute_result"
    }
   ],
   "source": [
    "df_final.drop(columns=['filename'])"
   ]
  },
  {
   "cell_type": "markdown",
   "metadata": {},
   "source": [
    "###  Data Preprocessing and Apply ML Model"
   ]
  },
  {
   "cell_type": "code",
   "execution_count": 44,
   "metadata": {},
   "outputs": [],
   "source": [
    "# split the dataset into training and validation datasets \n",
    "train_x, valid_x, train_y, valid_y = model_selection.train_test_split(df_final['clean_line'], df_final['label'])"
   ]
  },
  {
   "cell_type": "code",
   "execution_count": 45,
   "metadata": {
    "scrolled": true
   },
   "outputs": [
    {
     "data": {
      "text/plain": [
       "11     1\n",
       "192    4\n",
       "61     1\n",
       "123    3\n",
       "13     1\n",
       "22     1\n",
       "39     1\n",
       "65     1\n",
       "108    3\n",
       "175    3\n",
       "179    3\n",
       "226    4\n",
       "31     1\n",
       "131    3\n",
       "245    4\n",
       "180    3\n",
       "119    3\n",
       "241    4\n",
       "140    3\n",
       "27     1\n",
       "223    4\n",
       "148    3\n",
       "71     1\n",
       "113    3\n",
       "183    3\n",
       "146    3\n",
       "163    3\n",
       "253    4\n",
       "29     1\n",
       "114    3\n",
       "      ..\n",
       "53     1\n",
       "128    3\n",
       "203    4\n",
       "247    4\n",
       "89     2\n",
       "91     2\n",
       "7      1\n",
       "243    4\n",
       "182    3\n",
       "8      1\n",
       "176    3\n",
       "15     1\n",
       "52     1\n",
       "73     1\n",
       "222    4\n",
       "4      1\n",
       "17     1\n",
       "82     2\n",
       "232    4\n",
       "86     2\n",
       "69     1\n",
       "167    3\n",
       "206    4\n",
       "104    2\n",
       "177    3\n",
       "159    3\n",
       "147    3\n",
       "101    2\n",
       "184    3\n",
       "228    4\n",
       "Name: label, Length: 67, dtype: object"
      ]
     },
     "execution_count": 45,
     "metadata": {},
     "output_type": "execute_result"
    }
   ],
   "source": [
    "valid_y"
   ]
  },
  {
   "cell_type": "code",
   "execution_count": 46,
   "metadata": {},
   "outputs": [],
   "source": [
    "# label encode the target variable \n",
    "encoder = preprocessing.LabelEncoder()\n",
    "train_y = encoder.fit_transform(train_y)\n",
    "valid_y = encoder.fit_transform(valid_y)"
   ]
  },
  {
   "cell_type": "code",
   "execution_count": 47,
   "metadata": {
    "scrolled": true
   },
   "outputs": [
    {
     "data": {
      "text/plain": [
       "array([0, 3, 0, 2, 0, 0, 0, 0, 2, 2, 2, 3, 0, 2, 3, 2, 2, 3, 2, 0, 3, 2,\n",
       "       0, 2, 2, 2, 2, 3, 0, 2, 2, 2, 1, 3, 0, 0, 2, 0, 2, 3, 3, 1, 1, 0,\n",
       "       3, 2, 0, 2, 0, 0, 0, 3, 0, 0, 1, 3, 1, 0, 2, 3, 1, 2, 2, 2, 1, 2,\n",
       "       3], dtype=int64)"
      ]
     },
     "execution_count": 47,
     "metadata": {},
     "output_type": "execute_result"
    }
   ],
   "source": [
    "valid_y"
   ]
  },
  {
   "cell_type": "code",
   "execution_count": 48,
   "metadata": {},
   "outputs": [
    {
     "data": {
      "text/plain": [
       "CountVectorizer(analyzer='word', binary=False, decode_error='strict',\n",
       "        dtype=<class 'numpy.int64'>, encoding='utf-8', input='content',\n",
       "        lowercase=True, max_df=1.0, max_features=None, min_df=1,\n",
       "        ngram_range=(1, 1), preprocessor=None, stop_words=None,\n",
       "        strip_accents=None, token_pattern='\\\\w{1,}', tokenizer=None,\n",
       "        vocabulary=None)"
      ]
     },
     "execution_count": 48,
     "metadata": {},
     "output_type": "execute_result"
    }
   ],
   "source": [
    "# create a count vectorizer object \n",
    "count_vect = CountVectorizer(analyzer='word', token_pattern=r'\\w{1,}')\n",
    "count_vect.fit(df_final['clean_line'])"
   ]
  },
  {
   "cell_type": "code",
   "execution_count": 49,
   "metadata": {},
   "outputs": [],
   "source": [
    "# transform the training and validation data using count vectorizer object\n",
    "xtrain_count =  count_vect.transform(train_x)\n",
    "xvalid_count =  count_vect.transform(valid_x)"
   ]
  },
  {
   "cell_type": "code",
   "execution_count": 50,
   "metadata": {},
   "outputs": [
    {
     "data": {
      "text/plain": [
       "<200x204847 sparse matrix of type '<class 'numpy.int64'>'\n",
       "\twith 67051 stored elements in Compressed Sparse Row format>"
      ]
     },
     "execution_count": 50,
     "metadata": {},
     "output_type": "execute_result"
    }
   ],
   "source": [
    "xtrain_count"
   ]
  },
  {
   "cell_type": "code",
   "execution_count": 51,
   "metadata": {
    "scrolled": false
   },
   "outputs": [
    {
     "name": "stdout",
     "output_type": "stream",
     "text": [
      "  (0, 3328)\t1\n",
      "  (0, 8115)\t1\n",
      "  (0, 20577)\t1\n",
      "  (0, 24663)\t1\n",
      "  (0, 27348)\t1\n",
      "  (0, 27762)\t1\n",
      "  (0, 36414)\t1\n",
      "  (0, 40214)\t1\n",
      "  (0, 61923)\t1\n",
      "  (0, 66505)\t1\n",
      "  (0, 68292)\t1\n",
      "  (0, 79590)\t1\n",
      "  (0, 105109)\t8\n",
      "  (0, 105153)\t1\n",
      "  (0, 105194)\t442\n",
      "  (0, 147072)\t1\n",
      "  (0, 147774)\t1\n",
      "  (0, 174433)\t17\n",
      "  (0, 175235)\t18\n",
      "  (0, 196175)\t1\n",
      "  (0, 197280)\t35\n",
      "  (0, 197298)\t9\n",
      "  (0, 197602)\t255\n",
      "  (0, 197672)\t551\n",
      "  (0, 197693)\t57\n",
      "  :\t:\n",
      "  (199, 201828)\t21\n",
      "  (199, 201829)\t3\n",
      "  (199, 202485)\t2\n",
      "  (199, 202732)\t19\n",
      "  (199, 202869)\t19\n",
      "  (199, 202960)\t4\n",
      "  (199, 202967)\t1\n",
      "  (199, 203119)\t19\n",
      "  (199, 203338)\t19\n",
      "  (199, 203357)\t19\n",
      "  (199, 203367)\t19\n",
      "  (199, 203374)\t19\n",
      "  (199, 203434)\t1\n",
      "  (199, 203580)\t8\n",
      "  (199, 203582)\t1\n",
      "  (199, 203585)\t2\n",
      "  (199, 203681)\t19\n",
      "  (199, 203690)\t19\n",
      "  (199, 203696)\t95\n",
      "  (199, 203705)\t76\n",
      "  (199, 203707)\t156\n",
      "  (199, 203729)\t1\n",
      "  (199, 203734)\t3\n",
      "  (199, 204032)\t38\n",
      "  (199, 204115)\t57\n"
     ]
    }
   ],
   "source": [
    "print(xtrain_count)"
   ]
  },
  {
   "cell_type": "code",
   "execution_count": 52,
   "metadata": {
    "scrolled": false
   },
   "outputs": [],
   "source": [
    "# print(count_vect.vocabulary_)\n",
    "#count_vect.vocabulary_\n",
    "#print count vector in array format\n",
    "#print(xtrain_count.toarray())"
   ]
  },
  {
   "cell_type": "code",
   "execution_count": 53,
   "metadata": {},
   "outputs": [],
   "source": [
    "# word level tf-idf\n",
    "tfidf_vect = TfidfVectorizer(analyzer='word', token_pattern=r'\\w{1,}', max_features=5000)\n",
    "tfidf_vect.fit(df_final['clean_line'])\n",
    "xtrain_tfidf =  tfidf_vect.transform(train_x)\n",
    "xvalid_tfidf =  tfidf_vect.transform(valid_x)"
   ]
  },
  {
   "cell_type": "code",
   "execution_count": 54,
   "metadata": {},
   "outputs": [
    {
     "name": "stdout",
     "output_type": "stream",
     "text": [
      "  (0, 4923)\t0.003163399618416185\n",
      "  (0, 4904)\t0.0032558503032673524\n",
      "  (0, 4900)\t0.005441009871762024\n",
      "  (0, 4852)\t0.006572586416832542\n",
      "  (0, 4851)\t0.007365187573116806\n",
      "  (0, 4827)\t0.017045493958308\n",
      "  (0, 4760)\t0.006338971446181174\n",
      "  (0, 4758)\t0.001810871676634477\n",
      "  (0, 4739)\t0.005789673834207329\n",
      "  (0, 4700)\t0.008262326625546294\n",
      "  (0, 4695)\t0.0029778434534289393\n",
      "  (0, 4694)\t0.003647503481129649\n",
      "  (0, 4691)\t0.015138855779571527\n",
      "  (0, 4690)\t0.033357087822916166\n",
      "  (0, 4687)\t0.026444400238189957\n",
      "  (0, 4684)\t0.004341133737689803\n",
      "  (0, 4681)\t0.013158710312046736\n",
      "  (0, 4680)\t0.011283954854283075\n",
      "  (0, 4550)\t0.0038010076097818816\n",
      "  (0, 4474)\t0.0022372373731298816\n",
      "  (0, 4425)\t0.0015229934382164998\n",
      "  (0, 4203)\t0.0017632603720331465\n",
      "  (0, 4195)\t0.002574096859288314\n",
      "  (0, 4194)\t0.008966130533829515\n",
      "  (0, 4186)\t0.0030983724845798605\n",
      "  :\t:\n",
      "  (66, 655)\t0.00700724697176185\n",
      "  (66, 580)\t0.14959974892437347\n",
      "  (66, 524)\t0.008024539857142387\n",
      "  (66, 523)\t0.008116447283388836\n",
      "  (66, 522)\t0.006674650341538732\n",
      "  (66, 521)\t0.006674650341538732\n",
      "  (66, 507)\t0.02689693901952995\n",
      "  (66, 503)\t0.006835274993845553\n",
      "  (66, 494)\t0.017760568569516206\n",
      "  (66, 487)\t0.1579903609584653\n",
      "  (66, 468)\t0.007129035236098306\n",
      "  (66, 438)\t0.01660966721323782\n",
      "  (66, 432)\t0.0159577647831067\n",
      "  (66, 430)\t0.0159577647831067\n",
      "  (66, 429)\t0.0159577647831067\n",
      "  (66, 428)\t0.0159577647831067\n",
      "  (66, 410)\t0.005319254927702233\n",
      "  (66, 409)\t0.005289736290512876\n",
      "  (66, 286)\t0.005319254927702233\n",
      "  (66, 267)\t0.043947103996055906\n",
      "  (66, 241)\t0.012131355980144455\n",
      "  (66, 238)\t0.008311371907663831\n",
      "  (66, 237)\t0.008116447283388836\n",
      "  (66, 236)\t0.0068912603962945785\n",
      "  (66, 223)\t0.008880284284758103\n"
     ]
    }
   ],
   "source": [
    "#print(xtrain_tfidf)\n",
    "print(xvalid_tfidf)"
   ]
  },
  {
   "cell_type": "code",
   "execution_count": 55,
   "metadata": {},
   "outputs": [],
   "source": [
    "# ngram level tf-idf \n",
    "tfidf_vect_ngram = TfidfVectorizer(analyzer='word', token_pattern=r'\\w{1,}', ngram_range=(2,3), max_features=5000)\n",
    "tfidf_vect_ngram.fit(df_final['clean_line'])\n",
    "xtrain_tfidf_ngram =  tfidf_vect_ngram.transform(train_x)\n",
    "xvalid_tfidf_ngram =  tfidf_vect_ngram.transform(valid_x)"
   ]
  },
  {
   "cell_type": "code",
   "execution_count": 56,
   "metadata": {},
   "outputs": [
    {
     "name": "stdout",
     "output_type": "stream",
     "text": [
      "  (0, 4920)\t0.006929777461645395\n",
      "  (0, 4919)\t0.004468578300030923\n",
      "  (0, 4918)\t0.004468578300030923\n",
      "  (0, 4917)\t0.004468578300030923\n",
      "  (0, 4916)\t0.004468578300030923\n",
      "  (0, 4915)\t0.004468578300030923\n",
      "  (0, 4506)\t0.006929777461645395\n",
      "  (0, 4505)\t0.004468578300030923\n",
      "  (0, 4504)\t0.004468578300030923\n",
      "  (0, 4503)\t0.004468578300030923\n",
      "  (0, 4502)\t0.004468578300030923\n",
      "  (0, 4500)\t0.03087832941529246\n",
      "  (0, 4497)\t0.004995939992386671\n",
      "  (0, 4496)\t0.004995939992386671\n",
      "  (0, 4495)\t0.04830534233955032\n",
      "  (0, 4494)\t0.04830534233955032\n",
      "  (0, 4368)\t0.14155163311762234\n",
      "  (0, 4367)\t0.14155163311762234\n",
      "  (0, 4366)\t0.009740684862962675\n",
      "  (0, 4365)\t0.009740684862962675\n",
      "  (0, 4364)\t0.01948136972592535\n",
      "  (0, 4340)\t0.012967601711691893\n",
      "  (0, 4339)\t0.012967601711691893\n",
      "  (0, 4245)\t0.14155163311762234\n",
      "  (0, 4244)\t0.14155163311762234\n",
      "  :\t:\n",
      "  (199, 932)\t0.024639651315400423\n",
      "  (199, 930)\t0.024639651315400423\n",
      "  (199, 929)\t0.0020880593867846475\n",
      "  (199, 924)\t0.024487969902409833\n",
      "  (199, 920)\t0.024639651315400423\n",
      "  (199, 916)\t0.049279302630800846\n",
      "  (199, 912)\t0.08050276678688509\n",
      "  (199, 828)\t0.004246703482526041\n",
      "  (199, 775)\t0.024639651315400423\n",
      "  (199, 774)\t0.024639651315400423\n",
      "  (199, 728)\t0.04989964674292539\n",
      "  (199, 727)\t0.04989964674292539\n",
      "  (199, 690)\t0.0734639097072295\n",
      "  (199, 679)\t0.024639651315400423\n",
      "  (199, 678)\t0.04085374396093975\n",
      "  (199, 666)\t0.05608864187699889\n",
      "  (199, 664)\t0.0817074879218795\n",
      "  (199, 661)\t0.16835280332436142\n",
      "  (199, 658)\t0.08050276678688509\n",
      "  (199, 655)\t0.20719009437016175\n",
      "  (199, 469)\t0.08911292483785588\n",
      "  (199, 468)\t0.08911292483785588\n",
      "  (199, 377)\t0.17822584967571176\n",
      "  (199, 376)\t0.44590386566523427\n",
      "  (199, 375)\t0.6072785980012237\n"
     ]
    }
   ],
   "source": [
    "print(xtrain_tfidf_ngram)"
   ]
  },
  {
   "cell_type": "code",
   "execution_count": 57,
   "metadata": {},
   "outputs": [
    {
     "name": "stdout",
     "output_type": "stream",
     "text": [
      "  (0, 4976)\t0.003119801411505795\n",
      "  (0, 4945)\t0.003210977934198099\n",
      "  (0, 4944)\t0.005788433280023788\n",
      "  (0, 4883)\t0.016810571703099474\n",
      "  (0, 4791)\t0.002421042390898195\n",
      "  (0, 4571)\t0.0042824100917326375\n",
      "  (0, 4570)\t0.03931287368768646\n",
      "  (0, 4569)\t0.031270602454192775\n",
      "  (0, 4409)\t0.0020098225633885655\n",
      "  (0, 4408)\t0.002316348298673465\n",
      "  (0, 4407)\t0.0037486218424970623\n",
      "  (0, 4202)\t0.003210977934198099\n",
      "  (0, 4201)\t0.003210977934198099\n",
      "  (0, 3880)\t0.0011581741493367325\n",
      "  (0, 3863)\t0.003210977934198099\n",
      "  (0, 3832)\t0.0021894553938734966\n",
      "  (0, 3831)\t0.0012975520972203951\n",
      "  (0, 3830)\t0.0030556704864251653\n",
      "  (0, 3819)\t0.007722412609130078\n",
      "  (0, 3740)\t0.0021728566577639613\n",
      "  (0, 3739)\t0.0030766712813305014\n",
      "  (0, 3506)\t0.1022354451016658\n",
      "  (0, 3505)\t0.1022354451016658\n",
      "  (0, 3503)\t0.11094977324045655\n",
      "  (0, 3502)\t0.1022354451016658\n",
      "  :\t:\n",
      "  (66, 484)\t0.16297821712624594\n",
      "  (66, 483)\t0.16297821712624594\n",
      "  (66, 475)\t0.16607569854620957\n",
      "  (66, 472)\t0.11836802782705602\n",
      "  (66, 461)\t0.03739994804605283\n",
      "  (66, 460)\t0.03739994804605283\n",
      "  (66, 459)\t0.04919853746432941\n",
      "  (66, 423)\t0.09684656822213675\n",
      "  (66, 422)\t0.09684656822213675\n",
      "  (66, 392)\t0.07532510861721746\n",
      "  (66, 390)\t0.022014209293906736\n",
      "  (66, 389)\t0.021521459604919278\n",
      "  (66, 388)\t0.021521459604919278\n",
      "  (66, 387)\t0.044864953624802445\n",
      "  (66, 386)\t0.021521459604919278\n",
      "  (66, 382)\t0.05380364901229819\n",
      "  (66, 381)\t0.05380364901229819\n",
      "  (66, 281)\t0.05441188610740664\n",
      "  (66, 272)\t0.03228218940737891\n",
      "  (66, 271)\t0.03228218940737891\n",
      "  (66, 270)\t0.03228218940737891\n",
      "  (66, 269)\t0.03228218940737891\n",
      "  (66, 268)\t0.03228218940737891\n",
      "  (66, 267)\t0.03228218940737891\n",
      "  (66, 266)\t0.03228218940737891\n"
     ]
    }
   ],
   "source": [
    "print(xvalid_tfidf_ngram)"
   ]
  },
  {
   "cell_type": "code",
   "execution_count": 58,
   "metadata": {},
   "outputs": [],
   "source": [
    "df_final['char_count'] = df_final['clean_line'].apply(len)\n",
    "df_final['word_count'] = df_final['clean_line'].apply(lambda x: len(x.split()))\n",
    "df_final['word_density'] = df_final['char_count'] / (df_final['word_count']+1)\n",
    "df_final['punctuation_count'] = df_final['clean_line'].apply(lambda x: len(\"\".join(_ for _ in x if _ in string.punctuation))) \n",
    "df_final['title_word_count'] = df_final['clean_line'].apply(lambda x: len([wrd for wrd in x.split() if wrd.istitle()]))\n",
    "df_final['upper_case_word_count'] = df_final['clean_line'].apply(lambda x: len([wrd for wrd in x.split() if wrd.isupper()]))"
   ]
  },
  {
   "cell_type": "code",
   "execution_count": 59,
   "metadata": {},
   "outputs": [],
   "source": [
    "# train a LDA Model\n",
    "#lda_model = decomposition.LatentDirichletAllocation(n_components=20, learning_method='online', max_iter=20)\n",
    "#X_topics = lda_model.fit_transform(xtrain_count)\n",
    "#topic_word = lda_model.components_ \n",
    "#vocab = count_vect.get_feature_names()"
   ]
  },
  {
   "cell_type": "code",
   "execution_count": 60,
   "metadata": {
    "scrolled": false
   },
   "outputs": [],
   "source": [
    "# view the topic models\n",
    "#n_top_words = 10\n",
    "#topic_summaries = []\n",
    "#for i, topic_dist in enumerate(topic_word):\n",
    "#    topic_words = numpy.array(vocab)[numpy.argsort(topic_dist)][:-(n_top_words+1):-1]\n",
    "#    topic_summaries.append(' '.join(topic_words))"
   ]
  },
  {
   "cell_type": "code",
   "execution_count": 61,
   "metadata": {},
   "outputs": [],
   "source": [
    "def train_model(classifier, feature_vector_train, label, feature_vector_valid, is_neural_net=False):\n",
    "    # fit the training dataset on the classifier\n",
    "    classifier.fit(feature_vector_train, label)\n",
    "    \n",
    "    # predict the labels on validation dataset\n",
    "    predictions = classifier.predict(feature_vector_valid)\n",
    "    \n",
    "    if is_neural_net:\n",
    "        predictions = predictions.argmax(axis=-1)\n",
    "    \n",
    "    return metrics.accuracy_score(predictions, valid_y)"
   ]
  },
  {
   "cell_type": "code",
   "execution_count": 62,
   "metadata": {
    "scrolled": true
   },
   "outputs": [
    {
     "name": "stdout",
     "output_type": "stream",
     "text": [
      "NB, Count Vectors:  1.0\n",
      "NB, WordLevel TF-IDF:  0.9850746268656716\n",
      "NB, N-Gram Vectors:  1.0\n"
     ]
    }
   ],
   "source": [
    "# Naive Bayes on Count Vectors\n",
    "accuracy = train_model(naive_bayes.MultinomialNB(), xtrain_count, train_y, xvalid_count)\n",
    "print(\"NB, Count Vectors: \", accuracy)\n",
    "\n",
    "# Naive Bayes on Word Level TF IDF Vectors\n",
    "accuracy = train_model(naive_bayes.MultinomialNB(), xtrain_tfidf, train_y, xvalid_tfidf)\n",
    "print(\"NB, WordLevel TF-IDF: \", accuracy)\n",
    "\n",
    "# Naive Bayes on Ngram Level TF IDF Vectors\n",
    "accuracy = train_model(naive_bayes.MultinomialNB(), xtrain_tfidf_ngram, train_y, xvalid_tfidf_ngram)\n",
    "print(\"NB, N-Gram Vectors: \", accuracy) \n",
    "\n"
   ]
  },
  {
   "cell_type": "markdown",
   "metadata": {},
   "source": [
    "## NB: Get predictions for NB, WordLevel TF-IDF"
   ]
  },
  {
   "cell_type": "code",
   "execution_count": 63,
   "metadata": {},
   "outputs": [],
   "source": [
    "clas_NB_wordlevel_tfidf = naive_bayes.MultinomialNB().fit(xtrain_tfidf, train_y)\n",
    "\n",
    "predictions_NB_wordlevel_tfidf = clas_NB_wordlevel_tfidf.predict(xvalid_tfidf)"
   ]
  },
  {
   "cell_type": "code",
   "execution_count": 64,
   "metadata": {
    "scrolled": true
   },
   "outputs": [
    {
     "data": {
      "text/plain": [
       "0.975"
      ]
     },
     "execution_count": 64,
     "metadata": {},
     "output_type": "execute_result"
    }
   ],
   "source": [
    "#train_accuracy\n",
    "metrics.accuracy_score(train_y, clas_NB_wordlevel_tfidf.predict(xtrain_tfidf))"
   ]
  },
  {
   "cell_type": "code",
   "execution_count": 65,
   "metadata": {
    "scrolled": true
   },
   "outputs": [
    {
     "data": {
      "text/plain": [
       "0.9850746268656716"
      ]
     },
     "execution_count": 65,
     "metadata": {},
     "output_type": "execute_result"
    }
   ],
   "source": [
    "#test_accuracy\n",
    "accuracy_NB_wordlevel_tfidf = metrics.accuracy_score(predictions_NB_wordlevel_tfidf,valid_y)\n",
    "accuracy_NB_wordlevel_tfidf"
   ]
  },
  {
   "cell_type": "code",
   "execution_count": 66,
   "metadata": {
    "scrolled": true
   },
   "outputs": [
    {
     "data": {
      "text/plain": [
       "array([[21,  0,  0,  0],\n",
       "       [ 0,  6,  1,  0],\n",
       "       [ 0,  0, 25,  0],\n",
       "       [ 0,  0,  0, 14]], dtype=int64)"
      ]
     },
     "execution_count": 66,
     "metadata": {},
     "output_type": "execute_result"
    }
   ],
   "source": [
    "metrics.confusion_matrix(valid_y, predictions_NB_wordlevel_tfidf)"
   ]
  },
  {
   "cell_type": "code",
   "execution_count": 67,
   "metadata": {
    "scrolled": true
   },
   "outputs": [
    {
     "data": {
      "text/plain": [
       "array([0, 3, 0, 2, 0, 0, 0, 0, 2, 2, 2, 3, 0, 2, 3, 2, 2, 3, 2, 0, 3, 2,\n",
       "       0, 2, 2, 2, 2, 3, 0, 2, 2, 2, 2, 3, 0, 0, 2, 0, 2, 3, 3, 1, 1, 0,\n",
       "       3, 2, 0, 2, 0, 0, 0, 3, 0, 0, 1, 3, 1, 0, 2, 3, 1, 2, 2, 2, 1, 2,\n",
       "       3], dtype=int64)"
      ]
     },
     "execution_count": 67,
     "metadata": {},
     "output_type": "execute_result"
    }
   ],
   "source": [
    "predictions_NB_wordlevel_tfidf"
   ]
  },
  {
   "cell_type": "markdown",
   "metadata": {},
   "source": [
    "## NB: Get predictions for NB, Count Vectors"
   ]
  },
  {
   "cell_type": "code",
   "execution_count": 68,
   "metadata": {},
   "outputs": [
    {
     "data": {
      "text/plain": [
       "array([0, 3, 0, 2, 0, 0, 0, 0, 2, 2, 2, 3, 0, 2, 3, 2, 2, 3, 2, 0, 3, 2,\n",
       "       0, 2, 2, 2, 2, 3, 0, 2, 2, 2, 1, 3, 0, 0, 2, 0, 2, 3, 3, 1, 1, 0,\n",
       "       3, 2, 0, 2, 0, 0, 0, 3, 0, 0, 1, 3, 1, 0, 2, 3, 1, 2, 2, 2, 1, 2,\n",
       "       3], dtype=int64)"
      ]
     },
     "execution_count": 68,
     "metadata": {},
     "output_type": "execute_result"
    }
   ],
   "source": [
    "clas_NB_countvectors = naive_bayes.MultinomialNB().fit(xtrain_count, train_y)\n",
    "\n",
    "predictions_NB_countvectors = clas_NB_countvectors.predict(xvalid_count)\n",
    "\n",
    "predictions_NB_countvectors"
   ]
  },
  {
   "cell_type": "code",
   "execution_count": 69,
   "metadata": {},
   "outputs": [
    {
     "data": {
      "text/plain": [
       "1.0"
      ]
     },
     "execution_count": 69,
     "metadata": {},
     "output_type": "execute_result"
    }
   ],
   "source": [
    "#train_accuracy\n",
    "metrics.accuracy_score(train_y, clas_NB_countvectors.predict(xtrain_count))"
   ]
  },
  {
   "cell_type": "code",
   "execution_count": 70,
   "metadata": {},
   "outputs": [
    {
     "data": {
      "text/plain": [
       "1.0"
      ]
     },
     "execution_count": 70,
     "metadata": {},
     "output_type": "execute_result"
    }
   ],
   "source": [
    "#test_accuracy\n",
    "accuracy_NB_countvectors = metrics.accuracy_score(predictions_NB_countvectors,valid_y)\n",
    "accuracy_NB_countvectors"
   ]
  },
  {
   "cell_type": "code",
   "execution_count": 71,
   "metadata": {},
   "outputs": [
    {
     "data": {
      "text/plain": [
       "array([[21,  0,  0,  0],\n",
       "       [ 0,  7,  0,  0],\n",
       "       [ 0,  0, 25,  0],\n",
       "       [ 0,  0,  0, 14]], dtype=int64)"
      ]
     },
     "execution_count": 71,
     "metadata": {},
     "output_type": "execute_result"
    }
   ],
   "source": [
    "metrics.confusion_matrix(valid_y, predictions_NB_countvectors)"
   ]
  },
  {
   "cell_type": "markdown",
   "metadata": {},
   "source": [
    "# NB: Get Predictions for Ngram Level TFIDF"
   ]
  },
  {
   "cell_type": "code",
   "execution_count": 72,
   "metadata": {
    "scrolled": true
   },
   "outputs": [
    {
     "data": {
      "text/plain": [
       "array([0, 3, 0, 2, 0, 0, 0, 0, 2, 2, 2, 3, 0, 2, 3, 2, 2, 3, 2, 0, 3, 2,\n",
       "       0, 2, 2, 2, 2, 3, 0, 2, 2, 2, 1, 3, 0, 0, 2, 0, 2, 3, 3, 1, 1, 0,\n",
       "       3, 2, 0, 2, 0, 0, 0, 3, 0, 0, 1, 3, 1, 0, 2, 3, 1, 2, 2, 2, 1, 2,\n",
       "       3], dtype=int64)"
      ]
     },
     "execution_count": 72,
     "metadata": {},
     "output_type": "execute_result"
    }
   ],
   "source": [
    "clas_NB_ngram_tfidf = naive_bayes.MultinomialNB().fit(xtrain_tfidf_ngram, train_y)\n",
    "\n",
    "predictions_NB_ngram_tfidf = clas_NB_ngram_tfidf.predict(xvalid_tfidf_ngram)\n",
    "\n",
    "predictions_NB_ngram_tfidf"
   ]
  },
  {
   "cell_type": "code",
   "execution_count": 73,
   "metadata": {},
   "outputs": [
    {
     "data": {
      "text/plain": [
       "1.0"
      ]
     },
     "execution_count": 73,
     "metadata": {},
     "output_type": "execute_result"
    }
   ],
   "source": [
    "#train_accuracy\n",
    "metrics.accuracy_score(train_y, clas_NB_ngram_tfidf.predict(xtrain_tfidf_ngram))"
   ]
  },
  {
   "cell_type": "code",
   "execution_count": 74,
   "metadata": {
    "scrolled": true
   },
   "outputs": [
    {
     "data": {
      "text/plain": [
       "1.0"
      ]
     },
     "execution_count": 74,
     "metadata": {},
     "output_type": "execute_result"
    }
   ],
   "source": [
    "#test_accuracy\n",
    "accuracy_NB_ngram_tfidf = metrics.accuracy_score(predictions_NB_ngram_tfidf,valid_y)\n",
    "accuracy_NB_ngram_tfidf"
   ]
  },
  {
   "cell_type": "code",
   "execution_count": 75,
   "metadata": {
    "scrolled": true
   },
   "outputs": [
    {
     "data": {
      "text/plain": [
       "array([[21,  0,  0,  0],\n",
       "       [ 0,  7,  0,  0],\n",
       "       [ 0,  0, 25,  0],\n",
       "       [ 0,  0,  0, 14]], dtype=int64)"
      ]
     },
     "execution_count": 75,
     "metadata": {},
     "output_type": "execute_result"
    }
   ],
   "source": [
    "metrics.confusion_matrix(valid_y, predictions_NB_ngram_tfidf,labels=(0,1,2,3))"
   ]
  },
  {
   "cell_type": "markdown",
   "metadata": {},
   "source": [
    "## Random Forest ## "
   ]
  },
  {
   "cell_type": "code",
   "execution_count": 76,
   "metadata": {
    "scrolled": true
   },
   "outputs": [
    {
     "name": "stdout",
     "output_type": "stream",
     "text": [
      "RF, Count Vectors:  0.9850746268656716\n",
      "RF, WordLevel TF-IDF:  0.9850746268656716\n",
      "RF, N-Gram Vectors:  0.9850746268656716\n"
     ]
    }
   ],
   "source": [
    "# RF on Count Vectors\n",
    "accuracy = train_model(ensemble.RandomForestClassifier(), xtrain_count, train_y, xvalid_count)\n",
    "print(\"RF, Count Vectors: \", accuracy)\n",
    "\n",
    "# RF on Word Level TF IDF Vectors\n",
    "accuracy = train_model(ensemble.RandomForestClassifier(), xtrain_tfidf, train_y, xvalid_tfidf)\n",
    "print(\"RF, WordLevel TF-IDF: \", accuracy)\n",
    "\n",
    "### RF on Ngram level TF IDF Vectors\n",
    "\n",
    "accuracy = train_model(ensemble.RandomForestClassifier(), xtrain_tfidf_ngram, train_y, xvalid_tfidf_ngram)\n",
    "print(\"RF, N-Gram Vectors: \", accuracy) \n",
    "\n",
    "\n",
    "### RF on Ngram level TF IDF Vectors"
   ]
  },
  {
   "cell_type": "markdown",
   "metadata": {},
   "source": [
    "## RF: Get Predictions from Word Level"
   ]
  },
  {
   "cell_type": "code",
   "execution_count": 77,
   "metadata": {},
   "outputs": [],
   "source": [
    "clas_RF_wordlevel_tfidf = ensemble.RandomForestClassifier().fit(xtrain_tfidf, train_y)\n",
    "\n",
    "predictions_RF_wordlevel_tfidf = clas_RF_wordlevel_tfidf.predict(xvalid_tfidf)"
   ]
  },
  {
   "cell_type": "code",
   "execution_count": 78,
   "metadata": {
    "scrolled": false
   },
   "outputs": [
    {
     "data": {
      "text/plain": [
       "1.0"
      ]
     },
     "execution_count": 78,
     "metadata": {},
     "output_type": "execute_result"
    }
   ],
   "source": [
    "#train_accuracy\n",
    "metrics.accuracy_score(train_y, clas_RF_wordlevel_tfidf.predict(xtrain_tfidf))"
   ]
  },
  {
   "cell_type": "code",
   "execution_count": 79,
   "metadata": {
    "scrolled": true
   },
   "outputs": [
    {
     "data": {
      "text/plain": [
       "0.9850746268656716"
      ]
     },
     "execution_count": 79,
     "metadata": {},
     "output_type": "execute_result"
    }
   ],
   "source": [
    "#test_accuracy\n",
    "accuracy_RF_wordlevel_tfidf = metrics.accuracy_score(predictions_RF_wordlevel_tfidf,valid_y)\n",
    "accuracy_RF_wordlevel_tfidf"
   ]
  },
  {
   "cell_type": "code",
   "execution_count": 80,
   "metadata": {
    "scrolled": false
   },
   "outputs": [
    {
     "data": {
      "text/plain": [
       "array([[21,  0,  0,  0],\n",
       "       [ 0,  7,  0,  0],\n",
       "       [ 0,  0, 25,  0],\n",
       "       [ 1,  0,  0, 13]], dtype=int64)"
      ]
     },
     "execution_count": 80,
     "metadata": {},
     "output_type": "execute_result"
    }
   ],
   "source": [
    "metrics.confusion_matrix(valid_y, predictions_RF_wordlevel_tfidf,labels=(0,1,2,3))"
   ]
  },
  {
   "cell_type": "code",
   "execution_count": 81,
   "metadata": {
    "scrolled": false
   },
   "outputs": [
    {
     "data": {
      "text/plain": [
       "array([0, 3, 0, 2, 0, 0, 0, 0, 2, 2, 2, 3, 0, 2, 3, 2, 2, 3, 2, 0, 3, 2,\n",
       "       0, 2, 2, 2, 2, 3, 0, 2, 2, 2, 1, 3, 0, 0, 2, 0, 2, 3, 3, 1, 1, 0,\n",
       "       3, 2, 0, 2, 0, 0, 0, 0, 0, 0, 1, 3, 1, 0, 2, 3, 1, 2, 2, 2, 1, 2,\n",
       "       3], dtype=int64)"
      ]
     },
     "execution_count": 81,
     "metadata": {},
     "output_type": "execute_result"
    }
   ],
   "source": [
    "predictions_RF_wordlevel_tfidf"
   ]
  },
  {
   "cell_type": "markdown",
   "metadata": {},
   "source": [
    "### RF: Get Predictions from Count Vector"
   ]
  },
  {
   "cell_type": "code",
   "execution_count": 82,
   "metadata": {
    "scrolled": true
   },
   "outputs": [
    {
     "data": {
      "text/plain": [
       "array([0, 3, 0, 2, 0, 0, 0, 0, 2, 2, 2, 3, 0, 2, 3, 2, 2, 3, 2, 0, 3, 2,\n",
       "       0, 2, 2, 2, 2, 3, 0, 2, 2, 2, 1, 3, 0, 0, 2, 0, 2, 3, 3, 1, 1, 0,\n",
       "       3, 2, 2, 2, 0, 0, 0, 3, 0, 0, 1, 3, 1, 0, 2, 3, 1, 2, 2, 2, 1, 2,\n",
       "       3], dtype=int64)"
      ]
     },
     "execution_count": 82,
     "metadata": {},
     "output_type": "execute_result"
    }
   ],
   "source": [
    "clas_RF_countvector = ensemble.RandomForestClassifier().fit(xtrain_count, train_y)\n",
    "\n",
    "predictions_RF_countvector = clas_RF_countvector.predict(xvalid_count)\n",
    "\n",
    "predictions_RF_countvector"
   ]
  },
  {
   "cell_type": "code",
   "execution_count": 83,
   "metadata": {
    "scrolled": true
   },
   "outputs": [
    {
     "data": {
      "text/plain": [
       "1.0"
      ]
     },
     "execution_count": 83,
     "metadata": {},
     "output_type": "execute_result"
    }
   ],
   "source": [
    "#train_accuracy\n",
    "metrics.accuracy_score(train_y, clas_RF_countvector.predict(xtrain_count))"
   ]
  },
  {
   "cell_type": "code",
   "execution_count": 84,
   "metadata": {
    "scrolled": true
   },
   "outputs": [
    {
     "data": {
      "text/plain": [
       "0.9850746268656716"
      ]
     },
     "execution_count": 84,
     "metadata": {},
     "output_type": "execute_result"
    }
   ],
   "source": [
    "#test_accuracy\n",
    "accuracy_RF_countvector = metrics.accuracy_score(predictions_RF_countvector,valid_y)\n",
    "accuracy_RF_countvector"
   ]
  },
  {
   "cell_type": "code",
   "execution_count": 85,
   "metadata": {
    "scrolled": false
   },
   "outputs": [
    {
     "data": {
      "text/plain": [
       "array([[20,  0,  1,  0],\n",
       "       [ 0,  7,  0,  0],\n",
       "       [ 0,  0, 25,  0],\n",
       "       [ 0,  0,  0, 14]], dtype=int64)"
      ]
     },
     "execution_count": 85,
     "metadata": {},
     "output_type": "execute_result"
    }
   ],
   "source": [
    "metrics.confusion_matrix(valid_y, predictions_RF_countvector)"
   ]
  },
  {
   "cell_type": "markdown",
   "metadata": {},
   "source": [
    "# RF: Get Predictions for Ngram Level TFIDF"
   ]
  },
  {
   "cell_type": "code",
   "execution_count": 86,
   "metadata": {},
   "outputs": [],
   "source": [
    "clas_RF_ngram_tfidf = ensemble.RandomForestClassifier().fit(xtrain_tfidf_ngram, train_y)\n",
    "predictions_RF_ngram_tfidf = clas_RF_ngram_tfidf.predict(xvalid_tfidf_ngram)\n"
   ]
  },
  {
   "cell_type": "code",
   "execution_count": 87,
   "metadata": {},
   "outputs": [
    {
     "data": {
      "text/plain": [
       "1.0"
      ]
     },
     "execution_count": 87,
     "metadata": {},
     "output_type": "execute_result"
    }
   ],
   "source": [
    "#train_accuracy\n",
    "metrics.accuracy_score(train_y, clas_RF_ngram_tfidf.predict(xtrain_tfidf_ngram))"
   ]
  },
  {
   "cell_type": "code",
   "execution_count": 88,
   "metadata": {},
   "outputs": [
    {
     "data": {
      "text/plain": [
       "0.9850746268656716"
      ]
     },
     "execution_count": 88,
     "metadata": {},
     "output_type": "execute_result"
    }
   ],
   "source": [
    "#test_accuracy\n",
    "accuracy_RF_ngram_tfidf = metrics.accuracy_score(predictions_RF_ngram_tfidf,valid_y)\n",
    "accuracy_RF_ngram_tfidf"
   ]
  },
  {
   "cell_type": "code",
   "execution_count": 89,
   "metadata": {
    "scrolled": true
   },
   "outputs": [
    {
     "data": {
      "text/plain": [
       "array([[21,  0,  0,  0],\n",
       "       [ 0,  7,  0,  0],\n",
       "       [ 0,  0, 25,  0],\n",
       "       [ 1,  0,  0, 13]], dtype=int64)"
      ]
     },
     "execution_count": 89,
     "metadata": {},
     "output_type": "execute_result"
    }
   ],
   "source": [
    "metrics.confusion_matrix(valid_y, predictions_RF_ngram_tfidf,labels=(0,1,2,3))"
   ]
  },
  {
   "cell_type": "markdown",
   "metadata": {},
   "source": [
    "# Decision tree"
   ]
  },
  {
   "cell_type": "code",
   "execution_count": 90,
   "metadata": {
    "scrolled": false
   },
   "outputs": [
    {
     "name": "stdout",
     "output_type": "stream",
     "text": [
      "RF-Information Gain, N-Gram Vectors:  0.9850746268656716\n"
     ]
    }
   ],
   "source": [
    "accuracy_DT_ngram_tfidf = train_model(tree.DecisionTreeClassifier(criterion='gini'), xtrain_tfidf_ngram, train_y, xvalid_tfidf_ngram)\n",
    "print(\"RF-Information Gain, N-Gram Vectors: \", accuracy) "
   ]
  },
  {
   "cell_type": "markdown",
   "metadata": {},
   "source": [
    "# SVM "
   ]
  },
  {
   "cell_type": "code",
   "execution_count": 91,
   "metadata": {
    "scrolled": true
   },
   "outputs": [
    {
     "name": "stdout",
     "output_type": "stream",
     "text": [
      "SVM, Count Vectors:  0.8805970149253731\n",
      "SVM, WordLevel TF-IDF:  0.208955223880597\n",
      "SVM, N-Gram Vectors:  0.208955223880597\n"
     ]
    }
   ],
   "source": [
    "# SVM on Count Vectors\n",
    "accuracy = train_model(svm.SVC(), xtrain_count, train_y, xvalid_count)\n",
    "print(\"SVM, Count Vectors: \", accuracy)\n",
    "\n",
    "# SVM on Word Level TF IDF Vectors\n",
    "accuracy = train_model(svm.SVC(), xtrain_tfidf, train_y, xvalid_tfidf)\n",
    "print(\"SVM, WordLevel TF-IDF: \", accuracy)\n",
    "\n",
    "# SVM on Ngram Level TF IDF Vectors\n",
    "accuracy = train_model(svm.SVC(), xtrain_tfidf_ngram, train_y, xvalid_tfidf_ngram)\n",
    "print(\"SVM, N-Gram Vectors: \", accuracy)"
   ]
  },
  {
   "cell_type": "markdown",
   "metadata": {},
   "source": [
    "### SVM: Get predictions for SVM, tfidf word level"
   ]
  },
  {
   "cell_type": "code",
   "execution_count": 92,
   "metadata": {},
   "outputs": [],
   "source": [
    "clas_SVM_wordlevel_tfidf = svm.SVC().fit(xtrain_tfidf, train_y)\n",
    "\n",
    "predictions_SVM_wordlevel_tfidf = clas_SVM_wordlevel_tfidf.predict(xvalid_tfidf)"
   ]
  },
  {
   "cell_type": "code",
   "execution_count": 93,
   "metadata": {
    "scrolled": true
   },
   "outputs": [
    {
     "data": {
      "text/plain": [
       "0.335"
      ]
     },
     "execution_count": 93,
     "metadata": {},
     "output_type": "execute_result"
    }
   ],
   "source": [
    "#train_accuracy\n",
    "metrics.accuracy_score(train_y, clas_SVM_wordlevel_tfidf.predict(xtrain_tfidf))"
   ]
  },
  {
   "cell_type": "code",
   "execution_count": 94,
   "metadata": {
    "scrolled": true
   },
   "outputs": [
    {
     "data": {
      "text/plain": [
       "0.208955223880597"
      ]
     },
     "execution_count": 94,
     "metadata": {},
     "output_type": "execute_result"
    }
   ],
   "source": [
    "#test_accuracy\n",
    "accuracy_SVM_wordlevel_tfidf = metrics.accuracy_score(predictions_SVM_wordlevel_tfidf,valid_y)\n",
    "accuracy_SVM_wordlevel_tfidf"
   ]
  },
  {
   "cell_type": "code",
   "execution_count": 95,
   "metadata": {
    "scrolled": true
   },
   "outputs": [
    {
     "data": {
      "text/plain": [
       "array([[ 0,  0,  0, 21],\n",
       "       [ 0,  0,  0,  7],\n",
       "       [ 0,  0,  0, 25],\n",
       "       [ 0,  0,  0, 14]], dtype=int64)"
      ]
     },
     "execution_count": 95,
     "metadata": {},
     "output_type": "execute_result"
    }
   ],
   "source": [
    "metrics.confusion_matrix(valid_y, predictions_SVM_wordlevel_tfidf)"
   ]
  },
  {
   "cell_type": "code",
   "execution_count": 96,
   "metadata": {
    "scrolled": true
   },
   "outputs": [
    {
     "data": {
      "text/plain": [
       "array([3, 3, 3, 3, 3, 3, 3, 3, 3, 3, 3, 3, 3, 3, 3, 3, 3, 3, 3, 3, 3, 3,\n",
       "       3, 3, 3, 3, 3, 3, 3, 3, 3, 3, 3, 3, 3, 3, 3, 3, 3, 3, 3, 3, 3, 3,\n",
       "       3, 3, 3, 3, 3, 3, 3, 3, 3, 3, 3, 3, 3, 3, 3, 3, 3, 3, 3, 3, 3, 3,\n",
       "       3], dtype=int64)"
      ]
     },
     "execution_count": 96,
     "metadata": {},
     "output_type": "execute_result"
    }
   ],
   "source": [
    "predictions_SVM_wordlevel_tfidf"
   ]
  },
  {
   "cell_type": "markdown",
   "metadata": {},
   "source": [
    "## SVM: Get predictions for NB, Count Vectors"
   ]
  },
  {
   "cell_type": "code",
   "execution_count": 97,
   "metadata": {},
   "outputs": [
    {
     "data": {
      "text/plain": [
       "array([0, 3, 2, 2, 0, 0, 0, 0, 2, 2, 2, 3, 0, 2, 3, 2, 2, 2, 2, 0, 3, 2,\n",
       "       0, 2, 2, 2, 2, 3, 0, 2, 2, 2, 1, 3, 0, 2, 2, 2, 2, 3, 3, 1, 1, 2,\n",
       "       3, 2, 2, 2, 0, 0, 0, 2, 0, 0, 2, 3, 1, 0, 2, 3, 1, 2, 2, 2, 1, 2,\n",
       "       3], dtype=int64)"
      ]
     },
     "execution_count": 97,
     "metadata": {},
     "output_type": "execute_result"
    }
   ],
   "source": [
    "clas_SVM_countvectors = svm.SVC().fit(xtrain_count, train_y)\n",
    "\n",
    "predictions_SVM_countvectors = clas_SVM_countvectors.predict(xvalid_count)\n",
    "\n",
    "predictions_SVM_countvectors"
   ]
  },
  {
   "cell_type": "code",
   "execution_count": 98,
   "metadata": {},
   "outputs": [
    {
     "data": {
      "text/plain": [
       "1.0"
      ]
     },
     "execution_count": 98,
     "metadata": {},
     "output_type": "execute_result"
    }
   ],
   "source": [
    "#train_accuracy\n",
    "metrics.accuracy_score(train_y, clas_SVM_countvectors.predict(xtrain_count))"
   ]
  },
  {
   "cell_type": "code",
   "execution_count": 99,
   "metadata": {},
   "outputs": [],
   "source": [
    "#test_accuracy\n",
    "accuracy_SVM_countvectors = metrics.accuracy_score(predictions_SVM_countvectors,valid_y)"
   ]
  },
  {
   "cell_type": "code",
   "execution_count": 100,
   "metadata": {},
   "outputs": [
    {
     "data": {
      "text/plain": [
       "0.8805970149253731"
      ]
     },
     "execution_count": 100,
     "metadata": {},
     "output_type": "execute_result"
    }
   ],
   "source": [
    "accuracy_SVM_countvectors "
   ]
  },
  {
   "cell_type": "code",
   "execution_count": 101,
   "metadata": {},
   "outputs": [
    {
     "data": {
      "text/plain": [
       "array([[16,  0,  5,  0],\n",
       "       [ 0,  6,  1,  0],\n",
       "       [ 0,  0, 25,  0],\n",
       "       [ 0,  0,  2, 12]], dtype=int64)"
      ]
     },
     "execution_count": 101,
     "metadata": {},
     "output_type": "execute_result"
    }
   ],
   "source": [
    "metrics.confusion_matrix(valid_y, predictions_SVM_countvectors)"
   ]
  },
  {
   "cell_type": "markdown",
   "metadata": {},
   "source": [
    "# SVM: Get Predictions for Ngram Level TFIDF"
   ]
  },
  {
   "cell_type": "code",
   "execution_count": 102,
   "metadata": {
    "scrolled": true
   },
   "outputs": [
    {
     "data": {
      "text/plain": [
       "array([3, 3, 3, 3, 3, 3, 3, 3, 3, 3, 3, 3, 3, 3, 3, 3, 3, 3, 3, 3, 3, 3,\n",
       "       3, 3, 3, 3, 3, 3, 3, 3, 3, 3, 3, 3, 3, 3, 3, 3, 3, 3, 3, 3, 3, 3,\n",
       "       3, 3, 3, 3, 3, 3, 3, 3, 3, 3, 3, 3, 3, 3, 3, 3, 3, 3, 3, 3, 3, 3,\n",
       "       3], dtype=int64)"
      ]
     },
     "execution_count": 102,
     "metadata": {},
     "output_type": "execute_result"
    }
   ],
   "source": [
    "clas_SVM_ngram_tfidf = svm.SVC().fit(xtrain_tfidf_ngram, train_y)\n",
    "\n",
    "predictions_SVM_ngram_tfidf = clas_SVM_ngram_tfidf.predict(xvalid_tfidf_ngram)\n",
    "\n",
    "predictions_SVM_ngram_tfidf"
   ]
  },
  {
   "cell_type": "code",
   "execution_count": 103,
   "metadata": {},
   "outputs": [
    {
     "data": {
      "text/plain": [
       "0.335"
      ]
     },
     "execution_count": 103,
     "metadata": {},
     "output_type": "execute_result"
    }
   ],
   "source": [
    "#train_accuracy\n",
    "metrics.accuracy_score(train_y, clas_SVM_ngram_tfidf.predict(xtrain_tfidf_ngram))"
   ]
  },
  {
   "cell_type": "code",
   "execution_count": 104,
   "metadata": {
    "scrolled": true
   },
   "outputs": [
    {
     "data": {
      "text/plain": [
       "0.208955223880597"
      ]
     },
     "execution_count": 104,
     "metadata": {},
     "output_type": "execute_result"
    }
   ],
   "source": [
    "#test_accuracy\n",
    "accuracy_SVM_ngram_tfidf = metrics.accuracy_score(predictions_SVM_ngram_tfidf,valid_y)\n",
    "accuracy_SVM_ngram_tfidf "
   ]
  },
  {
   "cell_type": "code",
   "execution_count": 105,
   "metadata": {
    "scrolled": true
   },
   "outputs": [
    {
     "data": {
      "text/plain": [
       "array([[ 0,  0,  0, 21],\n",
       "       [ 0,  0,  0,  7],\n",
       "       [ 0,  0,  0, 25],\n",
       "       [ 0,  0,  0, 14]], dtype=int64)"
      ]
     },
     "execution_count": 105,
     "metadata": {},
     "output_type": "execute_result"
    }
   ],
   "source": [
    "metrics.confusion_matrix(valid_y, predictions_SVM_ngram_tfidf,labels=(0,1,2,3))"
   ]
  },
  {
   "cell_type": "markdown",
   "metadata": {},
   "source": [
    "### Pick the Best model from above and map predictions to actual labels"
   ]
  },
  {
   "cell_type": "code",
   "execution_count": 106,
   "metadata": {},
   "outputs": [],
   "source": [
    "###"
   ]
  },
  {
   "cell_type": "code",
   "execution_count": 107,
   "metadata": {},
   "outputs": [],
   "source": [
    "df_acc_list = [accuracy_NB_wordlevel_tfidf,accuracy_NB_countvectors,accuracy_NB_ngram_tfidf,\n",
    "               accuracy_RF_wordlevel_tfidf,accuracy_RF_countvector,accuracy_RF_ngram_tfidf,\n",
    "               accuracy_SVM_wordlevel_tfidf,accuracy_SVM_countvectors,accuracy_SVM_ngram_tfidf]"
   ]
  },
  {
   "cell_type": "code",
   "execution_count": 108,
   "metadata": {},
   "outputs": [],
   "source": [
    "df_acc_dict = dict({'accuracy_NB_wordlevel_tfidf':accuracy_NB_wordlevel_tfidf,\n",
    "                    'accuracy_NB_countvectors': accuracy_NB_countvectors,\n",
    "                    'accuracy_NB_ngram_tfidf' : accuracy_NB_ngram_tfidf,\n",
    "                    'accuracy_RF_wordlevel_tfidf' : accuracy_RF_wordlevel_tfidf,\n",
    "                    'accuracy_RF_countvector' : accuracy_RF_countvector,\n",
    "                    'accuracy_RF_ngram_tfidf' : accuracy_RF_ngram_tfidf,\n",
    "                    'accuracy_SVM_wordlevel_tfidf': accuracy_SVM_wordlevel_tfidf,\n",
    "                    'accuracy_SVM_countvectors': accuracy_SVM_countvectors,\n",
    "                    'accuracy_SVM_ngram_tfidf' : accuracy_SVM_ngram_tfidf\n",
    "                   })"
   ]
  },
  {
   "cell_type": "code",
   "execution_count": 109,
   "metadata": {},
   "outputs": [],
   "source": [
    "df_acc_desc_list =  ['accuracy_NB_wordlevel_tfidf','accuracy_NB_countvectors','accuracy_NB_ngram_tfidf',\n",
    "                    'accuracy_RF_wordlevel_tfidf',\n",
    "                    'accuracy_RF_countvector' ,\n",
    "                    'accuracy_RF_ngram_tfidf' ,\n",
    "                    'accuracy_SVM_wordlevel_tfidf',\n",
    "                    'accuracy_SVM_countvectors',\n",
    "                    'accuracy_SVM_ngram_tfidf' \n",
    "                    ]"
   ]
  },
  {
   "cell_type": "code",
   "execution_count": 112,
   "metadata": {},
   "outputs": [],
   "source": [
    "df_accuracy = pd.DataFrame({'Accuracy':df_acc_list,'Accuracy_desc':df_acc_desc_list})"
   ]
  },
  {
   "cell_type": "code",
   "execution_count": 113,
   "metadata": {},
   "outputs": [
    {
     "data": {
      "text/html": [
       "<div>\n",
       "<style scoped>\n",
       "    .dataframe tbody tr th:only-of-type {\n",
       "        vertical-align: middle;\n",
       "    }\n",
       "\n",
       "    .dataframe tbody tr th {\n",
       "        vertical-align: top;\n",
       "    }\n",
       "\n",
       "    .dataframe thead th {\n",
       "        text-align: right;\n",
       "    }\n",
       "</style>\n",
       "<table border=\"1\" class=\"dataframe\">\n",
       "  <thead>\n",
       "    <tr style=\"text-align: right;\">\n",
       "      <th></th>\n",
       "      <th>Accuracy</th>\n",
       "      <th>Accuracy_desc</th>\n",
       "    </tr>\n",
       "  </thead>\n",
       "  <tbody>\n",
       "    <tr>\n",
       "      <th>0</th>\n",
       "      <td>0.985075</td>\n",
       "      <td>accuracy_NB_wordlevel_tfidf</td>\n",
       "    </tr>\n",
       "    <tr>\n",
       "      <th>1</th>\n",
       "      <td>1.000000</td>\n",
       "      <td>accuracy_NB_countvectors</td>\n",
       "    </tr>\n",
       "    <tr>\n",
       "      <th>2</th>\n",
       "      <td>1.000000</td>\n",
       "      <td>accuracy_NB_ngram_tfidf</td>\n",
       "    </tr>\n",
       "    <tr>\n",
       "      <th>3</th>\n",
       "      <td>0.985075</td>\n",
       "      <td>accuracy_RF_wordlevel_tfidf</td>\n",
       "    </tr>\n",
       "    <tr>\n",
       "      <th>4</th>\n",
       "      <td>0.985075</td>\n",
       "      <td>accuracy_RF_countvector</td>\n",
       "    </tr>\n",
       "    <tr>\n",
       "      <th>5</th>\n",
       "      <td>0.985075</td>\n",
       "      <td>accuracy_RF_ngram_tfidf</td>\n",
       "    </tr>\n",
       "    <tr>\n",
       "      <th>6</th>\n",
       "      <td>0.208955</td>\n",
       "      <td>accuracy_SVM_wordlevel_tfidf</td>\n",
       "    </tr>\n",
       "    <tr>\n",
       "      <th>7</th>\n",
       "      <td>0.880597</td>\n",
       "      <td>accuracy_SVM_countvectors</td>\n",
       "    </tr>\n",
       "    <tr>\n",
       "      <th>8</th>\n",
       "      <td>0.208955</td>\n",
       "      <td>accuracy_SVM_ngram_tfidf</td>\n",
       "    </tr>\n",
       "  </tbody>\n",
       "</table>\n",
       "</div>"
      ],
      "text/plain": [
       "   Accuracy                 Accuracy_desc\n",
       "0  0.985075   accuracy_NB_wordlevel_tfidf\n",
       "1  1.000000      accuracy_NB_countvectors\n",
       "2  1.000000       accuracy_NB_ngram_tfidf\n",
       "3  0.985075   accuracy_RF_wordlevel_tfidf\n",
       "4  0.985075       accuracy_RF_countvector\n",
       "5  0.985075       accuracy_RF_ngram_tfidf\n",
       "6  0.208955  accuracy_SVM_wordlevel_tfidf\n",
       "7  0.880597     accuracy_SVM_countvectors\n",
       "8  0.208955      accuracy_SVM_ngram_tfidf"
      ]
     },
     "execution_count": 113,
     "metadata": {},
     "output_type": "execute_result"
    }
   ],
   "source": [
    "df_accuracy"
   ]
  },
  {
   "cell_type": "code",
   "execution_count": 114,
   "metadata": {},
   "outputs": [],
   "source": [
    "df_best_accuracy = df_accuracy[df_accuracy['Accuracy']==df_accuracy['Accuracy'].max()]"
   ]
  },
  {
   "cell_type": "code",
   "execution_count": 115,
   "metadata": {
    "scrolled": true
   },
   "outputs": [
    {
     "data": {
      "text/html": [
       "<div>\n",
       "<style scoped>\n",
       "    .dataframe tbody tr th:only-of-type {\n",
       "        vertical-align: middle;\n",
       "    }\n",
       "\n",
       "    .dataframe tbody tr th {\n",
       "        vertical-align: top;\n",
       "    }\n",
       "\n",
       "    .dataframe thead th {\n",
       "        text-align: right;\n",
       "    }\n",
       "</style>\n",
       "<table border=\"1\" class=\"dataframe\">\n",
       "  <thead>\n",
       "    <tr style=\"text-align: right;\">\n",
       "      <th></th>\n",
       "      <th>Accuracy</th>\n",
       "      <th>Accuracy_desc</th>\n",
       "    </tr>\n",
       "  </thead>\n",
       "  <tbody>\n",
       "    <tr>\n",
       "      <th>1</th>\n",
       "      <td>1.0</td>\n",
       "      <td>accuracy_NB_countvectors</td>\n",
       "    </tr>\n",
       "    <tr>\n",
       "      <th>2</th>\n",
       "      <td>1.0</td>\n",
       "      <td>accuracy_NB_ngram_tfidf</td>\n",
       "    </tr>\n",
       "  </tbody>\n",
       "</table>\n",
       "</div>"
      ],
      "text/plain": [
       "   Accuracy             Accuracy_desc\n",
       "1       1.0  accuracy_NB_countvectors\n",
       "2       1.0   accuracy_NB_ngram_tfidf"
      ]
     },
     "execution_count": 115,
     "metadata": {},
     "output_type": "execute_result"
    }
   ],
   "source": [
    "df_best_accuracy"
   ]
  },
  {
   "cell_type": "code",
   "execution_count": 116,
   "metadata": {},
   "outputs": [
    {
     "name": "stderr",
     "output_type": "stream",
     "text": [
      "C:\\ProgramData\\Anaconda3\\lib\\site-packages\\ipykernel_launcher.py:1: SettingWithCopyWarning: \n",
      "A value is trying to be set on a copy of a slice from a DataFrame.\n",
      "Try using .loc[row_indexer,col_indexer] = value instead\n",
      "\n",
      "See the caveats in the documentation: http://pandas.pydata.org/pandas-docs/stable/indexing.html#indexing-view-versus-copy\n",
      "  \"\"\"Entry point for launching an IPython kernel.\n"
     ]
    }
   ],
   "source": [
    "df_best_accuracy['Accuracy_c'] = df_best_accuracy['Accuracy_desc'].apply(lambda x: 1 if x == 'accuracy_NB_ngram_tfidf'\n",
    "                                                                        else 2 if x == 'accuracy_RF_ngram_tfidf'\n",
    "                                                                        else 3 if x == 'accuracy_SVM_ngram_tfidf'\n",
    "                                                                        else 4 if x == 'accuracy_NB_wordlevel_tfidf'\n",
    "                                                                        else 5 if x == 'accuracy_RF_wordlevel_tfidf' \n",
    "                                                                        else 6 if x == 'accuracy_SVM_wordlevel_tfidf'\n",
    "                                                                        else 7 if x == 'accuracy_NB_countvectors'\n",
    "                                                                        else 8 if x == 'accuracy_RF_countvector' \n",
    "                                                                        else 9 if x == 'accuracy_SVM_countvectors'\n",
    "                                                                        else 10                                                                      \n",
    "                                                                         \n",
    "                                                             \n",
    "                                                             )"
   ]
  },
  {
   "cell_type": "code",
   "execution_count": 117,
   "metadata": {
    "scrolled": true
   },
   "outputs": [
    {
     "data": {
      "text/plain": [
       "1    7\n",
       "2    1\n",
       "Name: Accuracy_c, dtype: int64"
      ]
     },
     "execution_count": 117,
     "metadata": {},
     "output_type": "execute_result"
    }
   ],
   "source": [
    "df_best_accuracy['Accuracy_c']"
   ]
  },
  {
   "cell_type": "code",
   "execution_count": 118,
   "metadata": {},
   "outputs": [
    {
     "data": {
      "text/html": [
       "<div>\n",
       "<style scoped>\n",
       "    .dataframe tbody tr th:only-of-type {\n",
       "        vertical-align: middle;\n",
       "    }\n",
       "\n",
       "    .dataframe tbody tr th {\n",
       "        vertical-align: top;\n",
       "    }\n",
       "\n",
       "    .dataframe thead th {\n",
       "        text-align: right;\n",
       "    }\n",
       "</style>\n",
       "<table border=\"1\" class=\"dataframe\">\n",
       "  <thead>\n",
       "    <tr style=\"text-align: right;\">\n",
       "      <th></th>\n",
       "      <th>Accuracy</th>\n",
       "      <th>Accuracy_desc</th>\n",
       "      <th>Accuracy_c</th>\n",
       "    </tr>\n",
       "  </thead>\n",
       "  <tbody>\n",
       "    <tr>\n",
       "      <th>2</th>\n",
       "      <td>1.0</td>\n",
       "      <td>accuracy_NB_ngram_tfidf</td>\n",
       "      <td>1</td>\n",
       "    </tr>\n",
       "  </tbody>\n",
       "</table>\n",
       "</div>"
      ],
      "text/plain": [
       "   Accuracy            Accuracy_desc  Accuracy_c\n",
       "2       1.0  accuracy_NB_ngram_tfidf           1"
      ]
     },
     "execution_count": 118,
     "metadata": {},
     "output_type": "execute_result"
    }
   ],
   "source": [
    "df_accuracy_final = df_best_accuracy.sort_values('Accuracy_c', ascending=True).head(1)\n",
    "df_accuracy_final "
   ]
  },
  {
   "cell_type": "code",
   "execution_count": 119,
   "metadata": {},
   "outputs": [],
   "source": [
    "#filename = 'finalized_train_model.sav'\n",
    "#filename_tfidf_model = 'tfidf_train_model.sav'"
   ]
  },
  {
   "cell_type": "code",
   "execution_count": 120,
   "metadata": {},
   "outputs": [],
   "source": [
    "#pickle.dump(clas_NB_ngram_tfidf, open(filename, 'wb'))\n",
    "#pickle.dump(tfidf_vect_ngram, open(filename_tfidf_ngram, 'wb'))"
   ]
  },
  {
   "cell_type": "code",
   "execution_count": 121,
   "metadata": {
    "scrolled": true
   },
   "outputs": [],
   "source": [
    "df_predictions = pd.DataFrame() \n",
    "if df_accuracy_final['Accuracy_c'].any() == 1:\n",
    "    df_predictions = pd.DataFrame({'Predictions':predictions_NB_ngram_tfidf})\n",
    "    pickle.dump(clas_NB_ngram_tfidf, open('finalized_train_model.sav', 'wb'))\n",
    "    pickle.dump(tfidf_vect_ngram, open('tfidf_train_model.sav', 'wb'))\n",
    "elif df_accuracy_final['Accuracy_c'].any() == 2:\n",
    "    df_predictions = pd.DataFrame({'Predictions':predictions_RF_ngram_tfidf})\n",
    "    pickle.dump(clas_RF_ngram_tfidf, open('finalized_train_model.sav', 'wb'))\n",
    "    pickle.dump(tfidf_vect_ngram, open('tfidf_train_model.sav', 'wb'))\n",
    "elif df_accuracy_final['Accuracy_c'].any() == 3:\n",
    "    df_predictions = pd.DataFrame({'Predictions':predictions_SVM_ngram_tfidf})\n",
    "    pickle.dump(clas_SVM_ngram_tfidf, open('finalized_train_model.sav', 'wb'))\n",
    "    pickle.dump(tfidf_vect_ngram, open('tfidf_train_model.sav', 'wb'))\n",
    "elif df_accuracy_final['Accuracy_c'].any() == 4:\n",
    "    df_predictions = pd.DataFrame({'Predictions':predictions_NB_wordlevel_tfidf})\n",
    "    pickle.dump(clas_NB_wordlevel_tfidf, open('finalized_train_model.sav', 'wb'))\n",
    "    pickle.dump(tfidf_vect, open('tfidf_train_model.sav', 'wb'))\n",
    "elif df_accuracy_final['Accuracy_c'].any() == 5:\n",
    "    df_predictions = pd.DataFrame({'Predictions':predictions_RF_wordlevel_tfidf})\n",
    "    pickle.dump(clas_RF_wordlevel_tfidf, open('finalized_train_model.sav', 'wb'))\n",
    "    pickle.dump(tfidf_vect, open('tfidf_train_model.sav', 'wb'))\n",
    "elif df_accuracy_final['Accuracy_c'].any() == 6:\n",
    "    df_predictions = pd.DataFrame({'Predictions':predictions_SVM_wordlevel_tfidf})\n",
    "    pickle.dump(clas_SVM_wordlevel_tfidf, open('finalized_train_model.sav', 'wb'))\n",
    "    pickle.dump(tfidf_vect, open('tfidf_train_model.sav', 'wb'))\n",
    "elif df_accuracy_final['Accuracy_c'].any() == 7:\n",
    "    df_predictions = pd.DataFrame({'Predictions':predictions_NB_countvectors})\n",
    "    pickle.dump(clas_NB_countvectors, open('finalized_train_model.sav', 'wb'))\n",
    "    pickle.dump(count_vect, open('tfidf_train_model.sav', 'wb'))\n",
    "elif df_accuracy_final['Accuracy_c'].any() == 8:\n",
    "    df_predictions = pd.DataFrame({'Predictions':predictions_RF_countvector})\n",
    "    pickle.dump(clas_RF_countvector, open('finalized_train_model.sav', 'wb'))\n",
    "    pickle.dump(count_vect, open('tfidf_train_model.sav', 'wb'))\n",
    "elif df_accuracy_final['Accuracy_c'].any() == 9:\n",
    "    df_predictions = pd.DataFrame({'Predictions':predictions_SVM_countvectors})\n",
    "    pickle.dump(clas_SVM_countvectors, open('finalized_train_model.sav', 'wb'))\n",
    "    pickle.dump(count_vect, open('tfidf_train_model.sav', 'wb'))\n"
   ]
  },
  {
   "cell_type": "code",
   "execution_count": 122,
   "metadata": {},
   "outputs": [],
   "source": [
    "#df_predictions"
   ]
  },
  {
   "cell_type": "code",
   "execution_count": 123,
   "metadata": {},
   "outputs": [],
   "source": [
    "df_predictions['predicted_label'] = df_predictions['Predictions'].apply(lambda x: 'Localhost_access' if x== 0 else 'Localhost' if x == 1 \n",
    "                                                                   else 'catalina' if x==2 \n",
    "                                                                   else  'Informatica' if x==3 \n",
    "                                                                   else  'NaN'\n",
    "                                                             \n",
    "                                                             )"
   ]
  },
  {
   "cell_type": "code",
   "execution_count": 124,
   "metadata": {},
   "outputs": [],
   "source": [
    "df_predictions['actual_label_encoded'] = valid_y"
   ]
  },
  {
   "cell_type": "code",
   "execution_count": 125,
   "metadata": {},
   "outputs": [],
   "source": [
    "df_predictions['actual_label'] = df_predictions['actual_label_encoded'].apply(lambda x: 'Localhost_access' if x== 0 else 'Localhost' if x == 1 \n",
    "                                                                   else 'catalina' if x==2 \n",
    "                                                                   else  'Informatica' if x==3 \n",
    "                                                                   else  'NaN'\n",
    "                                                             \n",
    "                                                             )"
   ]
  },
  {
   "cell_type": "code",
   "execution_count": 126,
   "metadata": {
    "scrolled": false
   },
   "outputs": [
    {
     "data": {
      "text/html": [
       "<div>\n",
       "<style scoped>\n",
       "    .dataframe tbody tr th:only-of-type {\n",
       "        vertical-align: middle;\n",
       "    }\n",
       "\n",
       "    .dataframe tbody tr th {\n",
       "        vertical-align: top;\n",
       "    }\n",
       "\n",
       "    .dataframe thead th {\n",
       "        text-align: right;\n",
       "    }\n",
       "</style>\n",
       "<table border=\"1\" class=\"dataframe\">\n",
       "  <thead>\n",
       "    <tr style=\"text-align: right;\">\n",
       "      <th></th>\n",
       "      <th>Predictions</th>\n",
       "      <th>predicted_label</th>\n",
       "      <th>actual_label_encoded</th>\n",
       "      <th>actual_label</th>\n",
       "    </tr>\n",
       "  </thead>\n",
       "  <tbody>\n",
       "    <tr>\n",
       "      <th>0</th>\n",
       "      <td>0</td>\n",
       "      <td>Localhost_access</td>\n",
       "      <td>0</td>\n",
       "      <td>Localhost_access</td>\n",
       "    </tr>\n",
       "    <tr>\n",
       "      <th>1</th>\n",
       "      <td>3</td>\n",
       "      <td>Informatica</td>\n",
       "      <td>3</td>\n",
       "      <td>Informatica</td>\n",
       "    </tr>\n",
       "    <tr>\n",
       "      <th>2</th>\n",
       "      <td>0</td>\n",
       "      <td>Localhost_access</td>\n",
       "      <td>0</td>\n",
       "      <td>Localhost_access</td>\n",
       "    </tr>\n",
       "    <tr>\n",
       "      <th>3</th>\n",
       "      <td>2</td>\n",
       "      <td>catalina</td>\n",
       "      <td>2</td>\n",
       "      <td>catalina</td>\n",
       "    </tr>\n",
       "    <tr>\n",
       "      <th>4</th>\n",
       "      <td>0</td>\n",
       "      <td>Localhost_access</td>\n",
       "      <td>0</td>\n",
       "      <td>Localhost_access</td>\n",
       "    </tr>\n",
       "    <tr>\n",
       "      <th>5</th>\n",
       "      <td>0</td>\n",
       "      <td>Localhost_access</td>\n",
       "      <td>0</td>\n",
       "      <td>Localhost_access</td>\n",
       "    </tr>\n",
       "    <tr>\n",
       "      <th>6</th>\n",
       "      <td>0</td>\n",
       "      <td>Localhost_access</td>\n",
       "      <td>0</td>\n",
       "      <td>Localhost_access</td>\n",
       "    </tr>\n",
       "    <tr>\n",
       "      <th>7</th>\n",
       "      <td>0</td>\n",
       "      <td>Localhost_access</td>\n",
       "      <td>0</td>\n",
       "      <td>Localhost_access</td>\n",
       "    </tr>\n",
       "    <tr>\n",
       "      <th>8</th>\n",
       "      <td>2</td>\n",
       "      <td>catalina</td>\n",
       "      <td>2</td>\n",
       "      <td>catalina</td>\n",
       "    </tr>\n",
       "    <tr>\n",
       "      <th>9</th>\n",
       "      <td>2</td>\n",
       "      <td>catalina</td>\n",
       "      <td>2</td>\n",
       "      <td>catalina</td>\n",
       "    </tr>\n",
       "    <tr>\n",
       "      <th>10</th>\n",
       "      <td>2</td>\n",
       "      <td>catalina</td>\n",
       "      <td>2</td>\n",
       "      <td>catalina</td>\n",
       "    </tr>\n",
       "    <tr>\n",
       "      <th>11</th>\n",
       "      <td>3</td>\n",
       "      <td>Informatica</td>\n",
       "      <td>3</td>\n",
       "      <td>Informatica</td>\n",
       "    </tr>\n",
       "    <tr>\n",
       "      <th>12</th>\n",
       "      <td>0</td>\n",
       "      <td>Localhost_access</td>\n",
       "      <td>0</td>\n",
       "      <td>Localhost_access</td>\n",
       "    </tr>\n",
       "    <tr>\n",
       "      <th>13</th>\n",
       "      <td>2</td>\n",
       "      <td>catalina</td>\n",
       "      <td>2</td>\n",
       "      <td>catalina</td>\n",
       "    </tr>\n",
       "    <tr>\n",
       "      <th>14</th>\n",
       "      <td>3</td>\n",
       "      <td>Informatica</td>\n",
       "      <td>3</td>\n",
       "      <td>Informatica</td>\n",
       "    </tr>\n",
       "    <tr>\n",
       "      <th>15</th>\n",
       "      <td>2</td>\n",
       "      <td>catalina</td>\n",
       "      <td>2</td>\n",
       "      <td>catalina</td>\n",
       "    </tr>\n",
       "    <tr>\n",
       "      <th>16</th>\n",
       "      <td>2</td>\n",
       "      <td>catalina</td>\n",
       "      <td>2</td>\n",
       "      <td>catalina</td>\n",
       "    </tr>\n",
       "    <tr>\n",
       "      <th>17</th>\n",
       "      <td>3</td>\n",
       "      <td>Informatica</td>\n",
       "      <td>3</td>\n",
       "      <td>Informatica</td>\n",
       "    </tr>\n",
       "    <tr>\n",
       "      <th>18</th>\n",
       "      <td>2</td>\n",
       "      <td>catalina</td>\n",
       "      <td>2</td>\n",
       "      <td>catalina</td>\n",
       "    </tr>\n",
       "    <tr>\n",
       "      <th>19</th>\n",
       "      <td>0</td>\n",
       "      <td>Localhost_access</td>\n",
       "      <td>0</td>\n",
       "      <td>Localhost_access</td>\n",
       "    </tr>\n",
       "    <tr>\n",
       "      <th>20</th>\n",
       "      <td>3</td>\n",
       "      <td>Informatica</td>\n",
       "      <td>3</td>\n",
       "      <td>Informatica</td>\n",
       "    </tr>\n",
       "    <tr>\n",
       "      <th>21</th>\n",
       "      <td>2</td>\n",
       "      <td>catalina</td>\n",
       "      <td>2</td>\n",
       "      <td>catalina</td>\n",
       "    </tr>\n",
       "    <tr>\n",
       "      <th>22</th>\n",
       "      <td>0</td>\n",
       "      <td>Localhost_access</td>\n",
       "      <td>0</td>\n",
       "      <td>Localhost_access</td>\n",
       "    </tr>\n",
       "    <tr>\n",
       "      <th>23</th>\n",
       "      <td>2</td>\n",
       "      <td>catalina</td>\n",
       "      <td>2</td>\n",
       "      <td>catalina</td>\n",
       "    </tr>\n",
       "    <tr>\n",
       "      <th>24</th>\n",
       "      <td>2</td>\n",
       "      <td>catalina</td>\n",
       "      <td>2</td>\n",
       "      <td>catalina</td>\n",
       "    </tr>\n",
       "    <tr>\n",
       "      <th>25</th>\n",
       "      <td>2</td>\n",
       "      <td>catalina</td>\n",
       "      <td>2</td>\n",
       "      <td>catalina</td>\n",
       "    </tr>\n",
       "    <tr>\n",
       "      <th>26</th>\n",
       "      <td>2</td>\n",
       "      <td>catalina</td>\n",
       "      <td>2</td>\n",
       "      <td>catalina</td>\n",
       "    </tr>\n",
       "    <tr>\n",
       "      <th>27</th>\n",
       "      <td>3</td>\n",
       "      <td>Informatica</td>\n",
       "      <td>3</td>\n",
       "      <td>Informatica</td>\n",
       "    </tr>\n",
       "    <tr>\n",
       "      <th>28</th>\n",
       "      <td>0</td>\n",
       "      <td>Localhost_access</td>\n",
       "      <td>0</td>\n",
       "      <td>Localhost_access</td>\n",
       "    </tr>\n",
       "    <tr>\n",
       "      <th>29</th>\n",
       "      <td>2</td>\n",
       "      <td>catalina</td>\n",
       "      <td>2</td>\n",
       "      <td>catalina</td>\n",
       "    </tr>\n",
       "    <tr>\n",
       "      <th>...</th>\n",
       "      <td>...</td>\n",
       "      <td>...</td>\n",
       "      <td>...</td>\n",
       "      <td>...</td>\n",
       "    </tr>\n",
       "    <tr>\n",
       "      <th>37</th>\n",
       "      <td>0</td>\n",
       "      <td>Localhost_access</td>\n",
       "      <td>0</td>\n",
       "      <td>Localhost_access</td>\n",
       "    </tr>\n",
       "    <tr>\n",
       "      <th>38</th>\n",
       "      <td>2</td>\n",
       "      <td>catalina</td>\n",
       "      <td>2</td>\n",
       "      <td>catalina</td>\n",
       "    </tr>\n",
       "    <tr>\n",
       "      <th>39</th>\n",
       "      <td>3</td>\n",
       "      <td>Informatica</td>\n",
       "      <td>3</td>\n",
       "      <td>Informatica</td>\n",
       "    </tr>\n",
       "    <tr>\n",
       "      <th>40</th>\n",
       "      <td>3</td>\n",
       "      <td>Informatica</td>\n",
       "      <td>3</td>\n",
       "      <td>Informatica</td>\n",
       "    </tr>\n",
       "    <tr>\n",
       "      <th>41</th>\n",
       "      <td>1</td>\n",
       "      <td>Localhost</td>\n",
       "      <td>1</td>\n",
       "      <td>Localhost</td>\n",
       "    </tr>\n",
       "    <tr>\n",
       "      <th>42</th>\n",
       "      <td>1</td>\n",
       "      <td>Localhost</td>\n",
       "      <td>1</td>\n",
       "      <td>Localhost</td>\n",
       "    </tr>\n",
       "    <tr>\n",
       "      <th>43</th>\n",
       "      <td>0</td>\n",
       "      <td>Localhost_access</td>\n",
       "      <td>0</td>\n",
       "      <td>Localhost_access</td>\n",
       "    </tr>\n",
       "    <tr>\n",
       "      <th>44</th>\n",
       "      <td>3</td>\n",
       "      <td>Informatica</td>\n",
       "      <td>3</td>\n",
       "      <td>Informatica</td>\n",
       "    </tr>\n",
       "    <tr>\n",
       "      <th>45</th>\n",
       "      <td>2</td>\n",
       "      <td>catalina</td>\n",
       "      <td>2</td>\n",
       "      <td>catalina</td>\n",
       "    </tr>\n",
       "    <tr>\n",
       "      <th>46</th>\n",
       "      <td>0</td>\n",
       "      <td>Localhost_access</td>\n",
       "      <td>0</td>\n",
       "      <td>Localhost_access</td>\n",
       "    </tr>\n",
       "    <tr>\n",
       "      <th>47</th>\n",
       "      <td>2</td>\n",
       "      <td>catalina</td>\n",
       "      <td>2</td>\n",
       "      <td>catalina</td>\n",
       "    </tr>\n",
       "    <tr>\n",
       "      <th>48</th>\n",
       "      <td>0</td>\n",
       "      <td>Localhost_access</td>\n",
       "      <td>0</td>\n",
       "      <td>Localhost_access</td>\n",
       "    </tr>\n",
       "    <tr>\n",
       "      <th>49</th>\n",
       "      <td>0</td>\n",
       "      <td>Localhost_access</td>\n",
       "      <td>0</td>\n",
       "      <td>Localhost_access</td>\n",
       "    </tr>\n",
       "    <tr>\n",
       "      <th>50</th>\n",
       "      <td>0</td>\n",
       "      <td>Localhost_access</td>\n",
       "      <td>0</td>\n",
       "      <td>Localhost_access</td>\n",
       "    </tr>\n",
       "    <tr>\n",
       "      <th>51</th>\n",
       "      <td>3</td>\n",
       "      <td>Informatica</td>\n",
       "      <td>3</td>\n",
       "      <td>Informatica</td>\n",
       "    </tr>\n",
       "    <tr>\n",
       "      <th>52</th>\n",
       "      <td>0</td>\n",
       "      <td>Localhost_access</td>\n",
       "      <td>0</td>\n",
       "      <td>Localhost_access</td>\n",
       "    </tr>\n",
       "    <tr>\n",
       "      <th>53</th>\n",
       "      <td>0</td>\n",
       "      <td>Localhost_access</td>\n",
       "      <td>0</td>\n",
       "      <td>Localhost_access</td>\n",
       "    </tr>\n",
       "    <tr>\n",
       "      <th>54</th>\n",
       "      <td>1</td>\n",
       "      <td>Localhost</td>\n",
       "      <td>1</td>\n",
       "      <td>Localhost</td>\n",
       "    </tr>\n",
       "    <tr>\n",
       "      <th>55</th>\n",
       "      <td>3</td>\n",
       "      <td>Informatica</td>\n",
       "      <td>3</td>\n",
       "      <td>Informatica</td>\n",
       "    </tr>\n",
       "    <tr>\n",
       "      <th>56</th>\n",
       "      <td>1</td>\n",
       "      <td>Localhost</td>\n",
       "      <td>1</td>\n",
       "      <td>Localhost</td>\n",
       "    </tr>\n",
       "    <tr>\n",
       "      <th>57</th>\n",
       "      <td>0</td>\n",
       "      <td>Localhost_access</td>\n",
       "      <td>0</td>\n",
       "      <td>Localhost_access</td>\n",
       "    </tr>\n",
       "    <tr>\n",
       "      <th>58</th>\n",
       "      <td>2</td>\n",
       "      <td>catalina</td>\n",
       "      <td>2</td>\n",
       "      <td>catalina</td>\n",
       "    </tr>\n",
       "    <tr>\n",
       "      <th>59</th>\n",
       "      <td>3</td>\n",
       "      <td>Informatica</td>\n",
       "      <td>3</td>\n",
       "      <td>Informatica</td>\n",
       "    </tr>\n",
       "    <tr>\n",
       "      <th>60</th>\n",
       "      <td>1</td>\n",
       "      <td>Localhost</td>\n",
       "      <td>1</td>\n",
       "      <td>Localhost</td>\n",
       "    </tr>\n",
       "    <tr>\n",
       "      <th>61</th>\n",
       "      <td>2</td>\n",
       "      <td>catalina</td>\n",
       "      <td>2</td>\n",
       "      <td>catalina</td>\n",
       "    </tr>\n",
       "    <tr>\n",
       "      <th>62</th>\n",
       "      <td>2</td>\n",
       "      <td>catalina</td>\n",
       "      <td>2</td>\n",
       "      <td>catalina</td>\n",
       "    </tr>\n",
       "    <tr>\n",
       "      <th>63</th>\n",
       "      <td>2</td>\n",
       "      <td>catalina</td>\n",
       "      <td>2</td>\n",
       "      <td>catalina</td>\n",
       "    </tr>\n",
       "    <tr>\n",
       "      <th>64</th>\n",
       "      <td>1</td>\n",
       "      <td>Localhost</td>\n",
       "      <td>1</td>\n",
       "      <td>Localhost</td>\n",
       "    </tr>\n",
       "    <tr>\n",
       "      <th>65</th>\n",
       "      <td>2</td>\n",
       "      <td>catalina</td>\n",
       "      <td>2</td>\n",
       "      <td>catalina</td>\n",
       "    </tr>\n",
       "    <tr>\n",
       "      <th>66</th>\n",
       "      <td>3</td>\n",
       "      <td>Informatica</td>\n",
       "      <td>3</td>\n",
       "      <td>Informatica</td>\n",
       "    </tr>\n",
       "  </tbody>\n",
       "</table>\n",
       "<p>67 rows × 4 columns</p>\n",
       "</div>"
      ],
      "text/plain": [
       "    Predictions   predicted_label  actual_label_encoded      actual_label\n",
       "0             0  Localhost_access                     0  Localhost_access\n",
       "1             3       Informatica                     3       Informatica\n",
       "2             0  Localhost_access                     0  Localhost_access\n",
       "3             2          catalina                     2          catalina\n",
       "4             0  Localhost_access                     0  Localhost_access\n",
       "5             0  Localhost_access                     0  Localhost_access\n",
       "6             0  Localhost_access                     0  Localhost_access\n",
       "7             0  Localhost_access                     0  Localhost_access\n",
       "8             2          catalina                     2          catalina\n",
       "9             2          catalina                     2          catalina\n",
       "10            2          catalina                     2          catalina\n",
       "11            3       Informatica                     3       Informatica\n",
       "12            0  Localhost_access                     0  Localhost_access\n",
       "13            2          catalina                     2          catalina\n",
       "14            3       Informatica                     3       Informatica\n",
       "15            2          catalina                     2          catalina\n",
       "16            2          catalina                     2          catalina\n",
       "17            3       Informatica                     3       Informatica\n",
       "18            2          catalina                     2          catalina\n",
       "19            0  Localhost_access                     0  Localhost_access\n",
       "20            3       Informatica                     3       Informatica\n",
       "21            2          catalina                     2          catalina\n",
       "22            0  Localhost_access                     0  Localhost_access\n",
       "23            2          catalina                     2          catalina\n",
       "24            2          catalina                     2          catalina\n",
       "25            2          catalina                     2          catalina\n",
       "26            2          catalina                     2          catalina\n",
       "27            3       Informatica                     3       Informatica\n",
       "28            0  Localhost_access                     0  Localhost_access\n",
       "29            2          catalina                     2          catalina\n",
       "..          ...               ...                   ...               ...\n",
       "37            0  Localhost_access                     0  Localhost_access\n",
       "38            2          catalina                     2          catalina\n",
       "39            3       Informatica                     3       Informatica\n",
       "40            3       Informatica                     3       Informatica\n",
       "41            1         Localhost                     1         Localhost\n",
       "42            1         Localhost                     1         Localhost\n",
       "43            0  Localhost_access                     0  Localhost_access\n",
       "44            3       Informatica                     3       Informatica\n",
       "45            2          catalina                     2          catalina\n",
       "46            0  Localhost_access                     0  Localhost_access\n",
       "47            2          catalina                     2          catalina\n",
       "48            0  Localhost_access                     0  Localhost_access\n",
       "49            0  Localhost_access                     0  Localhost_access\n",
       "50            0  Localhost_access                     0  Localhost_access\n",
       "51            3       Informatica                     3       Informatica\n",
       "52            0  Localhost_access                     0  Localhost_access\n",
       "53            0  Localhost_access                     0  Localhost_access\n",
       "54            1         Localhost                     1         Localhost\n",
       "55            3       Informatica                     3       Informatica\n",
       "56            1         Localhost                     1         Localhost\n",
       "57            0  Localhost_access                     0  Localhost_access\n",
       "58            2          catalina                     2          catalina\n",
       "59            3       Informatica                     3       Informatica\n",
       "60            1         Localhost                     1         Localhost\n",
       "61            2          catalina                     2          catalina\n",
       "62            2          catalina                     2          catalina\n",
       "63            2          catalina                     2          catalina\n",
       "64            1         Localhost                     1         Localhost\n",
       "65            2          catalina                     2          catalina\n",
       "66            3       Informatica                     3       Informatica\n",
       "\n",
       "[67 rows x 4 columns]"
      ]
     },
     "execution_count": 126,
     "metadata": {},
     "output_type": "execute_result"
    }
   ],
   "source": [
    "df_predictions"
   ]
  },
  {
   "cell_type": "markdown",
   "metadata": {},
   "source": [
    "### Cross Validation "
   ]
  },
  {
   "cell_type": "code",
   "execution_count": 127,
   "metadata": {},
   "outputs": [],
   "source": [
    "# Necessary imports: \n",
    "from sklearn.cross_validation import cross_val_score, cross_val_predict\n",
    "from sklearn import metrics"
   ]
  },
  {
   "cell_type": "code",
   "execution_count": 128,
   "metadata": {},
   "outputs": [],
   "source": [
    "# split the dataset into training and validation datasets \n",
    "train_x, valid_x, train_y, valid_y = model_selection.train_test_split(df_final['clean_line'], df_final['label'],test_size=0)"
   ]
  },
  {
   "cell_type": "code",
   "execution_count": 129,
   "metadata": {},
   "outputs": [
    {
     "data": {
      "text/plain": [
       "267"
      ]
     },
     "execution_count": 129,
     "metadata": {},
     "output_type": "execute_result"
    }
   ],
   "source": [
    "len(train_y)"
   ]
  },
  {
   "cell_type": "code",
   "execution_count": 130,
   "metadata": {},
   "outputs": [],
   "source": [
    "# label encode the target variable \n",
    "encoder = preprocessing.LabelEncoder()\n",
    "train_y = encoder.fit_transform(train_y)\n"
   ]
  },
  {
   "cell_type": "code",
   "execution_count": 131,
   "metadata": {},
   "outputs": [
    {
     "data": {
      "text/plain": [
       "CountVectorizer(analyzer='word', binary=False, decode_error='strict',\n",
       "        dtype=<class 'numpy.int64'>, encoding='utf-8', input='content',\n",
       "        lowercase=True, max_df=1.0, max_features=None, min_df=1,\n",
       "        ngram_range=(1, 1), preprocessor=None, stop_words=None,\n",
       "        strip_accents=None, token_pattern='\\\\w{1,}', tokenizer=None,\n",
       "        vocabulary=None)"
      ]
     },
     "execution_count": 131,
     "metadata": {},
     "output_type": "execute_result"
    }
   ],
   "source": [
    "# create a count vectorizer object \n",
    "count_vect = CountVectorizer(analyzer='word', token_pattern=r'\\w{1,}')\n",
    "count_vect.fit(df_final['clean_line'])"
   ]
  },
  {
   "cell_type": "code",
   "execution_count": 132,
   "metadata": {},
   "outputs": [],
   "source": [
    "# transform the training and validation data using count vectorizer object\n",
    "xtrain_count =  count_vect.transform(train_x)\n"
   ]
  },
  {
   "cell_type": "code",
   "execution_count": 133,
   "metadata": {},
   "outputs": [],
   "source": [
    "# word level tf-idf\n",
    "tfidf_vect = TfidfVectorizer(analyzer='word', token_pattern=r'\\w{1,}', max_features=5000)\n",
    "tfidf_vect.fit(df_final['clean_line'])\n",
    "xtrain_tfidf =  tfidf_vect.transform(train_x)\n"
   ]
  },
  {
   "cell_type": "code",
   "execution_count": 134,
   "metadata": {},
   "outputs": [],
   "source": [
    "# ngram level tf-idf \n",
    "tfidf_vect_ngram = TfidfVectorizer(analyzer='word', token_pattern=r'\\w{1,}', ngram_range=(2,3), max_features=5000)\n",
    "tfidf_vect_ngram.fit(df_final['clean_line'])\n",
    "xtrain_tfidf_ngram =  tfidf_vect_ngram.transform(train_x)\n"
   ]
  },
  {
   "cell_type": "code",
   "execution_count": 135,
   "metadata": {},
   "outputs": [],
   "source": [
    "# Perform 6-fold cross validation\n",
    "scores = cross_val_score(naive_bayes.MultinomialNB(), xtrain_tfidf_ngram, train_y, cv=6)"
   ]
  },
  {
   "cell_type": "code",
   "execution_count": 136,
   "metadata": {
    "scrolled": true
   },
   "outputs": [
    {
     "data": {
      "text/plain": [
       "array([1.        , 0.97826087, 1.        , 1.        , 1.        ,\n",
       "       1.        ])"
      ]
     },
     "execution_count": 136,
     "metadata": {},
     "output_type": "execute_result"
    }
   ],
   "source": [
    "scores"
   ]
  },
  {
   "cell_type": "code",
   "execution_count": 137,
   "metadata": {},
   "outputs": [],
   "source": [
    "# Make cross validated predictions\n",
    "predictions = cross_val_predict(naive_bayes.MultinomialNB(), xtrain_tfidf_ngram, train_y, cv=6)\n"
   ]
  },
  {
   "cell_type": "code",
   "execution_count": 138,
   "metadata": {
    "scrolled": false
   },
   "outputs": [
    {
     "data": {
      "text/plain": [
       "array([3, 0, 0, 3, 0, 2, 2, 2, 0, 1, 0, 2, 3, 2, 3, 0, 0, 3, 2, 0, 2, 3,\n",
       "       3, 0, 3, 3, 0, 2, 2, 3, 3, 2, 3, 3, 0, 2, 0, 2, 2, 3, 0, 3, 3, 2,\n",
       "       1, 3, 0, 3, 3, 2, 3, 2, 2, 1, 3, 3, 1, 0, 1, 3, 1, 0, 3, 0, 3, 2,\n",
       "       1, 0, 3, 3, 0, 0, 0, 3, 2, 3, 0, 1, 1, 2, 3, 2, 3, 1, 3, 0, 2, 3,\n",
       "       0, 2, 1, 2, 0, 0, 3, 0, 2, 2, 2, 0, 2, 2, 0, 0, 3, 0, 0, 1, 1, 0,\n",
       "       3, 2, 0, 2, 3, 0, 3, 3, 0, 2, 0, 0, 1, 2, 3, 0, 2, 3, 2, 1, 3, 0,\n",
       "       2, 2, 3, 3, 0, 0, 0, 2, 3, 2, 2, 3, 3, 2, 3, 0, 2, 0, 1, 0, 3, 2,\n",
       "       1, 2, 3, 2, 0, 2, 3, 1, 3, 0, 2, 3, 2, 2, 0, 1, 0, 2, 3, 3, 2, 3,\n",
       "       3, 3, 3, 1, 3, 1, 1, 2, 2, 2, 0, 0, 0, 2, 1, 1, 3, 3, 3, 3, 3, 3,\n",
       "       3, 0, 3, 3, 2, 2, 3, 2, 2, 2, 2, 0, 3, 3, 1, 0, 2, 0, 0, 0, 2, 0,\n",
       "       3, 2, 2, 3, 3, 0, 2, 2, 0, 0, 2, 3, 2, 2, 2, 2, 2, 2, 2, 3, 0, 2,\n",
       "       1, 0, 1, 0, 0, 0, 0, 0, 3, 1, 3, 1, 0, 2, 2, 0, 0, 2, 1, 0, 0, 0,\n",
       "       1, 2, 3], dtype=int64)"
      ]
     },
     "execution_count": 138,
     "metadata": {},
     "output_type": "execute_result"
    }
   ],
   "source": [
    "predictions"
   ]
  },
  {
   "cell_type": "code",
   "execution_count": 139,
   "metadata": {},
   "outputs": [],
   "source": [
    "accuracy = metrics.accuracy_score(train_y, predictions)\n"
   ]
  },
  {
   "cell_type": "code",
   "execution_count": 140,
   "metadata": {
    "scrolled": false
   },
   "outputs": [
    {
     "data": {
      "text/plain": [
       "0.9962546816479401"
      ]
     },
     "execution_count": 140,
     "metadata": {},
     "output_type": "execute_result"
    }
   ],
   "source": [
    "accuracy"
   ]
  }
 ],
 "metadata": {
  "kernelspec": {
   "display_name": "Python 3",
   "language": "python",
   "name": "python3"
  },
  "language_info": {
   "codemirror_mode": {
    "name": "ipython",
    "version": 3
   },
   "file_extension": ".py",
   "mimetype": "text/x-python",
   "name": "python",
   "nbconvert_exporter": "python",
   "pygments_lexer": "ipython3",
   "version": "3.6.7"
  }
 },
 "nbformat": 4,
 "nbformat_minor": 2
}
